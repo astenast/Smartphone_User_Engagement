{
 "cells": [
  {
   "cell_type": "code",
   "execution_count": 53,
   "id": "f11b2ac7",
   "metadata": {},
   "outputs": [],
   "source": [
    "import pandas as pd\n",
    "import os\n",
    "import zipfile\n",
    "import glob\n",
    "from pathlib import Path\n",
    "import calendar\n",
    "from datetime import datetime"
   ]
  },
  {
   "cell_type": "markdown",
   "id": "fc66df94",
   "metadata": {},
   "source": [
    "As mentioned during the meeting, the dataset includes phone checks of 10K users in the time between 2016 and 2019. \n",
    " \n",
    "Each user has been selected with the following inclusion criteria:\n",
    "-\tActive for at least 6 months (a month is here considered as 30 days)\n",
    "-\tHaving at least 90% coverage (i.e. being active at least 90% of the days in the time span)\n",
    " \n",
    "The dataset is stored in parquet files (about 3GB accessible via pandas read_parquet function or pyspark) and it is in the form of a dataframe having 3 columns:\n",
    "-\tuser_id (int): number between 0-9999 indicating the id of a user;\n",
    "-\tstart_time_unix (timestamp): unix timestamp indicating the starting time of a phone check;\n",
    "-\tend_time_unix (timestamp): unix timestamp indicating the ending time of a phone check."
   ]
  },
  {
   "cell_type": "markdown",
   "id": "e65ca84e",
   "metadata": {},
   "source": [
    "### Reading the data"
   ]
  },
  {
   "cell_type": "code",
   "execution_count": 21,
   "id": "60cc9b29",
   "metadata": {},
   "outputs": [],
   "source": [
    "fileName = 'data_for_AsteriosIlektra'\n",
    "filePath = os.path.abspath(os.path.join(os.getcwd(), fileName))\n",
    "data_dir = Path(filePath)"
   ]
  },
  {
   "cell_type": "code",
   "execution_count": 22,
   "id": "dd4c3d65",
   "metadata": {},
   "outputs": [],
   "source": [
    "full_df = pd.concat(\n",
    "    pd.read_parquet(parquet_file)\n",
    "    for parquet_file in data_dir.glob('*.parquet')\n",
    ")\n",
    "#full_df.to_csv('csv_file.csv')"
   ]
  },
  {
   "cell_type": "markdown",
   "id": "482a20f5",
   "metadata": {},
   "source": [
    "#### New dataset, user id and how many times have opened their phone generally"
   ]
  },
  {
   "cell_type": "code",
   "execution_count": 23,
   "id": "0388ee58",
   "metadata": {},
   "outputs": [],
   "source": [
    "users_times_accessed = pd.DataFrame(full_df.groupby(['user_id'])['start_time_unix'].count())"
   ]
  },
  {
   "cell_type": "markdown",
   "id": "7774a478",
   "metadata": {},
   "source": [
    "### Making new features"
   ]
  },
  {
   "cell_type": "markdown",
   "id": "250a4b8a",
   "metadata": {},
   "source": [
    "#### Year, month, days (numeric and strings) etc."
   ]
  },
  {
   "cell_type": "code",
   "execution_count": 24,
   "id": "bbd568da",
   "metadata": {},
   "outputs": [],
   "source": [
    "full_df['start_time'] = pd.to_datetime(full_df['start_time_unix'], unit='s', origin='unix')\n",
    "full_df['end_time'] = pd.to_datetime(full_df['end_time_unix'], unit='s', origin='unix')"
   ]
  },
  {
   "cell_type": "code",
   "execution_count": 25,
   "id": "2309fef6",
   "metadata": {},
   "outputs": [],
   "source": [
    "#pd.to_datetime(full_df['start_time_unix']).dt.year.unique()"
   ]
  },
  {
   "cell_type": "code",
   "execution_count": 26,
   "id": "ec09ef6e",
   "metadata": {},
   "outputs": [],
   "source": [
    "full_df['year'] = pd.to_datetime(full_df['start_time']).dt.year\n",
    "full_df['month'] = pd.to_datetime(full_df['start_time']).dt.month\n",
    "full_df['weekday'] = pd.to_datetime(full_df['start_time']).dt.weekday # monday is 0\n",
    "full_df['day'] = pd.to_datetime(full_df['start_time']).dt.day\n",
    "full_df['Day'] = pd.to_datetime(full_df['start_time']).dt.strftime('%A') #day numeric\n",
    "full_df['hour'] = pd.to_datetime(full_df['start_time']).dt.hour\n",
    "full_df['minute'] = pd.to_datetime(full_df['start_time']).dt.minute\n",
    "full_df['second'] = pd.to_datetime(full_df['start_time']).dt.second"
   ]
  },
  {
   "cell_type": "code",
   "execution_count": 27,
   "id": "4c2c4f88",
   "metadata": {},
   "outputs": [
    {
     "data": {
      "text/html": [
       "<div>\n",
       "<style scoped>\n",
       "    .dataframe tbody tr th:only-of-type {\n",
       "        vertical-align: middle;\n",
       "    }\n",
       "\n",
       "    .dataframe tbody tr th {\n",
       "        vertical-align: top;\n",
       "    }\n",
       "\n",
       "    .dataframe thead th {\n",
       "        text-align: right;\n",
       "    }\n",
       "</style>\n",
       "<table border=\"1\" class=\"dataframe\">\n",
       "  <thead>\n",
       "    <tr style=\"text-align: right;\">\n",
       "      <th></th>\n",
       "      <th>start_time_unix</th>\n",
       "      <th>end_time_unix</th>\n",
       "      <th>user_id</th>\n",
       "      <th>start_time</th>\n",
       "      <th>end_time</th>\n",
       "      <th>year</th>\n",
       "      <th>month</th>\n",
       "      <th>weekday</th>\n",
       "      <th>day</th>\n",
       "      <th>hour</th>\n",
       "      <th>minute</th>\n",
       "      <th>second</th>\n",
       "    </tr>\n",
       "  </thead>\n",
       "  <tbody>\n",
       "    <tr>\n",
       "      <th>0</th>\n",
       "      <td>1509974112</td>\n",
       "      <td>1509974166</td>\n",
       "      <td>8953</td>\n",
       "      <td>2017-11-06 13:15:12</td>\n",
       "      <td>2017-11-06 13:16:06</td>\n",
       "      <td>2017</td>\n",
       "      <td>11</td>\n",
       "      <td>0</td>\n",
       "      <td>6</td>\n",
       "      <td>13</td>\n",
       "      <td>15</td>\n",
       "      <td>12</td>\n",
       "    </tr>\n",
       "    <tr>\n",
       "      <th>1</th>\n",
       "      <td>1485290512</td>\n",
       "      <td>1485291345</td>\n",
       "      <td>3633</td>\n",
       "      <td>2017-01-24 20:41:52</td>\n",
       "      <td>2017-01-24 20:55:45</td>\n",
       "      <td>2017</td>\n",
       "      <td>1</td>\n",
       "      <td>1</td>\n",
       "      <td>24</td>\n",
       "      <td>20</td>\n",
       "      <td>41</td>\n",
       "      <td>52</td>\n",
       "    </tr>\n",
       "    <tr>\n",
       "      <th>2</th>\n",
       "      <td>1542211846</td>\n",
       "      <td>1542211886</td>\n",
       "      <td>3633</td>\n",
       "      <td>2018-11-14 16:10:46</td>\n",
       "      <td>2018-11-14 16:11:26</td>\n",
       "      <td>2018</td>\n",
       "      <td>11</td>\n",
       "      <td>2</td>\n",
       "      <td>14</td>\n",
       "      <td>16</td>\n",
       "      <td>10</td>\n",
       "      <td>46</td>\n",
       "    </tr>\n",
       "    <tr>\n",
       "      <th>3</th>\n",
       "      <td>1545775959</td>\n",
       "      <td>1545775979</td>\n",
       "      <td>3633</td>\n",
       "      <td>2018-12-25 22:12:39</td>\n",
       "      <td>2018-12-25 22:12:59</td>\n",
       "      <td>2018</td>\n",
       "      <td>12</td>\n",
       "      <td>1</td>\n",
       "      <td>25</td>\n",
       "      <td>22</td>\n",
       "      <td>12</td>\n",
       "      <td>39</td>\n",
       "    </tr>\n",
       "    <tr>\n",
       "      <th>4</th>\n",
       "      <td>1503749278</td>\n",
       "      <td>1503749288</td>\n",
       "      <td>3633</td>\n",
       "      <td>2017-08-26 12:07:58</td>\n",
       "      <td>2017-08-26 12:08:08</td>\n",
       "      <td>2017</td>\n",
       "      <td>8</td>\n",
       "      <td>5</td>\n",
       "      <td>26</td>\n",
       "      <td>12</td>\n",
       "      <td>7</td>\n",
       "      <td>58</td>\n",
       "    </tr>\n",
       "    <tr>\n",
       "      <th>...</th>\n",
       "      <td>...</td>\n",
       "      <td>...</td>\n",
       "      <td>...</td>\n",
       "      <td>...</td>\n",
       "      <td>...</td>\n",
       "      <td>...</td>\n",
       "      <td>...</td>\n",
       "      <td>...</td>\n",
       "      <td>...</td>\n",
       "      <td>...</td>\n",
       "      <td>...</td>\n",
       "      <td>...</td>\n",
       "    </tr>\n",
       "    <tr>\n",
       "      <th>727777</th>\n",
       "      <td>1508853633</td>\n",
       "      <td>1508853643</td>\n",
       "      <td>4117</td>\n",
       "      <td>2017-10-24 14:00:33</td>\n",
       "      <td>2017-10-24 14:00:43</td>\n",
       "      <td>2017</td>\n",
       "      <td>10</td>\n",
       "      <td>1</td>\n",
       "      <td>24</td>\n",
       "      <td>14</td>\n",
       "      <td>0</td>\n",
       "      <td>33</td>\n",
       "    </tr>\n",
       "    <tr>\n",
       "      <th>727778</th>\n",
       "      <td>1499472387</td>\n",
       "      <td>1499472397</td>\n",
       "      <td>4117</td>\n",
       "      <td>2017-07-08 00:06:27</td>\n",
       "      <td>2017-07-08 00:06:37</td>\n",
       "      <td>2017</td>\n",
       "      <td>7</td>\n",
       "      <td>5</td>\n",
       "      <td>8</td>\n",
       "      <td>0</td>\n",
       "      <td>6</td>\n",
       "      <td>27</td>\n",
       "    </tr>\n",
       "    <tr>\n",
       "      <th>727779</th>\n",
       "      <td>1503680264</td>\n",
       "      <td>1503680328</td>\n",
       "      <td>4117</td>\n",
       "      <td>2017-08-25 16:57:44</td>\n",
       "      <td>2017-08-25 16:58:48</td>\n",
       "      <td>2017</td>\n",
       "      <td>8</td>\n",
       "      <td>4</td>\n",
       "      <td>25</td>\n",
       "      <td>16</td>\n",
       "      <td>57</td>\n",
       "      <td>44</td>\n",
       "    </tr>\n",
       "    <tr>\n",
       "      <th>727780</th>\n",
       "      <td>1503485213</td>\n",
       "      <td>1503485222</td>\n",
       "      <td>4117</td>\n",
       "      <td>2017-08-23 10:46:53</td>\n",
       "      <td>2017-08-23 10:47:02</td>\n",
       "      <td>2017</td>\n",
       "      <td>8</td>\n",
       "      <td>2</td>\n",
       "      <td>23</td>\n",
       "      <td>10</td>\n",
       "      <td>46</td>\n",
       "      <td>53</td>\n",
       "    </tr>\n",
       "    <tr>\n",
       "      <th>727781</th>\n",
       "      <td>1504183672</td>\n",
       "      <td>1504183799</td>\n",
       "      <td>4117</td>\n",
       "      <td>2017-08-31 12:47:52</td>\n",
       "      <td>2017-08-31 12:49:59</td>\n",
       "      <td>2017</td>\n",
       "      <td>8</td>\n",
       "      <td>3</td>\n",
       "      <td>31</td>\n",
       "      <td>12</td>\n",
       "      <td>47</td>\n",
       "      <td>52</td>\n",
       "    </tr>\n",
       "  </tbody>\n",
       "</table>\n",
       "<p>236231168 rows × 12 columns</p>\n",
       "</div>"
      ],
      "text/plain": [
       "        start_time_unix  end_time_unix  user_id          start_time  \\\n",
       "0            1509974112     1509974166     8953 2017-11-06 13:15:12   \n",
       "1            1485290512     1485291345     3633 2017-01-24 20:41:52   \n",
       "2            1542211846     1542211886     3633 2018-11-14 16:10:46   \n",
       "3            1545775959     1545775979     3633 2018-12-25 22:12:39   \n",
       "4            1503749278     1503749288     3633 2017-08-26 12:07:58   \n",
       "...                 ...            ...      ...                 ...   \n",
       "727777       1508853633     1508853643     4117 2017-10-24 14:00:33   \n",
       "727778       1499472387     1499472397     4117 2017-07-08 00:06:27   \n",
       "727779       1503680264     1503680328     4117 2017-08-25 16:57:44   \n",
       "727780       1503485213     1503485222     4117 2017-08-23 10:46:53   \n",
       "727781       1504183672     1504183799     4117 2017-08-31 12:47:52   \n",
       "\n",
       "                  end_time  year  month  weekday  day  hour  minute  second  \n",
       "0      2017-11-06 13:16:06  2017     11        0    6    13      15      12  \n",
       "1      2017-01-24 20:55:45  2017      1        1   24    20      41      52  \n",
       "2      2018-11-14 16:11:26  2018     11        2   14    16      10      46  \n",
       "3      2018-12-25 22:12:59  2018     12        1   25    22      12      39  \n",
       "4      2017-08-26 12:08:08  2017      8        5   26    12       7      58  \n",
       "...                    ...   ...    ...      ...  ...   ...     ...     ...  \n",
       "727777 2017-10-24 14:00:43  2017     10        1   24    14       0      33  \n",
       "727778 2017-07-08 00:06:37  2017      7        5    8     0       6      27  \n",
       "727779 2017-08-25 16:58:48  2017      8        4   25    16      57      44  \n",
       "727780 2017-08-23 10:47:02  2017      8        2   23    10      46      53  \n",
       "727781 2017-08-31 12:49:59  2017      8        3   31    12      47      52  \n",
       "\n",
       "[236231168 rows x 12 columns]"
      ]
     },
     "execution_count": 27,
     "metadata": {},
     "output_type": "execute_result"
    }
   ],
   "source": [
    "full_df"
   ]
  },
  {
   "cell_type": "code",
   "execution_count": 28,
   "id": "bc514248",
   "metadata": {},
   "outputs": [],
   "source": [
    "# to right order day strings\n",
    "cats = ['Monday', 'Tuesday', 'Wednesday', 'Thursday', 'Friday', 'Saturday', 'Sunday']\n",
    "full_df['Day'] = pd.Categorical(full_df['Day'], categories=cats, ordered=True)\n",
    "\n",
    "# to change month into month strings\n",
    "full_df['Month'] = full_df['month'].apply(lambda x: calendar.month_abbr[x])\n",
    "cats = ['Jan', 'Feb', 'Mar', 'Apr', 'May', 'Jun',  'Jul', 'Aug', 'Sep', 'Oct', 'Nov','Dec',]\n",
    "full_df['Month'] = pd.Categorical(full_df['Month'], categories=cats, ordered=True)"
   ]
  },
  {
   "cell_type": "markdown",
   "id": "91af28be",
   "metadata": {},
   "source": [
    "#### Duration between sessions"
   ]
  },
  {
   "cell_type": "code",
   "execution_count": 84,
   "id": "e05b2c93",
   "metadata": {},
   "outputs": [],
   "source": [
    "full_df['duration'] = full_df['end_time'] - full_df['start_time']\n",
    "#full_df['duration_in_seconds'] = full_df['duration'].apply( lambda x: x.seconds)"
   ]
  },
  {
   "cell_type": "code",
   "execution_count": 85,
   "id": "53a40ef2",
   "metadata": {},
   "outputs": [
    {
     "data": {
      "text/plain": [
       "(0, 0, 0, 54)"
      ]
     },
     "execution_count": 85,
     "metadata": {},
     "output_type": "execute_result"
    }
   ],
   "source": [
    "def days_hours_minutes_seconds(td):\n",
    "    return td.days, td.seconds//3600, (td.seconds//60)%60, td.seconds\n",
    "\n",
    "\n",
    "days_hours_minutes_seconds(full_df.iloc[0]['duration'])"
   ]
  },
  {
   "cell_type": "code",
   "execution_count": 86,
   "id": "a0229d6c",
   "metadata": {},
   "outputs": [
    {
     "data": {
      "text/html": [
       "<div>\n",
       "<style scoped>\n",
       "    .dataframe tbody tr th:only-of-type {\n",
       "        vertical-align: middle;\n",
       "    }\n",
       "\n",
       "    .dataframe tbody tr th {\n",
       "        vertical-align: top;\n",
       "    }\n",
       "\n",
       "    .dataframe thead th {\n",
       "        text-align: right;\n",
       "    }\n",
       "</style>\n",
       "<table border=\"1\" class=\"dataframe\">\n",
       "  <thead>\n",
       "    <tr style=\"text-align: right;\">\n",
       "      <th></th>\n",
       "      <th>start_time_unix</th>\n",
       "      <th>end_time_unix</th>\n",
       "      <th>user_id</th>\n",
       "      <th>start_time</th>\n",
       "      <th>end_time</th>\n",
       "      <th>year</th>\n",
       "      <th>month</th>\n",
       "      <th>weekday</th>\n",
       "      <th>day</th>\n",
       "      <th>hour</th>\n",
       "      <th>minute</th>\n",
       "      <th>second</th>\n",
       "      <th>DayOfWeek</th>\n",
       "      <th>Month</th>\n",
       "      <th>duration</th>\n",
       "    </tr>\n",
       "  </thead>\n",
       "  <tbody>\n",
       "    <tr>\n",
       "      <th>0</th>\n",
       "      <td>1509974112</td>\n",
       "      <td>1509974166</td>\n",
       "      <td>8953</td>\n",
       "      <td>2017-11-06 13:15:12</td>\n",
       "      <td>2017-11-06 13:16:06</td>\n",
       "      <td>2017</td>\n",
       "      <td>11</td>\n",
       "      <td>0</td>\n",
       "      <td>6</td>\n",
       "      <td>13</td>\n",
       "      <td>15</td>\n",
       "      <td>12</td>\n",
       "      <td>NaN</td>\n",
       "      <td>Nov</td>\n",
       "      <td>0 days 00:00:54</td>\n",
       "    </tr>\n",
       "    <tr>\n",
       "      <th>1</th>\n",
       "      <td>1485290512</td>\n",
       "      <td>1485291345</td>\n",
       "      <td>3633</td>\n",
       "      <td>2017-01-24 20:41:52</td>\n",
       "      <td>2017-01-24 20:55:45</td>\n",
       "      <td>2017</td>\n",
       "      <td>1</td>\n",
       "      <td>1</td>\n",
       "      <td>24</td>\n",
       "      <td>20</td>\n",
       "      <td>41</td>\n",
       "      <td>52</td>\n",
       "      <td>NaN</td>\n",
       "      <td>Jan</td>\n",
       "      <td>0 days 00:13:53</td>\n",
       "    </tr>\n",
       "    <tr>\n",
       "      <th>2</th>\n",
       "      <td>1542211846</td>\n",
       "      <td>1542211886</td>\n",
       "      <td>3633</td>\n",
       "      <td>2018-11-14 16:10:46</td>\n",
       "      <td>2018-11-14 16:11:26</td>\n",
       "      <td>2018</td>\n",
       "      <td>11</td>\n",
       "      <td>2</td>\n",
       "      <td>14</td>\n",
       "      <td>16</td>\n",
       "      <td>10</td>\n",
       "      <td>46</td>\n",
       "      <td>NaN</td>\n",
       "      <td>Nov</td>\n",
       "      <td>0 days 00:00:40</td>\n",
       "    </tr>\n",
       "    <tr>\n",
       "      <th>3</th>\n",
       "      <td>1545775959</td>\n",
       "      <td>1545775979</td>\n",
       "      <td>3633</td>\n",
       "      <td>2018-12-25 22:12:39</td>\n",
       "      <td>2018-12-25 22:12:59</td>\n",
       "      <td>2018</td>\n",
       "      <td>12</td>\n",
       "      <td>1</td>\n",
       "      <td>25</td>\n",
       "      <td>22</td>\n",
       "      <td>12</td>\n",
       "      <td>39</td>\n",
       "      <td>NaN</td>\n",
       "      <td>Dec</td>\n",
       "      <td>0 days 00:00:20</td>\n",
       "    </tr>\n",
       "    <tr>\n",
       "      <th>4</th>\n",
       "      <td>1503749278</td>\n",
       "      <td>1503749288</td>\n",
       "      <td>3633</td>\n",
       "      <td>2017-08-26 12:07:58</td>\n",
       "      <td>2017-08-26 12:08:08</td>\n",
       "      <td>2017</td>\n",
       "      <td>8</td>\n",
       "      <td>5</td>\n",
       "      <td>26</td>\n",
       "      <td>12</td>\n",
       "      <td>7</td>\n",
       "      <td>58</td>\n",
       "      <td>NaN</td>\n",
       "      <td>Aug</td>\n",
       "      <td>0 days 00:00:10</td>\n",
       "    </tr>\n",
       "    <tr>\n",
       "      <th>...</th>\n",
       "      <td>...</td>\n",
       "      <td>...</td>\n",
       "      <td>...</td>\n",
       "      <td>...</td>\n",
       "      <td>...</td>\n",
       "      <td>...</td>\n",
       "      <td>...</td>\n",
       "      <td>...</td>\n",
       "      <td>...</td>\n",
       "      <td>...</td>\n",
       "      <td>...</td>\n",
       "      <td>...</td>\n",
       "      <td>...</td>\n",
       "      <td>...</td>\n",
       "      <td>...</td>\n",
       "    </tr>\n",
       "    <tr>\n",
       "      <th>727777</th>\n",
       "      <td>1508853633</td>\n",
       "      <td>1508853643</td>\n",
       "      <td>4117</td>\n",
       "      <td>2017-10-24 14:00:33</td>\n",
       "      <td>2017-10-24 14:00:43</td>\n",
       "      <td>2017</td>\n",
       "      <td>10</td>\n",
       "      <td>1</td>\n",
       "      <td>24</td>\n",
       "      <td>14</td>\n",
       "      <td>0</td>\n",
       "      <td>33</td>\n",
       "      <td>NaN</td>\n",
       "      <td>Oct</td>\n",
       "      <td>0 days 00:00:10</td>\n",
       "    </tr>\n",
       "    <tr>\n",
       "      <th>727778</th>\n",
       "      <td>1499472387</td>\n",
       "      <td>1499472397</td>\n",
       "      <td>4117</td>\n",
       "      <td>2017-07-08 00:06:27</td>\n",
       "      <td>2017-07-08 00:06:37</td>\n",
       "      <td>2017</td>\n",
       "      <td>7</td>\n",
       "      <td>5</td>\n",
       "      <td>8</td>\n",
       "      <td>0</td>\n",
       "      <td>6</td>\n",
       "      <td>27</td>\n",
       "      <td>NaN</td>\n",
       "      <td>Jul</td>\n",
       "      <td>0 days 00:00:10</td>\n",
       "    </tr>\n",
       "    <tr>\n",
       "      <th>727779</th>\n",
       "      <td>1503680264</td>\n",
       "      <td>1503680328</td>\n",
       "      <td>4117</td>\n",
       "      <td>2017-08-25 16:57:44</td>\n",
       "      <td>2017-08-25 16:58:48</td>\n",
       "      <td>2017</td>\n",
       "      <td>8</td>\n",
       "      <td>4</td>\n",
       "      <td>25</td>\n",
       "      <td>16</td>\n",
       "      <td>57</td>\n",
       "      <td>44</td>\n",
       "      <td>NaN</td>\n",
       "      <td>Aug</td>\n",
       "      <td>0 days 00:01:04</td>\n",
       "    </tr>\n",
       "    <tr>\n",
       "      <th>727780</th>\n",
       "      <td>1503485213</td>\n",
       "      <td>1503485222</td>\n",
       "      <td>4117</td>\n",
       "      <td>2017-08-23 10:46:53</td>\n",
       "      <td>2017-08-23 10:47:02</td>\n",
       "      <td>2017</td>\n",
       "      <td>8</td>\n",
       "      <td>2</td>\n",
       "      <td>23</td>\n",
       "      <td>10</td>\n",
       "      <td>46</td>\n",
       "      <td>53</td>\n",
       "      <td>NaN</td>\n",
       "      <td>Aug</td>\n",
       "      <td>0 days 00:00:09</td>\n",
       "    </tr>\n",
       "    <tr>\n",
       "      <th>727781</th>\n",
       "      <td>1504183672</td>\n",
       "      <td>1504183799</td>\n",
       "      <td>4117</td>\n",
       "      <td>2017-08-31 12:47:52</td>\n",
       "      <td>2017-08-31 12:49:59</td>\n",
       "      <td>2017</td>\n",
       "      <td>8</td>\n",
       "      <td>3</td>\n",
       "      <td>31</td>\n",
       "      <td>12</td>\n",
       "      <td>47</td>\n",
       "      <td>52</td>\n",
       "      <td>NaN</td>\n",
       "      <td>Aug</td>\n",
       "      <td>0 days 00:02:07</td>\n",
       "    </tr>\n",
       "  </tbody>\n",
       "</table>\n",
       "<p>236231168 rows × 15 columns</p>\n",
       "</div>"
      ],
      "text/plain": [
       "        start_time_unix  end_time_unix  user_id          start_time  \\\n",
       "0            1509974112     1509974166     8953 2017-11-06 13:15:12   \n",
       "1            1485290512     1485291345     3633 2017-01-24 20:41:52   \n",
       "2            1542211846     1542211886     3633 2018-11-14 16:10:46   \n",
       "3            1545775959     1545775979     3633 2018-12-25 22:12:39   \n",
       "4            1503749278     1503749288     3633 2017-08-26 12:07:58   \n",
       "...                 ...            ...      ...                 ...   \n",
       "727777       1508853633     1508853643     4117 2017-10-24 14:00:33   \n",
       "727778       1499472387     1499472397     4117 2017-07-08 00:06:27   \n",
       "727779       1503680264     1503680328     4117 2017-08-25 16:57:44   \n",
       "727780       1503485213     1503485222     4117 2017-08-23 10:46:53   \n",
       "727781       1504183672     1504183799     4117 2017-08-31 12:47:52   \n",
       "\n",
       "                  end_time  year  month  weekday  day  hour  minute  second  \\\n",
       "0      2017-11-06 13:16:06  2017     11        0    6    13      15      12   \n",
       "1      2017-01-24 20:55:45  2017      1        1   24    20      41      52   \n",
       "2      2018-11-14 16:11:26  2018     11        2   14    16      10      46   \n",
       "3      2018-12-25 22:12:59  2018     12        1   25    22      12      39   \n",
       "4      2017-08-26 12:08:08  2017      8        5   26    12       7      58   \n",
       "...                    ...   ...    ...      ...  ...   ...     ...     ...   \n",
       "727777 2017-10-24 14:00:43  2017     10        1   24    14       0      33   \n",
       "727778 2017-07-08 00:06:37  2017      7        5    8     0       6      27   \n",
       "727779 2017-08-25 16:58:48  2017      8        4   25    16      57      44   \n",
       "727780 2017-08-23 10:47:02  2017      8        2   23    10      46      53   \n",
       "727781 2017-08-31 12:49:59  2017      8        3   31    12      47      52   \n",
       "\n",
       "       DayOfWeek Month        duration  \n",
       "0            NaN   Nov 0 days 00:00:54  \n",
       "1            NaN   Jan 0 days 00:13:53  \n",
       "2            NaN   Nov 0 days 00:00:40  \n",
       "3            NaN   Dec 0 days 00:00:20  \n",
       "4            NaN   Aug 0 days 00:00:10  \n",
       "...          ...   ...             ...  \n",
       "727777       NaN   Oct 0 days 00:00:10  \n",
       "727778       NaN   Jul 0 days 00:00:10  \n",
       "727779       NaN   Aug 0 days 00:01:04  \n",
       "727780       NaN   Aug 0 days 00:00:09  \n",
       "727781       NaN   Aug 0 days 00:02:07  \n",
       "\n",
       "[236231168 rows x 15 columns]"
      ]
     },
     "execution_count": 86,
     "metadata": {},
     "output_type": "execute_result"
    }
   ],
   "source": [
    "full_df"
   ]
  },
  {
   "cell_type": "code",
   "execution_count": 87,
   "id": "24ca5f36",
   "metadata": {},
   "outputs": [
    {
     "data": {
      "text/plain": [
       "user_id  year  month  weekday\n",
       "0        2016  7      0         0 days 09:24:30\n",
       "                      1         0 days 10:49:23\n",
       "                      2         0 days 08:52:00\n",
       "                      3         0 days 11:42:35\n",
       "                      4         0 days 10:33:09\n",
       "                                      ...      \n",
       "9999     2018  11     2         0 days 10:41:13\n",
       "                      3         0 days 10:17:54\n",
       "                      4         0 days 05:39:10\n",
       "                      5         0 days 09:34:49\n",
       "                      6         0 days 09:46:16\n",
       "Name: duration, Length: 995775, dtype: timedelta64[ns]"
      ]
     },
     "execution_count": 87,
     "metadata": {},
     "output_type": "execute_result"
    }
   ],
   "source": [
    "full_df.groupby(['user_id', 'year', 'month', 'weekday'])['duration'].sum()"
   ]
  },
  {
   "cell_type": "code",
   "execution_count": 88,
   "id": "ce64c156",
   "metadata": {},
   "outputs": [
    {
     "data": {
      "text/plain": [
       "user_id  weekday\n",
       "0        0         3 days 00:05:04\n",
       "         1         3 days 03:31:59\n",
       "         2         2 days 16:49:11\n",
       "         3         2 days 17:08:36\n",
       "         4         2 days 19:30:53\n",
       "                         ...      \n",
       "9999     2         7 days 20:03:40\n",
       "         3         7 days 17:36:47\n",
       "         4         7 days 00:38:57\n",
       "         5         6 days 03:28:26\n",
       "         6         6 days 19:04:59\n",
       "Name: duration, Length: 70000, dtype: timedelta64[ns]"
      ]
     },
     "execution_count": 88,
     "metadata": {},
     "output_type": "execute_result"
    }
   ],
   "source": [
    "full_df.groupby(['user_id', 'weekday'])['duration'].sum()"
   ]
  },
  {
   "cell_type": "code",
   "execution_count": 90,
   "id": "e3cc7457",
   "metadata": {},
   "outputs": [],
   "source": [
    "weekly_overall_duration = full_df.groupby(['weekday'])['duration'].sum()"
   ]
  },
  {
   "cell_type": "code",
   "execution_count": 96,
   "id": "460d5e97",
   "metadata": {},
   "outputs": [
    {
     "data": {
      "image/png": "[encoded data removed]",
      "text/plain": [
       "<Figure size 432x288 with 1 Axes>"
      ]
     },
     "metadata": {
      "needs_background": "light"
     },
     "output_type": "display_data"
    }
   ],
   "source": [
    "import matplotlib.pyplot as plt \n",
    "\n",
    "plt.plot(weekly_overall_duration)\n",
    "plt.show()"
   ]
  },
  {
   "cell_type": "code",
   "execution_count": 97,
   "id": "2682593c",
   "metadata": {},
   "outputs": [
    {
     "name": "stderr",
     "output_type": "stream",
     "text": [
      "/home/s202242/.conda/envs/advancedproject/lib/python3.9/site-packages/matplotlib/axes/_base.py:507: FutureWarning: Support for multi-dimensional indexing (e.g. `obj[:, None]`) is deprecated and will be removed in a future version.  Convert to a numpy array before indexing instead.\n",
      "  x = x[:, np.newaxis]\n"
     ]
    },
    {
     "data": {
      "image/png": "[encoded data removed]",
      "text/plain": [
       "<Figure size 432x288 with 1 Axes>"
      ]
     },
     "metadata": {
      "needs_background": "light"
     },
     "output_type": "display_data"
    }
   ],
   "source": [
    "monthly_overall_duration = full_df.groupby(['Month'])['duration'].sum()\n",
    "\n",
    "plt.plot(monthly_overall_duration)\n",
    "plt.show()"
   ]
  },
  {
   "cell_type": "code",
   "execution_count": 98,
   "id": "4f40747b",
   "metadata": {},
   "outputs": [
    {
     "data": {
      "image/png": "[encoded data removed]",
      "text/plain": [
       "<Figure size 432x288 with 1 Axes>"
      ]
     },
     "metadata": {
      "needs_background": "light"
     },
     "output_type": "display_data"
    }
   ],
   "source": [
    "yearly_overall_duration = full_df.groupby(['year'])['duration'].sum()\n",
    "\n",
    "\n",
    "plt.plot(yearly_overall_duration)\n",
    "plt.show()"
   ]
  },
  {
   "cell_type": "code",
   "execution_count": 99,
   "id": "2b813cb0",
   "metadata": {},
   "outputs": [
    {
     "data": {
      "text/plain": [
       "year\n",
       "2016   89386 days 20:50:28\n",
       "2017                   NaT\n",
       "2018                   NaT\n",
       "2019       0 days 03:32:13\n",
       "Name: duration, dtype: timedelta64[ns]"
      ]
     },
     "execution_count": 99,
     "metadata": {},
     "output_type": "execute_result"
    }
   ],
   "source": [
    "yearly_overall_duration"
   ]
  },
  {
   "cell_type": "code",
   "execution_count": null,
   "id": "c542cffb",
   "metadata": {},
   "outputs": [],
   "source": [
    "full_df.groupby(['year']).sum()"
   ]
  },
  {
   "cell_type": "code",
   "execution_count": null,
   "id": "020ba6fd",
   "metadata": {},
   "outputs": [],
   "source": []
  }
 ],
 "metadata": {
  "kernelspec": {
   "display_name": "Python 3 (ipykernel)",
   "language": "python",
   "name": "python3"
  },
  "language_info": {
   "codemirror_mode": {
    "name": "ipython",
    "version": 3
   },
   "file_extension": ".py",
   "mimetype": "text/x-python",
   "name": "python",
   "nbconvert_exporter": "python",
   "pygments_lexer": "ipython3",
   "version": "3.9.7"
  }
 },
 "nbformat": 4,
 "nbformat_minor": 5
}
