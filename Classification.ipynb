{
 "cells": [
  {
   "cell_type": "code",
   "execution_count": 1,
   "metadata": {},
   "outputs": [],
   "source": [
    "import pandas as pd"
   ]
  },
  {
   "cell_type": "code",
   "execution_count": 2,
   "metadata": {},
   "outputs": [],
   "source": [
    "df = pd.read_csv('sample_data.csv').drop(columns=['Unnamed: 0'])\n",
    "df_tmp = df[df['duration_min'] < 30]"
   ]
  },
  {
   "cell_type": "code",
   "execution_count": 3,
   "metadata": {},
   "outputs": [],
   "source": [
    "quantiles = df_tmp['duration_min'].quantile([.33, .66, .98, 1])"
   ]
  },
  {
   "cell_type": "code",
   "execution_count": 4,
   "metadata": {},
   "outputs": [
    {
     "data": {
      "text/plain": [
       "0.33     0.333\n",
       "0.66     1.167\n",
       "0.98    12.683\n",
       "1.00    29.533\n",
       "Name: duration_min, dtype: float64"
      ]
     },
     "execution_count": 4,
     "metadata": {},
     "output_type": "execute_result"
    }
   ],
   "source": [
    "quantiles"
   ]
  },
  {
   "cell_type": "code",
   "execution_count": 5,
   "metadata": {},
   "outputs": [
    {
     "name": "stderr",
     "output_type": "stream",
     "text": [
      "C:\\Users\\ezara\\AppData\\Local\\Temp/ipykernel_13960/143928500.py:2: SettingWithCopyWarning: \n",
      "A value is trying to be set on a copy of a slice from a DataFrame.\n",
      "Try using .loc[row_indexer,col_indexer] = value instead\n",
      "\n",
      "See the caveats in the documentation: https://pandas.pydata.org/pandas-docs/stable/user_guide/indexing.html#returning-a-view-versus-a-copy\n",
      "  df_tmp['group'] = 'extreme'\n",
      "C:\\Users\\ezara\\AppData\\Local\\Temp/ipykernel_13960/143928500.py:3: SettingWithCopyWarning: \n",
      "A value is trying to be set on a copy of a slice from a DataFrame\n",
      "\n",
      "See the caveats in the documentation: https://pandas.pydata.org/pandas-docs/stable/user_guide/indexing.html#returning-a-view-versus-a-copy\n",
      "  df_tmp['group'][df_tmp['duration_min'] <= quantiles[.98]] = 'high'\n",
      "C:\\Users\\ezara\\AppData\\Local\\Packages\\PythonSoftwareFoundation.Python.3.9_qbz5n2kfra8p0\\LocalCache\\local-packages\\Python39\\site-packages\\pandas\\core\\generic.py:8870: SettingWithCopyWarning: \n",
      "A value is trying to be set on a copy of a slice from a DataFrame\n",
      "\n",
      "See the caveats in the documentation: https://pandas.pydata.org/pandas-docs/stable/user_guide/indexing.html#returning-a-view-versus-a-copy\n",
      "  return self._update_inplace(result)\n",
      "C:\\Users\\ezara\\AppData\\Local\\Temp/ipykernel_13960/143928500.py:4: SettingWithCopyWarning: \n",
      "A value is trying to be set on a copy of a slice from a DataFrame\n",
      "\n",
      "See the caveats in the documentation: https://pandas.pydata.org/pandas-docs/stable/user_guide/indexing.html#returning-a-view-versus-a-copy\n",
      "  df_tmp['group'][df_tmp['duration_min'] <= quantiles[.66]] = 'mid'\n",
      "C:\\Users\\ezara\\AppData\\Local\\Temp/ipykernel_13960/143928500.py:5: SettingWithCopyWarning: \n",
      "A value is trying to be set on a copy of a slice from a DataFrame\n",
      "\n",
      "See the caveats in the documentation: https://pandas.pydata.org/pandas-docs/stable/user_guide/indexing.html#returning-a-view-versus-a-copy\n",
      "  df_tmp['group'][df_tmp['duration_min'] <= quantiles[.33]] = 'low'\n"
     ]
    }
   ],
   "source": [
    "#labeling of groups\n",
    "df_tmp['group'] = 'extreme'\n",
    "df_tmp['group'][df_tmp['duration_min'] <= quantiles[.98]] = 'high'\n",
    "df_tmp['group'][df_tmp['duration_min'] <= quantiles[.66]] = 'mid'\n",
    "df_tmp['group'][df_tmp['duration_min'] <= quantiles[.33]] = 'low'      "
   ]
  },
  {
   "cell_type": "code",
   "execution_count": 6,
   "metadata": {},
   "outputs": [
    {
     "data": {
      "text/html": [
       "<div>\n",
       "<style scoped>\n",
       "    .dataframe tbody tr th:only-of-type {\n",
       "        vertical-align: middle;\n",
       "    }\n",
       "\n",
       "    .dataframe tbody tr th {\n",
       "        vertical-align: top;\n",
       "    }\n",
       "\n",
       "    .dataframe thead th {\n",
       "        text-align: right;\n",
       "    }\n",
       "</style>\n",
       "<table border=\"1\" class=\"dataframe\">\n",
       "  <thead>\n",
       "    <tr style=\"text-align: right;\">\n",
       "      <th></th>\n",
       "      <th>user_id</th>\n",
       "      <th>date</th>\n",
       "      <th>year</th>\n",
       "      <th>month</th>\n",
       "      <th>day</th>\n",
       "      <th>hour</th>\n",
       "      <th>minute</th>\n",
       "      <th>second</th>\n",
       "      <th>hour_period</th>\n",
       "      <th>duration_min</th>\n",
       "      <th>group</th>\n",
       "    </tr>\n",
       "  </thead>\n",
       "  <tbody>\n",
       "    <tr>\n",
       "      <th>0</th>\n",
       "      <td>8953</td>\n",
       "      <td>2016-12-24</td>\n",
       "      <td>2016</td>\n",
       "      <td>Dec</td>\n",
       "      <td>Saturday</td>\n",
       "      <td>6</td>\n",
       "      <td>11</td>\n",
       "      <td>31</td>\n",
       "      <td>06:00-06:30</td>\n",
       "      <td>1.500</td>\n",
       "      <td>high</td>\n",
       "    </tr>\n",
       "    <tr>\n",
       "      <th>1</th>\n",
       "      <td>3633</td>\n",
       "      <td>2017-02-08</td>\n",
       "      <td>2017</td>\n",
       "      <td>Feb</td>\n",
       "      <td>Wednesday</td>\n",
       "      <td>16</td>\n",
       "      <td>22</td>\n",
       "      <td>53</td>\n",
       "      <td>16:00-16:30</td>\n",
       "      <td>0.333</td>\n",
       "      <td>low</td>\n",
       "    </tr>\n",
       "    <tr>\n",
       "      <th>2</th>\n",
       "      <td>3633</td>\n",
       "      <td>2016-12-09</td>\n",
       "      <td>2016</td>\n",
       "      <td>Dec</td>\n",
       "      <td>Friday</td>\n",
       "      <td>17</td>\n",
       "      <td>36</td>\n",
       "      <td>52</td>\n",
       "      <td>17:30-18:00</td>\n",
       "      <td>0.167</td>\n",
       "      <td>low</td>\n",
       "    </tr>\n",
       "    <tr>\n",
       "      <th>3</th>\n",
       "      <td>3633</td>\n",
       "      <td>2018-06-03</td>\n",
       "      <td>2018</td>\n",
       "      <td>Jun</td>\n",
       "      <td>Sunday</td>\n",
       "      <td>21</td>\n",
       "      <td>20</td>\n",
       "      <td>16</td>\n",
       "      <td>21:00-21:30</td>\n",
       "      <td>0.167</td>\n",
       "      <td>low</td>\n",
       "    </tr>\n",
       "    <tr>\n",
       "      <th>4</th>\n",
       "      <td>3633</td>\n",
       "      <td>2016-09-16</td>\n",
       "      <td>2016</td>\n",
       "      <td>Sep</td>\n",
       "      <td>Friday</td>\n",
       "      <td>9</td>\n",
       "      <td>16</td>\n",
       "      <td>39</td>\n",
       "      <td>09:00-09:30</td>\n",
       "      <td>0.167</td>\n",
       "      <td>low</td>\n",
       "    </tr>\n",
       "    <tr>\n",
       "      <th>...</th>\n",
       "      <td>...</td>\n",
       "      <td>...</td>\n",
       "      <td>...</td>\n",
       "      <td>...</td>\n",
       "      <td>...</td>\n",
       "      <td>...</td>\n",
       "      <td>...</td>\n",
       "      <td>...</td>\n",
       "      <td>...</td>\n",
       "      <td>...</td>\n",
       "      <td>...</td>\n",
       "    </tr>\n",
       "    <tr>\n",
       "      <th>9995</th>\n",
       "      <td>8774</td>\n",
       "      <td>2018-06-18</td>\n",
       "      <td>2018</td>\n",
       "      <td>Jun</td>\n",
       "      <td>Monday</td>\n",
       "      <td>16</td>\n",
       "      <td>21</td>\n",
       "      <td>27</td>\n",
       "      <td>16:00-16:30</td>\n",
       "      <td>0.167</td>\n",
       "      <td>low</td>\n",
       "    </tr>\n",
       "    <tr>\n",
       "      <th>9996</th>\n",
       "      <td>8774</td>\n",
       "      <td>2018-02-05</td>\n",
       "      <td>2018</td>\n",
       "      <td>Feb</td>\n",
       "      <td>Monday</td>\n",
       "      <td>20</td>\n",
       "      <td>11</td>\n",
       "      <td>52</td>\n",
       "      <td>20:00-20:30</td>\n",
       "      <td>1.217</td>\n",
       "      <td>high</td>\n",
       "    </tr>\n",
       "    <tr>\n",
       "      <th>9997</th>\n",
       "      <td>906</td>\n",
       "      <td>2018-05-16</td>\n",
       "      <td>2018</td>\n",
       "      <td>May</td>\n",
       "      <td>Wednesday</td>\n",
       "      <td>6</td>\n",
       "      <td>35</td>\n",
       "      <td>47</td>\n",
       "      <td>06:30-07:00</td>\n",
       "      <td>2.183</td>\n",
       "      <td>high</td>\n",
       "    </tr>\n",
       "    <tr>\n",
       "      <th>9998</th>\n",
       "      <td>906</td>\n",
       "      <td>2016-12-05</td>\n",
       "      <td>2016</td>\n",
       "      <td>Dec</td>\n",
       "      <td>Monday</td>\n",
       "      <td>12</td>\n",
       "      <td>51</td>\n",
       "      <td>52</td>\n",
       "      <td>12:30-13:00</td>\n",
       "      <td>1.683</td>\n",
       "      <td>high</td>\n",
       "    </tr>\n",
       "    <tr>\n",
       "      <th>9999</th>\n",
       "      <td>906</td>\n",
       "      <td>2017-12-23</td>\n",
       "      <td>2017</td>\n",
       "      <td>Dec</td>\n",
       "      <td>Saturday</td>\n",
       "      <td>18</td>\n",
       "      <td>36</td>\n",
       "      <td>37</td>\n",
       "      <td>18:30-19:00</td>\n",
       "      <td>0.833</td>\n",
       "      <td>mid</td>\n",
       "    </tr>\n",
       "  </tbody>\n",
       "</table>\n",
       "<p>9961 rows × 11 columns</p>\n",
       "</div>"
      ],
      "text/plain": [
       "      user_id        date  year month        day  hour  minute  second  \\\n",
       "0        8953  2016-12-24  2016   Dec   Saturday     6      11      31   \n",
       "1        3633  2017-02-08  2017   Feb  Wednesday    16      22      53   \n",
       "2        3633  2016-12-09  2016   Dec     Friday    17      36      52   \n",
       "3        3633  2018-06-03  2018   Jun     Sunday    21      20      16   \n",
       "4        3633  2016-09-16  2016   Sep     Friday     9      16      39   \n",
       "...       ...         ...   ...   ...        ...   ...     ...     ...   \n",
       "9995     8774  2018-06-18  2018   Jun     Monday    16      21      27   \n",
       "9996     8774  2018-02-05  2018   Feb     Monday    20      11      52   \n",
       "9997      906  2018-05-16  2018   May  Wednesday     6      35      47   \n",
       "9998      906  2016-12-05  2016   Dec     Monday    12      51      52   \n",
       "9999      906  2017-12-23  2017   Dec   Saturday    18      36      37   \n",
       "\n",
       "      hour_period  duration_min group  \n",
       "0     06:00-06:30         1.500  high  \n",
       "1     16:00-16:30         0.333   low  \n",
       "2     17:30-18:00         0.167   low  \n",
       "3     21:00-21:30         0.167   low  \n",
       "4     09:00-09:30         0.167   low  \n",
       "...           ...           ...   ...  \n",
       "9995  16:00-16:30         0.167   low  \n",
       "9996  20:00-20:30         1.217  high  \n",
       "9997  06:30-07:00         2.183  high  \n",
       "9998  12:30-13:00         1.683  high  \n",
       "9999  18:30-19:00         0.833   mid  \n",
       "\n",
       "[9961 rows x 11 columns]"
      ]
     },
     "execution_count": 6,
     "metadata": {},
     "output_type": "execute_result"
    }
   ],
   "source": [
    "df_tmp"
   ]
  },
  {
   "cell_type": "code",
   "execution_count": null,
   "metadata": {},
   "outputs": [],
   "source": []
  },
  {
   "cell_type": "code",
   "execution_count": 54,
   "metadata": {},
   "outputs": [],
   "source": [
    "df_session = df.groupby(['user_id', 'date'])['duration_min'].count().reset_index(name='Daily sessions')"
   ]
  },
  {
   "cell_type": "code",
   "execution_count": 55,
   "metadata": {},
   "outputs": [
    {
     "data": {
      "text/html": [
       "<div>\n",
       "<style scoped>\n",
       "    .dataframe tbody tr th:only-of-type {\n",
       "        vertical-align: middle;\n",
       "    }\n",
       "\n",
       "    .dataframe tbody tr th {\n",
       "        vertical-align: top;\n",
       "    }\n",
       "\n",
       "    .dataframe thead th {\n",
       "        text-align: right;\n",
       "    }\n",
       "</style>\n",
       "<table border=\"1\" class=\"dataframe\">\n",
       "  <thead>\n",
       "    <tr style=\"text-align: right;\">\n",
       "      <th></th>\n",
       "      <th>user_id</th>\n",
       "      <th>date</th>\n",
       "      <th>Daily sessions</th>\n",
       "    </tr>\n",
       "  </thead>\n",
       "  <tbody>\n",
       "    <tr>\n",
       "      <th>0</th>\n",
       "      <td>389</td>\n",
       "      <td>2017-06-03</td>\n",
       "      <td>1</td>\n",
       "    </tr>\n",
       "    <tr>\n",
       "      <th>1</th>\n",
       "      <td>389</td>\n",
       "      <td>2017-06-04</td>\n",
       "      <td>5</td>\n",
       "    </tr>\n",
       "    <tr>\n",
       "      <th>2</th>\n",
       "      <td>389</td>\n",
       "      <td>2017-06-05</td>\n",
       "      <td>4</td>\n",
       "    </tr>\n",
       "    <tr>\n",
       "      <th>3</th>\n",
       "      <td>389</td>\n",
       "      <td>2017-06-06</td>\n",
       "      <td>2</td>\n",
       "    </tr>\n",
       "    <tr>\n",
       "      <th>4</th>\n",
       "      <td>389</td>\n",
       "      <td>2017-06-07</td>\n",
       "      <td>3</td>\n",
       "    </tr>\n",
       "    <tr>\n",
       "      <th>...</th>\n",
       "      <td>...</td>\n",
       "      <td>...</td>\n",
       "      <td>...</td>\n",
       "    </tr>\n",
       "    <tr>\n",
       "      <th>4864</th>\n",
       "      <td>9820</td>\n",
       "      <td>2018-11-20</td>\n",
       "      <td>1</td>\n",
       "    </tr>\n",
       "    <tr>\n",
       "      <th>4865</th>\n",
       "      <td>9820</td>\n",
       "      <td>2018-11-21</td>\n",
       "      <td>2</td>\n",
       "    </tr>\n",
       "    <tr>\n",
       "      <th>4866</th>\n",
       "      <td>9820</td>\n",
       "      <td>2018-11-22</td>\n",
       "      <td>1</td>\n",
       "    </tr>\n",
       "    <tr>\n",
       "      <th>4867</th>\n",
       "      <td>9820</td>\n",
       "      <td>2018-11-25</td>\n",
       "      <td>1</td>\n",
       "    </tr>\n",
       "    <tr>\n",
       "      <th>4868</th>\n",
       "      <td>9820</td>\n",
       "      <td>2018-11-26</td>\n",
       "      <td>1</td>\n",
       "    </tr>\n",
       "  </tbody>\n",
       "</table>\n",
       "<p>4869 rows × 3 columns</p>\n",
       "</div>"
      ],
      "text/plain": [
       "      user_id        date  Daily sessions\n",
       "0         389  2017-06-03               1\n",
       "1         389  2017-06-04               5\n",
       "2         389  2017-06-05               4\n",
       "3         389  2017-06-06               2\n",
       "4         389  2017-06-07               3\n",
       "...       ...         ...             ...\n",
       "4864     9820  2018-11-20               1\n",
       "4865     9820  2018-11-21               2\n",
       "4866     9820  2018-11-22               1\n",
       "4867     9820  2018-11-25               1\n",
       "4868     9820  2018-11-26               1\n",
       "\n",
       "[4869 rows x 3 columns]"
      ]
     },
     "execution_count": 55,
     "metadata": {},
     "output_type": "execute_result"
    }
   ],
   "source": [
    "df_session"
   ]
  },
  {
   "cell_type": "code",
   "execution_count": 59,
   "metadata": {},
   "outputs": [],
   "source": [
    "quantiles = df_session['Daily sessions'].quantile([.33, .66, .98, 1])"
   ]
  },
  {
   "cell_type": "code",
   "execution_count": 63,
   "metadata": {},
   "outputs": [
    {
     "name": "stderr",
     "output_type": "stream",
     "text": [
      "<ipython-input-63-7d5f9110703a>:3: SettingWithCopyWarning: \n",
      "A value is trying to be set on a copy of a slice from a DataFrame\n",
      "\n",
      "See the caveats in the documentation: https://pandas.pydata.org/pandas-docs/stable/user_guide/indexing.html#returning-a-view-versus-a-copy\n",
      "  df_session['group'][df_session['Daily sessions'] <= quantiles[.98]] = 'high'\n",
      "<ipython-input-63-7d5f9110703a>:4: SettingWithCopyWarning: \n",
      "A value is trying to be set on a copy of a slice from a DataFrame\n",
      "\n",
      "See the caveats in the documentation: https://pandas.pydata.org/pandas-docs/stable/user_guide/indexing.html#returning-a-view-versus-a-copy\n",
      "  df_session['group'][df_session['Daily sessions'] <= quantiles[.66]] = 'mid'\n",
      "<ipython-input-63-7d5f9110703a>:5: SettingWithCopyWarning: \n",
      "A value is trying to be set on a copy of a slice from a DataFrame\n",
      "\n",
      "See the caveats in the documentation: https://pandas.pydata.org/pandas-docs/stable/user_guide/indexing.html#returning-a-view-versus-a-copy\n",
      "  df_session['group'][df_session['Daily sessions'] <= quantiles[.33]] = 'low'\n"
     ]
    }
   ],
   "source": [
    "#labeling of groups\n",
    "df_session['group'] = 'extreme'\n",
    "df_session['group'][df_session['Daily sessions'] <= quantiles[.98]] = 'high'\n",
    "df_session['group'][df_session['Daily sessions'] <= quantiles[.66]] = 'mid'\n",
    "df_session['group'][df_session['Daily sessions'] <= quantiles[.33]] = 'low'      "
   ]
  },
  {
   "cell_type": "code",
   "execution_count": 64,
   "metadata": {},
   "outputs": [
    {
     "data": {
      "text/html": [
       "<div>\n",
       "<style scoped>\n",
       "    .dataframe tbody tr th:only-of-type {\n",
       "        vertical-align: middle;\n",
       "    }\n",
       "\n",
       "    .dataframe tbody tr th {\n",
       "        vertical-align: top;\n",
       "    }\n",
       "\n",
       "    .dataframe thead th {\n",
       "        text-align: right;\n",
       "    }\n",
       "</style>\n",
       "<table border=\"1\" class=\"dataframe\">\n",
       "  <thead>\n",
       "    <tr style=\"text-align: right;\">\n",
       "      <th></th>\n",
       "      <th>user_id</th>\n",
       "      <th>date</th>\n",
       "      <th>Daily sessions</th>\n",
       "      <th>group</th>\n",
       "    </tr>\n",
       "  </thead>\n",
       "  <tbody>\n",
       "    <tr>\n",
       "      <th>0</th>\n",
       "      <td>389</td>\n",
       "      <td>2017-06-03</td>\n",
       "      <td>1</td>\n",
       "      <td>low</td>\n",
       "    </tr>\n",
       "    <tr>\n",
       "      <th>1</th>\n",
       "      <td>389</td>\n",
       "      <td>2017-06-04</td>\n",
       "      <td>5</td>\n",
       "      <td>high</td>\n",
       "    </tr>\n",
       "    <tr>\n",
       "      <th>2</th>\n",
       "      <td>389</td>\n",
       "      <td>2017-06-05</td>\n",
       "      <td>4</td>\n",
       "      <td>high</td>\n",
       "    </tr>\n",
       "    <tr>\n",
       "      <th>3</th>\n",
       "      <td>389</td>\n",
       "      <td>2017-06-06</td>\n",
       "      <td>2</td>\n",
       "      <td>mid</td>\n",
       "    </tr>\n",
       "    <tr>\n",
       "      <th>4</th>\n",
       "      <td>389</td>\n",
       "      <td>2017-06-07</td>\n",
       "      <td>3</td>\n",
       "      <td>high</td>\n",
       "    </tr>\n",
       "    <tr>\n",
       "      <th>...</th>\n",
       "      <td>...</td>\n",
       "      <td>...</td>\n",
       "      <td>...</td>\n",
       "      <td>...</td>\n",
       "    </tr>\n",
       "    <tr>\n",
       "      <th>4864</th>\n",
       "      <td>9820</td>\n",
       "      <td>2018-11-20</td>\n",
       "      <td>1</td>\n",
       "      <td>low</td>\n",
       "    </tr>\n",
       "    <tr>\n",
       "      <th>4865</th>\n",
       "      <td>9820</td>\n",
       "      <td>2018-11-21</td>\n",
       "      <td>2</td>\n",
       "      <td>mid</td>\n",
       "    </tr>\n",
       "    <tr>\n",
       "      <th>4866</th>\n",
       "      <td>9820</td>\n",
       "      <td>2018-11-22</td>\n",
       "      <td>1</td>\n",
       "      <td>low</td>\n",
       "    </tr>\n",
       "    <tr>\n",
       "      <th>4867</th>\n",
       "      <td>9820</td>\n",
       "      <td>2018-11-25</td>\n",
       "      <td>1</td>\n",
       "      <td>low</td>\n",
       "    </tr>\n",
       "    <tr>\n",
       "      <th>4868</th>\n",
       "      <td>9820</td>\n",
       "      <td>2018-11-26</td>\n",
       "      <td>1</td>\n",
       "      <td>low</td>\n",
       "    </tr>\n",
       "  </tbody>\n",
       "</table>\n",
       "<p>4869 rows × 4 columns</p>\n",
       "</div>"
      ],
      "text/plain": [
       "      user_id        date  Daily sessions group\n",
       "0         389  2017-06-03               1   low\n",
       "1         389  2017-06-04               5  high\n",
       "2         389  2017-06-05               4  high\n",
       "3         389  2017-06-06               2   mid\n",
       "4         389  2017-06-07               3  high\n",
       "...       ...         ...             ...   ...\n",
       "4864     9820  2018-11-20               1   low\n",
       "4865     9820  2018-11-21               2   mid\n",
       "4866     9820  2018-11-22               1   low\n",
       "4867     9820  2018-11-25               1   low\n",
       "4868     9820  2018-11-26               1   low\n",
       "\n",
       "[4869 rows x 4 columns]"
      ]
     },
     "execution_count": 64,
     "metadata": {},
     "output_type": "execute_result"
    }
   ],
   "source": [
    "df_session"
   ]
  },
  {
   "cell_type": "code",
   "execution_count": 7,
   "metadata": {},
   "outputs": [],
   "source": [
    "extreme = df_tmp[df_tmp.group == 'extreme']"
   ]
  },
  {
   "cell_type": "code",
   "execution_count": 8,
   "metadata": {},
   "outputs": [
    {
     "data": {
      "text/html": [
       "<div>\n",
       "<style scoped>\n",
       "    .dataframe tbody tr th:only-of-type {\n",
       "        vertical-align: middle;\n",
       "    }\n",
       "\n",
       "    .dataframe tbody tr th {\n",
       "        vertical-align: top;\n",
       "    }\n",
       "\n",
       "    .dataframe thead th {\n",
       "        text-align: right;\n",
       "    }\n",
       "</style>\n",
       "<table border=\"1\" class=\"dataframe\">\n",
       "  <thead>\n",
       "    <tr style=\"text-align: right;\">\n",
       "      <th></th>\n",
       "      <th>user_id</th>\n",
       "      <th>date</th>\n",
       "      <th>year</th>\n",
       "      <th>month</th>\n",
       "      <th>day</th>\n",
       "      <th>hour</th>\n",
       "      <th>minute</th>\n",
       "      <th>second</th>\n",
       "      <th>hour_period</th>\n",
       "      <th>duration_min</th>\n",
       "      <th>group</th>\n",
       "    </tr>\n",
       "  </thead>\n",
       "  <tbody>\n",
       "    <tr>\n",
       "      <th>80</th>\n",
       "      <td>3633</td>\n",
       "      <td>2017-09-18</td>\n",
       "      <td>2017</td>\n",
       "      <td>Sep</td>\n",
       "      <td>Monday</td>\n",
       "      <td>11</td>\n",
       "      <td>33</td>\n",
       "      <td>56</td>\n",
       "      <td>11:30-12:00</td>\n",
       "      <td>23.017</td>\n",
       "      <td>extreme</td>\n",
       "    </tr>\n",
       "    <tr>\n",
       "      <th>99</th>\n",
       "      <td>8953</td>\n",
       "      <td>2017-01-15</td>\n",
       "      <td>2017</td>\n",
       "      <td>Jan</td>\n",
       "      <td>Sunday</td>\n",
       "      <td>13</td>\n",
       "      <td>30</td>\n",
       "      <td>6</td>\n",
       "      <td>13:30-14:00</td>\n",
       "      <td>25.067</td>\n",
       "      <td>extreme</td>\n",
       "    </tr>\n",
       "    <tr>\n",
       "      <th>387</th>\n",
       "      <td>3633</td>\n",
       "      <td>2016-12-12</td>\n",
       "      <td>2016</td>\n",
       "      <td>Dec</td>\n",
       "      <td>Monday</td>\n",
       "      <td>20</td>\n",
       "      <td>29</td>\n",
       "      <td>12</td>\n",
       "      <td>20:00-20:30</td>\n",
       "      <td>14.017</td>\n",
       "      <td>extreme</td>\n",
       "    </tr>\n",
       "    <tr>\n",
       "      <th>456</th>\n",
       "      <td>3633</td>\n",
       "      <td>2017-08-15</td>\n",
       "      <td>2017</td>\n",
       "      <td>Aug</td>\n",
       "      <td>Tuesday</td>\n",
       "      <td>21</td>\n",
       "      <td>6</td>\n",
       "      <td>15</td>\n",
       "      <td>21:00-21:30</td>\n",
       "      <td>17.850</td>\n",
       "      <td>extreme</td>\n",
       "    </tr>\n",
       "    <tr>\n",
       "      <th>493</th>\n",
       "      <td>3633</td>\n",
       "      <td>2016-09-13</td>\n",
       "      <td>2016</td>\n",
       "      <td>Sep</td>\n",
       "      <td>Tuesday</td>\n",
       "      <td>7</td>\n",
       "      <td>34</td>\n",
       "      <td>14</td>\n",
       "      <td>07:30-08:00</td>\n",
       "      <td>17.183</td>\n",
       "      <td>extreme</td>\n",
       "    </tr>\n",
       "    <tr>\n",
       "      <th>...</th>\n",
       "      <td>...</td>\n",
       "      <td>...</td>\n",
       "      <td>...</td>\n",
       "      <td>...</td>\n",
       "      <td>...</td>\n",
       "      <td>...</td>\n",
       "      <td>...</td>\n",
       "      <td>...</td>\n",
       "      <td>...</td>\n",
       "      <td>...</td>\n",
       "      <td>...</td>\n",
       "    </tr>\n",
       "    <tr>\n",
       "      <th>9407</th>\n",
       "      <td>906</td>\n",
       "      <td>2017-09-26</td>\n",
       "      <td>2017</td>\n",
       "      <td>Sep</td>\n",
       "      <td>Tuesday</td>\n",
       "      <td>4</td>\n",
       "      <td>43</td>\n",
       "      <td>38</td>\n",
       "      <td>04:30-05:00</td>\n",
       "      <td>25.350</td>\n",
       "      <td>extreme</td>\n",
       "    </tr>\n",
       "    <tr>\n",
       "      <th>9436</th>\n",
       "      <td>906</td>\n",
       "      <td>2017-11-10</td>\n",
       "      <td>2017</td>\n",
       "      <td>Nov</td>\n",
       "      <td>Friday</td>\n",
       "      <td>10</td>\n",
       "      <td>4</td>\n",
       "      <td>8</td>\n",
       "      <td>10:00-10:30</td>\n",
       "      <td>21.533</td>\n",
       "      <td>extreme</td>\n",
       "    </tr>\n",
       "    <tr>\n",
       "      <th>9480</th>\n",
       "      <td>906</td>\n",
       "      <td>2017-10-18</td>\n",
       "      <td>2017</td>\n",
       "      <td>Oct</td>\n",
       "      <td>Wednesday</td>\n",
       "      <td>10</td>\n",
       "      <td>57</td>\n",
       "      <td>38</td>\n",
       "      <td>10:30-11:00</td>\n",
       "      <td>18.183</td>\n",
       "      <td>extreme</td>\n",
       "    </tr>\n",
       "    <tr>\n",
       "      <th>9722</th>\n",
       "      <td>8774</td>\n",
       "      <td>2018-07-06</td>\n",
       "      <td>2018</td>\n",
       "      <td>Jul</td>\n",
       "      <td>Friday</td>\n",
       "      <td>22</td>\n",
       "      <td>25</td>\n",
       "      <td>10</td>\n",
       "      <td>22:00-22:30</td>\n",
       "      <td>21.800</td>\n",
       "      <td>extreme</td>\n",
       "    </tr>\n",
       "    <tr>\n",
       "      <th>9894</th>\n",
       "      <td>906</td>\n",
       "      <td>2017-09-20</td>\n",
       "      <td>2017</td>\n",
       "      <td>Sep</td>\n",
       "      <td>Wednesday</td>\n",
       "      <td>20</td>\n",
       "      <td>25</td>\n",
       "      <td>44</td>\n",
       "      <td>20:00-20:30</td>\n",
       "      <td>28.200</td>\n",
       "      <td>extreme</td>\n",
       "    </tr>\n",
       "  </tbody>\n",
       "</table>\n",
       "<p>198 rows × 11 columns</p>\n",
       "</div>"
      ],
      "text/plain": [
       "      user_id        date  year month        day  hour  minute  second  \\\n",
       "80       3633  2017-09-18  2017   Sep     Monday    11      33      56   \n",
       "99       8953  2017-01-15  2017   Jan     Sunday    13      30       6   \n",
       "387      3633  2016-12-12  2016   Dec     Monday    20      29      12   \n",
       "456      3633  2017-08-15  2017   Aug    Tuesday    21       6      15   \n",
       "493      3633  2016-09-13  2016   Sep    Tuesday     7      34      14   \n",
       "...       ...         ...   ...   ...        ...   ...     ...     ...   \n",
       "9407      906  2017-09-26  2017   Sep    Tuesday     4      43      38   \n",
       "9436      906  2017-11-10  2017   Nov     Friday    10       4       8   \n",
       "9480      906  2017-10-18  2017   Oct  Wednesday    10      57      38   \n",
       "9722     8774  2018-07-06  2018   Jul     Friday    22      25      10   \n",
       "9894      906  2017-09-20  2017   Sep  Wednesday    20      25      44   \n",
       "\n",
       "      hour_period  duration_min    group  \n",
       "80    11:30-12:00        23.017  extreme  \n",
       "99    13:30-14:00        25.067  extreme  \n",
       "387   20:00-20:30        14.017  extreme  \n",
       "456   21:00-21:30        17.850  extreme  \n",
       "493   07:30-08:00        17.183  extreme  \n",
       "...           ...           ...      ...  \n",
       "9407  04:30-05:00        25.350  extreme  \n",
       "9436  10:00-10:30        21.533  extreme  \n",
       "9480  10:30-11:00        18.183  extreme  \n",
       "9722  22:00-22:30        21.800  extreme  \n",
       "9894  20:00-20:30        28.200  extreme  \n",
       "\n",
       "[198 rows x 11 columns]"
      ]
     },
     "execution_count": 8,
     "metadata": {},
     "output_type": "execute_result"
    }
   ],
   "source": [
    "df_tmp[df_tmp.group == 'extreme']"
   ]
  },
  {
   "cell_type": "code",
   "execution_count": 9,
   "metadata": {},
   "outputs": [
    {
     "data": {
      "text/html": [
       "<div>\n",
       "<style scoped>\n",
       "    .dataframe tbody tr th:only-of-type {\n",
       "        vertical-align: middle;\n",
       "    }\n",
       "\n",
       "    .dataframe tbody tr th {\n",
       "        vertical-align: top;\n",
       "    }\n",
       "\n",
       "    .dataframe thead th {\n",
       "        text-align: right;\n",
       "    }\n",
       "</style>\n",
       "<table border=\"1\" class=\"dataframe\">\n",
       "  <thead>\n",
       "    <tr style=\"text-align: right;\">\n",
       "      <th></th>\n",
       "      <th>hour_period</th>\n",
       "      <th>Avg duration</th>\n",
       "    </tr>\n",
       "  </thead>\n",
       "  <tbody>\n",
       "    <tr>\n",
       "      <th>0</th>\n",
       "      <td>01:30-02:00</td>\n",
       "      <td>26.867000</td>\n",
       "    </tr>\n",
       "    <tr>\n",
       "      <th>1</th>\n",
       "      <td>02:00-02:30</td>\n",
       "      <td>15.017000</td>\n",
       "    </tr>\n",
       "    <tr>\n",
       "      <th>2</th>\n",
       "      <td>02:30-03:00</td>\n",
       "      <td>25.517000</td>\n",
       "    </tr>\n",
       "    <tr>\n",
       "      <th>3</th>\n",
       "      <td>03:00-03:30</td>\n",
       "      <td>15.061333</td>\n",
       "    </tr>\n",
       "    <tr>\n",
       "      <th>4</th>\n",
       "      <td>03:30-04:00</td>\n",
       "      <td>14.391500</td>\n",
       "    </tr>\n",
       "    <tr>\n",
       "      <th>5</th>\n",
       "      <td>04:00-04:30</td>\n",
       "      <td>15.955667</td>\n",
       "    </tr>\n",
       "    <tr>\n",
       "      <th>6</th>\n",
       "      <td>04:30-05:00</td>\n",
       "      <td>18.966714</td>\n",
       "    </tr>\n",
       "    <tr>\n",
       "      <th>7</th>\n",
       "      <td>05:00-05:30</td>\n",
       "      <td>16.297571</td>\n",
       "    </tr>\n",
       "    <tr>\n",
       "      <th>8</th>\n",
       "      <td>05:30-06:00</td>\n",
       "      <td>14.722333</td>\n",
       "    </tr>\n",
       "    <tr>\n",
       "      <th>9</th>\n",
       "      <td>06:00-06:30</td>\n",
       "      <td>17.052833</td>\n",
       "    </tr>\n",
       "    <tr>\n",
       "      <th>10</th>\n",
       "      <td>06:30-07:00</td>\n",
       "      <td>17.721429</td>\n",
       "    </tr>\n",
       "    <tr>\n",
       "      <th>11</th>\n",
       "      <td>07:00-07:30</td>\n",
       "      <td>19.907143</td>\n",
       "    </tr>\n",
       "    <tr>\n",
       "      <th>12</th>\n",
       "      <td>07:30-08:00</td>\n",
       "      <td>16.516500</td>\n",
       "    </tr>\n",
       "    <tr>\n",
       "      <th>13</th>\n",
       "      <td>08:00-08:30</td>\n",
       "      <td>20.413400</td>\n",
       "    </tr>\n",
       "    <tr>\n",
       "      <th>14</th>\n",
       "      <td>08:30-09:00</td>\n",
       "      <td>18.355667</td>\n",
       "    </tr>\n",
       "    <tr>\n",
       "      <th>15</th>\n",
       "      <td>09:00-09:30</td>\n",
       "      <td>17.672333</td>\n",
       "    </tr>\n",
       "    <tr>\n",
       "      <th>16</th>\n",
       "      <td>09:30-10:00</td>\n",
       "      <td>15.372333</td>\n",
       "    </tr>\n",
       "    <tr>\n",
       "      <th>17</th>\n",
       "      <td>10:00-10:30</td>\n",
       "      <td>18.389800</td>\n",
       "    </tr>\n",
       "    <tr>\n",
       "      <th>18</th>\n",
       "      <td>10:30-11:00</td>\n",
       "      <td>18.560375</td>\n",
       "    </tr>\n",
       "    <tr>\n",
       "      <th>19</th>\n",
       "      <td>11:00-11:30</td>\n",
       "      <td>16.216750</td>\n",
       "    </tr>\n",
       "    <tr>\n",
       "      <th>20</th>\n",
       "      <td>11:30-12:00</td>\n",
       "      <td>22.350000</td>\n",
       "    </tr>\n",
       "    <tr>\n",
       "      <th>21</th>\n",
       "      <td>12:00-12:30</td>\n",
       "      <td>14.972333</td>\n",
       "    </tr>\n",
       "    <tr>\n",
       "      <th>22</th>\n",
       "      <td>12:30-13:00</td>\n",
       "      <td>16.300000</td>\n",
       "    </tr>\n",
       "    <tr>\n",
       "      <th>23</th>\n",
       "      <td>13:00-13:30</td>\n",
       "      <td>14.576800</td>\n",
       "    </tr>\n",
       "    <tr>\n",
       "      <th>24</th>\n",
       "      <td>13:30-14:00</td>\n",
       "      <td>19.962500</td>\n",
       "    </tr>\n",
       "    <tr>\n",
       "      <th>25</th>\n",
       "      <td>14:00-14:30</td>\n",
       "      <td>19.543750</td>\n",
       "    </tr>\n",
       "    <tr>\n",
       "      <th>26</th>\n",
       "      <td>14:30-15:00</td>\n",
       "      <td>17.400000</td>\n",
       "    </tr>\n",
       "    <tr>\n",
       "      <th>27</th>\n",
       "      <td>15:00-15:30</td>\n",
       "      <td>23.925000</td>\n",
       "    </tr>\n",
       "    <tr>\n",
       "      <th>28</th>\n",
       "      <td>15:30-16:00</td>\n",
       "      <td>23.525000</td>\n",
       "    </tr>\n",
       "    <tr>\n",
       "      <th>29</th>\n",
       "      <td>16:00-16:30</td>\n",
       "      <td>22.346600</td>\n",
       "    </tr>\n",
       "    <tr>\n",
       "      <th>30</th>\n",
       "      <td>16:30-17:00</td>\n",
       "      <td>17.236889</td>\n",
       "    </tr>\n",
       "    <tr>\n",
       "      <th>31</th>\n",
       "      <td>17:00-17:30</td>\n",
       "      <td>18.430000</td>\n",
       "    </tr>\n",
       "    <tr>\n",
       "      <th>32</th>\n",
       "      <td>17:30-18:00</td>\n",
       "      <td>16.243200</td>\n",
       "    </tr>\n",
       "    <tr>\n",
       "      <th>33</th>\n",
       "      <td>18:00-18:30</td>\n",
       "      <td>16.762500</td>\n",
       "    </tr>\n",
       "    <tr>\n",
       "      <th>34</th>\n",
       "      <td>18:30-19:00</td>\n",
       "      <td>16.125000</td>\n",
       "    </tr>\n",
       "    <tr>\n",
       "      <th>35</th>\n",
       "      <td>19:00-19:30</td>\n",
       "      <td>18.252667</td>\n",
       "    </tr>\n",
       "    <tr>\n",
       "      <th>36</th>\n",
       "      <td>19:30-20:00</td>\n",
       "      <td>19.343000</td>\n",
       "    </tr>\n",
       "    <tr>\n",
       "      <th>37</th>\n",
       "      <td>20:00-20:30</td>\n",
       "      <td>16.777250</td>\n",
       "    </tr>\n",
       "    <tr>\n",
       "      <th>38</th>\n",
       "      <td>20:30-21:00</td>\n",
       "      <td>20.455500</td>\n",
       "    </tr>\n",
       "    <tr>\n",
       "      <th>39</th>\n",
       "      <td>21:00-21:30</td>\n",
       "      <td>14.959800</td>\n",
       "    </tr>\n",
       "    <tr>\n",
       "      <th>40</th>\n",
       "      <td>21:30-22:00</td>\n",
       "      <td>20.083250</td>\n",
       "    </tr>\n",
       "    <tr>\n",
       "      <th>41</th>\n",
       "      <td>22:00-22:30</td>\n",
       "      <td>17.575000</td>\n",
       "    </tr>\n",
       "    <tr>\n",
       "      <th>42</th>\n",
       "      <td>22:30-23:00</td>\n",
       "      <td>20.750333</td>\n",
       "    </tr>\n",
       "    <tr>\n",
       "      <th>43</th>\n",
       "      <td>23:00-23:30</td>\n",
       "      <td>16.275000</td>\n",
       "    </tr>\n",
       "  </tbody>\n",
       "</table>\n",
       "</div>"
      ],
      "text/plain": [
       "    hour_period  Avg duration\n",
       "0   01:30-02:00     26.867000\n",
       "1   02:00-02:30     15.017000\n",
       "2   02:30-03:00     25.517000\n",
       "3   03:00-03:30     15.061333\n",
       "4   03:30-04:00     14.391500\n",
       "5   04:00-04:30     15.955667\n",
       "6   04:30-05:00     18.966714\n",
       "7   05:00-05:30     16.297571\n",
       "8   05:30-06:00     14.722333\n",
       "9   06:00-06:30     17.052833\n",
       "10  06:30-07:00     17.721429\n",
       "11  07:00-07:30     19.907143\n",
       "12  07:30-08:00     16.516500\n",
       "13  08:00-08:30     20.413400\n",
       "14  08:30-09:00     18.355667\n",
       "15  09:00-09:30     17.672333\n",
       "16  09:30-10:00     15.372333\n",
       "17  10:00-10:30     18.389800\n",
       "18  10:30-11:00     18.560375\n",
       "19  11:00-11:30     16.216750\n",
       "20  11:30-12:00     22.350000\n",
       "21  12:00-12:30     14.972333\n",
       "22  12:30-13:00     16.300000\n",
       "23  13:00-13:30     14.576800\n",
       "24  13:30-14:00     19.962500\n",
       "25  14:00-14:30     19.543750\n",
       "26  14:30-15:00     17.400000\n",
       "27  15:00-15:30     23.925000\n",
       "28  15:30-16:00     23.525000\n",
       "29  16:00-16:30     22.346600\n",
       "30  16:30-17:00     17.236889\n",
       "31  17:00-17:30     18.430000\n",
       "32  17:30-18:00     16.243200\n",
       "33  18:00-18:30     16.762500\n",
       "34  18:30-19:00     16.125000\n",
       "35  19:00-19:30     18.252667\n",
       "36  19:30-20:00     19.343000\n",
       "37  20:00-20:30     16.777250\n",
       "38  20:30-21:00     20.455500\n",
       "39  21:00-21:30     14.959800\n",
       "40  21:30-22:00     20.083250\n",
       "41  22:00-22:30     17.575000\n",
       "42  22:30-23:00     20.750333\n",
       "43  23:00-23:30     16.275000"
      ]
     },
     "execution_count": 9,
     "metadata": {},
     "output_type": "execute_result"
    }
   ],
   "source": [
    "extreme = extreme.groupby(['hour_period'])['duration_min'].mean().reset_index(name='Avg duration')\n",
    "extreme"
   ]
  },
  {
   "cell_type": "code",
   "execution_count": 14,
   "metadata": {},
   "outputs": [
    {
     "data": {
      "text/html": [
       "<div>\n",
       "<style scoped>\n",
       "    .dataframe tbody tr th:only-of-type {\n",
       "        vertical-align: middle;\n",
       "    }\n",
       "\n",
       "    .dataframe tbody tr th {\n",
       "        vertical-align: top;\n",
       "    }\n",
       "\n",
       "    .dataframe thead th {\n",
       "        text-align: right;\n",
       "    }\n",
       "</style>\n",
       "<table border=\"1\" class=\"dataframe\">\n",
       "  <thead>\n",
       "    <tr style=\"text-align: right;\">\n",
       "      <th></th>\n",
       "      <th>user_id</th>\n",
       "      <th>date</th>\n",
       "      <th>year</th>\n",
       "      <th>month</th>\n",
       "      <th>day</th>\n",
       "      <th>hour</th>\n",
       "      <th>minute</th>\n",
       "      <th>second</th>\n",
       "      <th>hour_period</th>\n",
       "      <th>duration_min</th>\n",
       "    </tr>\n",
       "  </thead>\n",
       "  <tbody>\n",
       "    <tr>\n",
       "      <th>303</th>\n",
       "      <td>3633</td>\n",
       "      <td>2017-01-03</td>\n",
       "      <td>2017</td>\n",
       "      <td>Jan</td>\n",
       "      <td>Tuesday</td>\n",
       "      <td>19</td>\n",
       "      <td>19</td>\n",
       "      <td>14</td>\n",
       "      <td>19:00-19:30</td>\n",
       "      <td>1.667</td>\n",
       "    </tr>\n",
       "    <tr>\n",
       "      <th>700</th>\n",
       "      <td>3633</td>\n",
       "      <td>2017-01-04</td>\n",
       "      <td>2017</td>\n",
       "      <td>Jan</td>\n",
       "      <td>Wednesday</td>\n",
       "      <td>9</td>\n",
       "      <td>1</td>\n",
       "      <td>52</td>\n",
       "      <td>09:00-09:30</td>\n",
       "      <td>1.067</td>\n",
       "    </tr>\n",
       "    <tr>\n",
       "      <th>482</th>\n",
       "      <td>3633</td>\n",
       "      <td>2017-01-04</td>\n",
       "      <td>2017</td>\n",
       "      <td>Jan</td>\n",
       "      <td>Wednesday</td>\n",
       "      <td>19</td>\n",
       "      <td>4</td>\n",
       "      <td>1</td>\n",
       "      <td>19:00-19:30</td>\n",
       "      <td>1.450</td>\n",
       "    </tr>\n",
       "    <tr>\n",
       "      <th>200</th>\n",
       "      <td>3633</td>\n",
       "      <td>2017-01-09</td>\n",
       "      <td>2017</td>\n",
       "      <td>Jan</td>\n",
       "      <td>Monday</td>\n",
       "      <td>20</td>\n",
       "      <td>57</td>\n",
       "      <td>16</td>\n",
       "      <td>20:30-21:00</td>\n",
       "      <td>0.150</td>\n",
       "    </tr>\n",
       "    <tr>\n",
       "      <th>205</th>\n",
       "      <td>3633</td>\n",
       "      <td>2017-01-10</td>\n",
       "      <td>2017</td>\n",
       "      <td>Jan</td>\n",
       "      <td>Tuesday</td>\n",
       "      <td>14</td>\n",
       "      <td>30</td>\n",
       "      <td>5</td>\n",
       "      <td>14:30-15:00</td>\n",
       "      <td>0.050</td>\n",
       "    </tr>\n",
       "    <tr>\n",
       "      <th>...</th>\n",
       "      <td>...</td>\n",
       "      <td>...</td>\n",
       "      <td>...</td>\n",
       "      <td>...</td>\n",
       "      <td>...</td>\n",
       "      <td>...</td>\n",
       "      <td>...</td>\n",
       "      <td>...</td>\n",
       "      <td>...</td>\n",
       "      <td>...</td>\n",
       "    </tr>\n",
       "    <tr>\n",
       "      <th>354</th>\n",
       "      <td>3633</td>\n",
       "      <td>2017-12-26</td>\n",
       "      <td>2017</td>\n",
       "      <td>Dec</td>\n",
       "      <td>Tuesday</td>\n",
       "      <td>13</td>\n",
       "      <td>8</td>\n",
       "      <td>7</td>\n",
       "      <td>13:00-13:30</td>\n",
       "      <td>11.817</td>\n",
       "    </tr>\n",
       "    <tr>\n",
       "      <th>113</th>\n",
       "      <td>3633</td>\n",
       "      <td>2017-12-29</td>\n",
       "      <td>2017</td>\n",
       "      <td>Dec</td>\n",
       "      <td>Friday</td>\n",
       "      <td>16</td>\n",
       "      <td>56</td>\n",
       "      <td>7</td>\n",
       "      <td>16:30-17:00</td>\n",
       "      <td>0.167</td>\n",
       "    </tr>\n",
       "    <tr>\n",
       "      <th>168</th>\n",
       "      <td>3633</td>\n",
       "      <td>2017-12-29</td>\n",
       "      <td>2017</td>\n",
       "      <td>Dec</td>\n",
       "      <td>Friday</td>\n",
       "      <td>17</td>\n",
       "      <td>43</td>\n",
       "      <td>37</td>\n",
       "      <td>17:30-18:00</td>\n",
       "      <td>0.167</td>\n",
       "    </tr>\n",
       "    <tr>\n",
       "      <th>562</th>\n",
       "      <td>3633</td>\n",
       "      <td>2017-12-30</td>\n",
       "      <td>2017</td>\n",
       "      <td>Dec</td>\n",
       "      <td>Saturday</td>\n",
       "      <td>19</td>\n",
       "      <td>25</td>\n",
       "      <td>56</td>\n",
       "      <td>19:00-19:30</td>\n",
       "      <td>3.667</td>\n",
       "    </tr>\n",
       "    <tr>\n",
       "      <th>261</th>\n",
       "      <td>3633</td>\n",
       "      <td>2017-12-31</td>\n",
       "      <td>2017</td>\n",
       "      <td>Dec</td>\n",
       "      <td>Sunday</td>\n",
       "      <td>13</td>\n",
       "      <td>47</td>\n",
       "      <td>51</td>\n",
       "      <td>13:30-14:00</td>\n",
       "      <td>0.433</td>\n",
       "    </tr>\n",
       "  </tbody>\n",
       "</table>\n",
       "<p>237 rows × 10 columns</p>\n",
       "</div>"
      ],
      "text/plain": [
       "     user_id        date  year month        day  hour  minute  second  \\\n",
       "303     3633  2017-01-03  2017   Jan    Tuesday    19      19      14   \n",
       "700     3633  2017-01-04  2017   Jan  Wednesday     9       1      52   \n",
       "482     3633  2017-01-04  2017   Jan  Wednesday    19       4       1   \n",
       "200     3633  2017-01-09  2017   Jan     Monday    20      57      16   \n",
       "205     3633  2017-01-10  2017   Jan    Tuesday    14      30       5   \n",
       "..       ...         ...   ...   ...        ...   ...     ...     ...   \n",
       "354     3633  2017-12-26  2017   Dec    Tuesday    13       8       7   \n",
       "113     3633  2017-12-29  2017   Dec     Friday    16      56       7   \n",
       "168     3633  2017-12-29  2017   Dec     Friday    17      43      37   \n",
       "562     3633  2017-12-30  2017   Dec   Saturday    19      25      56   \n",
       "261     3633  2017-12-31  2017   Dec     Sunday    13      47      51   \n",
       "\n",
       "     hour_period  duration_min  \n",
       "303  19:00-19:30         1.667  \n",
       "700  09:00-09:30         1.067  \n",
       "482  19:00-19:30         1.450  \n",
       "200  20:30-21:00         0.150  \n",
       "205  14:30-15:00         0.050  \n",
       "..           ...           ...  \n",
       "354  13:00-13:30        11.817  \n",
       "113  16:30-17:00         0.167  \n",
       "168  17:30-18:00         0.167  \n",
       "562  19:00-19:30         3.667  \n",
       "261  13:30-14:00         0.433  \n",
       "\n",
       "[237 rows x 10 columns]"
      ]
     },
     "execution_count": 14,
     "metadata": {},
     "output_type": "execute_result"
    }
   ],
   "source": [
    "df_3633 = df[(df.user_id == 3633) & (df.year == 2017)].sort_values(['date', 'hour_period'])\n",
    "df_3633"
   ]
  },
  {
   "cell_type": "code",
   "execution_count": 15,
   "metadata": {},
   "outputs": [
    {
     "data": {
      "application/vnd.plotly.v1+json": {
       "config": {
        "plotlyServerURL": "https://plot.ly"
       },
       "data": [
        {
         "marker": {
          "color": "black"
         },
         "text": "counts",
         "type": "scatter",
         "x": [
          "2017-01-0319:00-19:30",
          "2017-01-0409:00-09:30",
          "2017-01-0419:00-19:30",
          "2017-01-0920:30-21:00",
          "2017-01-1014:30-15:00",
          "2017-01-1014:30-15:00",
          "2017-01-1020:30-21:00",
          "2017-01-1021:00-21:30",
          "2017-01-1113:00-13:30",
          "2017-01-1113:00-13:30",
          "2017-01-1320:30-21:00",
          "2017-01-1414:30-15:00",
          "2017-01-1600:00-00:30",
          "2017-01-1708:00-08:30",
          "2017-01-1708:30-09:00",
          "2017-01-2113:30-14:00",
          "2017-01-2206:30-07:00",
          "2017-01-2314:00-14:30",
          "2017-01-2314:30-15:00",
          "2017-01-2316:00-16:30",
          "2017-01-2405:30-06:00",
          "2017-01-2413:00-13:30",
          "2017-01-2420:30-21:00",
          "2017-01-2420:30-21:00",
          "2017-01-2421:00-21:30",
          "2017-01-2513:30-14:00",
          "2017-01-2608:00-08:30",
          "2017-01-2617:00-17:30",
          "2017-01-2623:30-24:00",
          "2017-01-2708:00-08:30",
          "2017-01-2713:00-13:30",
          "2017-01-2814:30-15:00",
          "2017-01-2907:30-08:00",
          "2017-01-3015:00-15:30",
          "2017-01-3107:30-08:00",
          "2017-02-0116:30-17:00",
          "2017-02-0218:00-18:30",
          "2017-02-0401:30-02:00",
          "2017-02-0412:00-12:30",
          "2017-02-0420:00-20:30",
          "2017-02-0816:00-16:30",
          "2017-02-0919:00-19:30",
          "2017-02-1213:00-13:30",
          "2017-02-1217:00-17:30",
          "2017-02-1316:00-16:30",
          "2017-02-1316:30-17:00",
          "2017-02-1414:30-15:00",
          "2017-02-2114:00-14:30",
          "2017-02-2114:30-15:00",
          "2017-02-2215:30-16:00",
          "2017-02-2407:30-08:00",
          "2017-02-2412:00-12:30",
          "2017-02-2414:00-14:30",
          "2017-02-2712:30-13:00",
          "2017-02-2719:00-19:30",
          "2017-03-0309:00-09:30",
          "2017-03-0401:30-02:00",
          "2017-03-0510:30-11:00",
          "2017-03-0515:30-16:00",
          "2017-03-0619:30-20:00",
          "2017-03-0708:00-08:30",
          "2017-03-0713:00-13:30",
          "2017-03-0806:30-07:00",
          "2017-03-0909:00-09:30",
          "2017-03-0918:30-19:00",
          "2017-03-1005:00-05:30",
          "2017-03-1005:30-06:00",
          "2017-03-1211:00-11:30",
          "2017-03-1319:30-20:00",
          "2017-03-1408:30-09:00",
          "2017-03-1414:30-15:00",
          "2017-03-1606:00-06:30",
          "2017-03-1622:30-23:00",
          "2017-03-2214:30-15:00",
          "2017-03-2502:30-03:00",
          "2017-03-2522:00-22:30",
          "2017-03-2609:30-10:00",
          "2017-03-2700:30-01:00",
          "2017-03-2807:30-08:00",
          "2017-03-2809:30-10:00",
          "2017-03-3016:00-16:30",
          "2017-04-0317:00-17:30",
          "2017-04-0605:30-06:00",
          "2017-04-0708:30-09:00",
          "2017-04-0805:00-05:30",
          "2017-04-0820:00-20:30",
          "2017-04-1314:00-14:30",
          "2017-04-1417:30-18:00",
          "2017-04-1613:30-14:00",
          "2017-04-1719:30-20:00",
          "2017-04-1916:30-17:00",
          "2017-04-1918:30-19:00",
          "2017-04-2008:30-09:00",
          "2017-04-2408:30-09:00",
          "2017-04-2513:30-14:00",
          "2017-04-2519:30-20:00",
          "2017-04-3010:00-10:30",
          "2017-04-3023:00-23:30",
          "2017-05-0616:30-17:00",
          "2017-05-1108:00-08:30",
          "2017-05-1110:30-11:00",
          "2017-05-1909:00-09:30",
          "2017-05-1921:30-22:00",
          "2017-05-2014:30-15:00",
          "2017-05-2114:30-15:00",
          "2017-05-2607:00-07:30",
          "2017-05-2712:00-12:30",
          "2017-05-2902:30-03:00",
          "2017-05-3015:30-16:00",
          "2017-06-0406:00-06:30",
          "2017-06-0518:00-18:30",
          "2017-06-0716:30-17:00",
          "2017-06-0805:30-06:00",
          "2017-06-0811:30-12:00",
          "2017-06-0917:30-18:00",
          "2017-06-0919:30-20:00",
          "2017-06-1012:00-12:30",
          "2017-06-1015:30-16:00",
          "2017-06-1315:00-15:30",
          "2017-06-1422:30-23:00",
          "2017-06-1706:30-07:00",
          "2017-06-1903:00-03:30",
          "2017-06-2220:00-20:30",
          "2017-06-2411:30-12:00",
          "2017-06-2608:00-08:30",
          "2017-06-2615:00-15:30",
          "2017-06-2717:00-17:30",
          "2017-06-2717:00-17:30",
          "2017-06-2910:00-10:30",
          "2017-07-0808:30-09:00",
          "2017-07-1000:30-01:00",
          "2017-07-1000:30-01:00",
          "2017-07-1111:30-12:00",
          "2017-07-1111:30-12:00",
          "2017-07-1623:00-23:30",
          "2017-07-1707:00-07:30",
          "2017-07-1808:30-09:00",
          "2017-07-1820:00-20:30",
          "2017-07-1821:00-21:30",
          "2017-07-2121:00-21:30",
          "2017-07-2410:30-11:00",
          "2017-07-2520:00-20:30",
          "2017-07-2616:00-16:30",
          "2017-07-2922:00-22:30",
          "2017-07-3121:30-22:00",
          "2017-08-0112:30-13:00",
          "2017-08-0206:30-07:00",
          "2017-08-0521:30-22:00",
          "2017-08-0601:00-01:30",
          "2017-08-0617:00-17:30",
          "2017-08-1015:00-15:30",
          "2017-08-1109:00-09:30",
          "2017-08-1517:30-18:00",
          "2017-08-1521:00-21:30",
          "2017-08-1718:00-18:30",
          "2017-08-1719:00-19:30",
          "2017-08-1912:30-13:00",
          "2017-08-2119:00-19:30",
          "2017-08-2119:00-19:30",
          "2017-08-2219:00-19:30",
          "2017-08-2220:30-21:00",
          "2017-08-2407:00-07:30",
          "2017-08-2719:00-19:30",
          "2017-08-2722:00-22:30",
          "2017-08-2813:00-13:30",
          "2017-08-3009:30-10:00",
          "2017-08-3100:30-01:00",
          "2017-09-0109:00-09:30",
          "2017-09-0112:30-13:00",
          "2017-09-0116:30-17:00",
          "2017-09-0809:30-10:00",
          "2017-09-0912:30-13:00",
          "2017-09-1500:00-00:30",
          "2017-09-1512:30-13:00",
          "2017-09-1609:00-09:30",
          "2017-09-1612:00-12:30",
          "2017-09-1811:30-12:00",
          "2017-09-2004:30-05:00",
          "2017-09-2004:30-05:00",
          "2017-09-2605:00-05:30",
          "2017-09-2807:00-07:30",
          "2017-09-3020:00-20:30",
          "2017-10-0513:30-14:00",
          "2017-10-0813:30-14:00",
          "2017-10-1314:00-14:30",
          "2017-10-1514:00-14:30",
          "2017-10-1514:30-15:00",
          "2017-10-1808:00-08:30",
          "2017-10-1912:30-13:00",
          "2017-10-1913:00-13:30",
          "2017-10-2116:00-16:30",
          "2017-10-2219:00-19:30",
          "2017-10-2509:30-10:00",
          "2017-10-2820:00-20:30",
          "2017-10-2823:00-23:30",
          "2017-10-2914:00-14:30",
          "2017-10-2915:00-15:30",
          "2017-10-3019:30-20:00",
          "2017-10-3104:30-05:00",
          "2017-11-0204:30-05:00",
          "2017-11-0216:30-17:00",
          "2017-11-0310:30-11:00",
          "2017-11-0410:00-10:30",
          "2017-11-0414:30-15:00",
          "2017-11-0512:30-13:00",
          "2017-11-0514:00-14:30",
          "2017-11-0718:30-19:00",
          "2017-11-1120:30-21:00",
          "2017-11-1216:30-17:00",
          "2017-11-1308:00-08:30",
          "2017-11-1315:00-15:30",
          "2017-11-1319:30-20:00",
          "2017-11-1320:00-20:30",
          "2017-11-1414:00-14:30",
          "2017-11-1512:00-12:30",
          "2017-11-2309:30-10:00",
          "2017-11-2414:00-14:30",
          "2017-11-2809:00-09:30",
          "2017-12-0207:30-08:00",
          "2017-12-0708:00-08:30",
          "2017-12-0710:00-10:30",
          "2017-12-0808:30-09:00",
          "2017-12-1512:30-13:00",
          "2017-12-1608:30-09:00",
          "2017-12-1610:00-10:30",
          "2017-12-2110:00-10:30",
          "2017-12-2308:30-09:00",
          "2017-12-2406:30-07:00",
          "2017-12-2413:30-14:00",
          "2017-12-2413:30-14:00",
          "2017-12-2414:00-14:30",
          "2017-12-2415:30-16:00",
          "2017-12-2613:00-13:30",
          "2017-12-2916:30-17:00",
          "2017-12-2917:30-18:00",
          "2017-12-3019:00-19:30",
          "2017-12-3113:30-14:00"
         ],
         "y": [
          1.667,
          1.067,
          1.45,
          0.15,
          0.05,
          11.45,
          1.133,
          2.65,
          0.833,
          0.5,
          5.333,
          1.233,
          3.467,
          1.167,
          2.35,
          0.167,
          0.667,
          0.333,
          2.883,
          0.167,
          1.733,
          0.167,
          3.4,
          0.167,
          0.167,
          1.8,
          1.5,
          0.167,
          0.167,
          1.217,
          0.1,
          0.15,
          5.333,
          1.433,
          0.667,
          0.567,
          3.833,
          1.167,
          4.567,
          0.167,
          0.333,
          0.917,
          1.467,
          11.517,
          0.167,
          1.367,
          0.683,
          0.833,
          0.35,
          2.5,
          0.167,
          1.483,
          2.667,
          0.85,
          4.817,
          1.333,
          0.833,
          0.167,
          0.167,
          0.033,
          0.083,
          0.317,
          1.2,
          1.417,
          0.083,
          0.833,
          0.1,
          2.383,
          0.667,
          0.517,
          0.017,
          0.167,
          0.317,
          0.133,
          4.167,
          1,
          0.317,
          0.167,
          0.167,
          0.3,
          0.333,
          2.733,
          1.467,
          1.5,
          11,
          0.167,
          1.667,
          0.833,
          0.833,
          4.667,
          0.5,
          1.6,
          2.917,
          0.5,
          0.15,
          1.117,
          0.333,
          0.333,
          0.167,
          0.183,
          0.333,
          1,
          1.333,
          0.633,
          1.5,
          0.167,
          13.2,
          0.5,
          0.667,
          1.5,
          1.067,
          2.167,
          0.5,
          0.333,
          0.167,
          0.167,
          3.5,
          2.3,
          0.833,
          0.5,
          0.667,
          1.683,
          0.667,
          0.75,
          0.667,
          1.5,
          0.9,
          1,
          0.167,
          1.167,
          3.5,
          1.633,
          0.5,
          0.167,
          1.5,
          3.917,
          0.783,
          0.5,
          1.167,
          6.067,
          4.067,
          0.933,
          2.017,
          4.5,
          10.75,
          6.333,
          0.067,
          0.167,
          35.883,
          3.85,
          1,
          2.833,
          0.167,
          17.85,
          3,
          0.333,
          4.833,
          7.017,
          4.833,
          1.5,
          54.717,
          4.333,
          3.583,
          0.5,
          9.167,
          0.333,
          1.5,
          1.133,
          3.167,
          10.333,
          0.833,
          5.233,
          3,
          2,
          1.833,
          0.033,
          23.017,
          2.683,
          6.333,
          2.333,
          0.833,
          2.717,
          0.15,
          0.167,
          3.467,
          1.833,
          1,
          0.55,
          0.5,
          0.317,
          0.667,
          17.267,
          0.167,
          2.533,
          0.333,
          5.017,
          2.167,
          0.383,
          3.083,
          7.6,
          1.533,
          0.933,
          0.767,
          0.167,
          5.667,
          0.917,
          0.333,
          3.517,
          0.283,
          0.067,
          0.867,
          6.283,
          1,
          0.1,
          0.167,
          0.133,
          0.667,
          0.333,
          0.167,
          0.983,
          2.15,
          8.483,
          5.517,
          0.05,
          0.25,
          0.833,
          0.167,
          0.333,
          3.167,
          0.117,
          0.283,
          0.817,
          11.817,
          0.167,
          0.167,
          3.667,
          0.433
         ]
        }
       ],
       "layout": {
        "showlegend": false,
        "template": {
         "data": {
          "bar": [
           {
            "error_x": {
             "color": "#2a3f5f"
            },
            "error_y": {
             "color": "#2a3f5f"
            },
            "marker": {
             "line": {
              "color": "#E5ECF6",
              "width": 0.5
             },
             "pattern": {
              "fillmode": "overlay",
              "size": 10,
              "solidity": 0.2
             }
            },
            "type": "bar"
           }
          ],
          "barpolar": [
           {
            "marker": {
             "line": {
              "color": "#E5ECF6",
              "width": 0.5
             },
             "pattern": {
              "fillmode": "overlay",
              "size": 10,
              "solidity": 0.2
             }
            },
            "type": "barpolar"
           }
          ],
          "carpet": [
           {
            "aaxis": {
             "endlinecolor": "#2a3f5f",
             "gridcolor": "white",
             "linecolor": "white",
             "minorgridcolor": "white",
             "startlinecolor": "#2a3f5f"
            },
            "baxis": {
             "endlinecolor": "#2a3f5f",
             "gridcolor": "white",
             "linecolor": "white",
             "minorgridcolor": "white",
             "startlinecolor": "#2a3f5f"
            },
            "type": "carpet"
           }
          ],
          "choropleth": [
           {
            "colorbar": {
             "outlinewidth": 0,
             "ticks": ""
            },
            "type": "choropleth"
           }
          ],
          "contour": [
           {
            "colorbar": {
             "outlinewidth": 0,
             "ticks": ""
            },
            "colorscale": [
             [
              0,
              "#0d0887"
             ],
             [
              0.1111111111111111,
              "#46039f"
             ],
             [
              0.2222222222222222,
              "#7201a8"
             ],
             [
              0.3333333333333333,
              "#9c179e"
             ],
             [
              0.4444444444444444,
              "#bd3786"
             ],
             [
              0.5555555555555556,
              "#d8576b"
             ],
             [
              0.6666666666666666,
              "#ed7953"
             ],
             [
              0.7777777777777778,
              "#fb9f3a"
             ],
             [
              0.8888888888888888,
              "#fdca26"
             ],
             [
              1,
              "#f0f921"
             ]
            ],
            "type": "contour"
           }
          ],
          "contourcarpet": [
           {
            "colorbar": {
             "outlinewidth": 0,
             "ticks": ""
            },
            "type": "contourcarpet"
           }
          ],
          "heatmap": [
           {
            "colorbar": {
             "outlinewidth": 0,
             "ticks": ""
            },
            "colorscale": [
             [
              0,
              "#0d0887"
             ],
             [
              0.1111111111111111,
              "#46039f"
             ],
             [
              0.2222222222222222,
              "#7201a8"
             ],
             [
              0.3333333333333333,
              "#9c179e"
             ],
             [
              0.4444444444444444,
              "#bd3786"
             ],
             [
              0.5555555555555556,
              "#d8576b"
             ],
             [
              0.6666666666666666,
              "#ed7953"
             ],
             [
              0.7777777777777778,
              "#fb9f3a"
             ],
             [
              0.8888888888888888,
              "#fdca26"
             ],
             [
              1,
              "#f0f921"
             ]
            ],
            "type": "heatmap"
           }
          ],
          "heatmapgl": [
           {
            "colorbar": {
             "outlinewidth": 0,
             "ticks": ""
            },
            "colorscale": [
             [
              0,
              "#0d0887"
             ],
             [
              0.1111111111111111,
              "#46039f"
             ],
             [
              0.2222222222222222,
              "#7201a8"
             ],
             [
              0.3333333333333333,
              "#9c179e"
             ],
             [
              0.4444444444444444,
              "#bd3786"
             ],
             [
              0.5555555555555556,
              "#d8576b"
             ],
             [
              0.6666666666666666,
              "#ed7953"
             ],
             [
              0.7777777777777778,
              "#fb9f3a"
             ],
             [
              0.8888888888888888,
              "#fdca26"
             ],
             [
              1,
              "#f0f921"
             ]
            ],
            "type": "heatmapgl"
           }
          ],
          "histogram": [
           {
            "marker": {
             "pattern": {
              "fillmode": "overlay",
              "size": 10,
              "solidity": 0.2
             }
            },
            "type": "histogram"
           }
          ],
          "histogram2d": [
           {
            "colorbar": {
             "outlinewidth": 0,
             "ticks": ""
            },
            "colorscale": [
             [
              0,
              "#0d0887"
             ],
             [
              0.1111111111111111,
              "#46039f"
             ],
             [
              0.2222222222222222,
              "#7201a8"
             ],
             [
              0.3333333333333333,
              "#9c179e"
             ],
             [
              0.4444444444444444,
              "#bd3786"
             ],
             [
              0.5555555555555556,
              "#d8576b"
             ],
             [
              0.6666666666666666,
              "#ed7953"
             ],
             [
              0.7777777777777778,
              "#fb9f3a"
             ],
             [
              0.8888888888888888,
              "#fdca26"
             ],
             [
              1,
              "#f0f921"
             ]
            ],
            "type": "histogram2d"
           }
          ],
          "histogram2dcontour": [
           {
            "colorbar": {
             "outlinewidth": 0,
             "ticks": ""
            },
            "colorscale": [
             [
              0,
              "#0d0887"
             ],
             [
              0.1111111111111111,
              "#46039f"
             ],
             [
              0.2222222222222222,
              "#7201a8"
             ],
             [
              0.3333333333333333,
              "#9c179e"
             ],
             [
              0.4444444444444444,
              "#bd3786"
             ],
             [
              0.5555555555555556,
              "#d8576b"
             ],
             [
              0.6666666666666666,
              "#ed7953"
             ],
             [
              0.7777777777777778,
              "#fb9f3a"
             ],
             [
              0.8888888888888888,
              "#fdca26"
             ],
             [
              1,
              "#f0f921"
             ]
            ],
            "type": "histogram2dcontour"
           }
          ],
          "mesh3d": [
           {
            "colorbar": {
             "outlinewidth": 0,
             "ticks": ""
            },
            "type": "mesh3d"
           }
          ],
          "parcoords": [
           {
            "line": {
             "colorbar": {
              "outlinewidth": 0,
              "ticks": ""
             }
            },
            "type": "parcoords"
           }
          ],
          "pie": [
           {
            "automargin": true,
            "type": "pie"
           }
          ],
          "scatter": [
           {
            "marker": {
             "colorbar": {
              "outlinewidth": 0,
              "ticks": ""
             }
            },
            "type": "scatter"
           }
          ],
          "scatter3d": [
           {
            "line": {
             "colorbar": {
              "outlinewidth": 0,
              "ticks": ""
             }
            },
            "marker": {
             "colorbar": {
              "outlinewidth": 0,
              "ticks": ""
             }
            },
            "type": "scatter3d"
           }
          ],
          "scattercarpet": [
           {
            "marker": {
             "colorbar": {
              "outlinewidth": 0,
              "ticks": ""
             }
            },
            "type": "scattercarpet"
           }
          ],
          "scattergeo": [
           {
            "marker": {
             "colorbar": {
              "outlinewidth": 0,
              "ticks": ""
             }
            },
            "type": "scattergeo"
           }
          ],
          "scattergl": [
           {
            "marker": {
             "colorbar": {
              "outlinewidth": 0,
              "ticks": ""
             }
            },
            "type": "scattergl"
           }
          ],
          "scattermapbox": [
           {
            "marker": {
             "colorbar": {
              "outlinewidth": 0,
              "ticks": ""
             }
            },
            "type": "scattermapbox"
           }
          ],
          "scatterpolar": [
           {
            "marker": {
             "colorbar": {
              "outlinewidth": 0,
              "ticks": ""
             }
            },
            "type": "scatterpolar"
           }
          ],
          "scatterpolargl": [
           {
            "marker": {
             "colorbar": {
              "outlinewidth": 0,
              "ticks": ""
             }
            },
            "type": "scatterpolargl"
           }
          ],
          "scatterternary": [
           {
            "marker": {
             "colorbar": {
              "outlinewidth": 0,
              "ticks": ""
             }
            },
            "type": "scatterternary"
           }
          ],
          "surface": [
           {
            "colorbar": {
             "outlinewidth": 0,
             "ticks": ""
            },
            "colorscale": [
             [
              0,
              "#0d0887"
             ],
             [
              0.1111111111111111,
              "#46039f"
             ],
             [
              0.2222222222222222,
              "#7201a8"
             ],
             [
              0.3333333333333333,
              "#9c179e"
             ],
             [
              0.4444444444444444,
              "#bd3786"
             ],
             [
              0.5555555555555556,
              "#d8576b"
             ],
             [
              0.6666666666666666,
              "#ed7953"
             ],
             [
              0.7777777777777778,
              "#fb9f3a"
             ],
             [
              0.8888888888888888,
              "#fdca26"
             ],
             [
              1,
              "#f0f921"
             ]
            ],
            "type": "surface"
           }
          ],
          "table": [
           {
            "cells": {
             "fill": {
              "color": "#EBF0F8"
             },
             "line": {
              "color": "white"
             }
            },
            "header": {
             "fill": {
              "color": "#C8D4E3"
             },
             "line": {
              "color": "white"
             }
            },
            "type": "table"
           }
          ]
         },
         "layout": {
          "annotationdefaults": {
           "arrowcolor": "#2a3f5f",
           "arrowhead": 0,
           "arrowwidth": 1
          },
          "autotypenumbers": "strict",
          "coloraxis": {
           "colorbar": {
            "outlinewidth": 0,
            "ticks": ""
           }
          },
          "colorscale": {
           "diverging": [
            [
             0,
             "#8e0152"
            ],
            [
             0.1,
             "#c51b7d"
            ],
            [
             0.2,
             "#de77ae"
            ],
            [
             0.3,
             "#f1b6da"
            ],
            [
             0.4,
             "#fde0ef"
            ],
            [
             0.5,
             "#f7f7f7"
            ],
            [
             0.6,
             "#e6f5d0"
            ],
            [
             0.7,
             "#b8e186"
            ],
            [
             0.8,
             "#7fbc41"
            ],
            [
             0.9,
             "#4d9221"
            ],
            [
             1,
             "#276419"
            ]
           ],
           "sequential": [
            [
             0,
             "#0d0887"
            ],
            [
             0.1111111111111111,
             "#46039f"
            ],
            [
             0.2222222222222222,
             "#7201a8"
            ],
            [
             0.3333333333333333,
             "#9c179e"
            ],
            [
             0.4444444444444444,
             "#bd3786"
            ],
            [
             0.5555555555555556,
             "#d8576b"
            ],
            [
             0.6666666666666666,
             "#ed7953"
            ],
            [
             0.7777777777777778,
             "#fb9f3a"
            ],
            [
             0.8888888888888888,
             "#fdca26"
            ],
            [
             1,
             "#f0f921"
            ]
           ],
           "sequentialminus": [
            [
             0,
             "#0d0887"
            ],
            [
             0.1111111111111111,
             "#46039f"
            ],
            [
             0.2222222222222222,
             "#7201a8"
            ],
            [
             0.3333333333333333,
             "#9c179e"
            ],
            [
             0.4444444444444444,
             "#bd3786"
            ],
            [
             0.5555555555555556,
             "#d8576b"
            ],
            [
             0.6666666666666666,
             "#ed7953"
            ],
            [
             0.7777777777777778,
             "#fb9f3a"
            ],
            [
             0.8888888888888888,
             "#fdca26"
            ],
            [
             1,
             "#f0f921"
            ]
           ]
          },
          "colorway": [
           "#636efa",
           "#EF553B",
           "#00cc96",
           "#ab63fa",
           "#FFA15A",
           "#19d3f3",
           "#FF6692",
           "#B6E880",
           "#FF97FF",
           "#FECB52"
          ],
          "font": {
           "color": "#2a3f5f"
          },
          "geo": {
           "bgcolor": "white",
           "lakecolor": "white",
           "landcolor": "#E5ECF6",
           "showlakes": true,
           "showland": true,
           "subunitcolor": "white"
          },
          "hoverlabel": {
           "align": "left"
          },
          "hovermode": "closest",
          "mapbox": {
           "style": "light"
          },
          "paper_bgcolor": "white",
          "plot_bgcolor": "#E5ECF6",
          "polar": {
           "angularaxis": {
            "gridcolor": "white",
            "linecolor": "white",
            "ticks": ""
           },
           "bgcolor": "#E5ECF6",
           "radialaxis": {
            "gridcolor": "white",
            "linecolor": "white",
            "ticks": ""
           }
          },
          "scene": {
           "xaxis": {
            "backgroundcolor": "#E5ECF6",
            "gridcolor": "white",
            "gridwidth": 2,
            "linecolor": "white",
            "showbackground": true,
            "ticks": "",
            "zerolinecolor": "white"
           },
           "yaxis": {
            "backgroundcolor": "#E5ECF6",
            "gridcolor": "white",
            "gridwidth": 2,
            "linecolor": "white",
            "showbackground": true,
            "ticks": "",
            "zerolinecolor": "white"
           },
           "zaxis": {
            "backgroundcolor": "#E5ECF6",
            "gridcolor": "white",
            "gridwidth": 2,
            "linecolor": "white",
            "showbackground": true,
            "ticks": "",
            "zerolinecolor": "white"
           }
          },
          "shapedefaults": {
           "line": {
            "color": "#2a3f5f"
           }
          },
          "ternary": {
           "aaxis": {
            "gridcolor": "white",
            "linecolor": "white",
            "ticks": ""
           },
           "baxis": {
            "gridcolor": "white",
            "linecolor": "white",
            "ticks": ""
           },
           "bgcolor": "#E5ECF6",
           "caxis": {
            "gridcolor": "white",
            "linecolor": "white",
            "ticks": ""
           }
          },
          "title": {
           "x": 0.05
          },
          "xaxis": {
           "automargin": true,
           "gridcolor": "white",
           "linecolor": "white",
           "ticks": "",
           "title": {
            "standoff": 15
           },
           "zerolinecolor": "white",
           "zerolinewidth": 2
          },
          "yaxis": {
           "automargin": true,
           "gridcolor": "white",
           "linecolor": "white",
           "ticks": "",
           "title": {
            "standoff": 15
           },
           "zerolinecolor": "white",
           "zerolinewidth": 2
          }
         }
        },
        "title": {
         "text": "Tweets about Malioboro from Jan 2020 to Jan 2021 Day by Day"
        },
        "xaxis": {
         "title": {
          "text": "Time"
         }
        },
        "yaxis": {
         "title": {
          "text": "Total tweets"
         }
        }
       }
      }
     },
     "metadata": {},
     "output_type": "display_data"
    }
   ],
   "source": [
    "import plotly.graph_objects as go\n",
    "\n",
    "point\n",
    "\n",
    "fig = go.Figure(data=go.Scatter(x=df_3633['date'].astype(dtype=str)+df_3633['hour_period'].astype(dtype=str), \n",
    "                                y=df_3633['duration_min'],\n",
    "                                marker_color='black', text=\"counts\"))\n",
    "\n",
    "fig.add_vrect()\n",
    "\n",
    "fig.update_layout({\"title\": 'Tweets about Malioboro from Jan 2020 to Jan 2021 Day by Day',\n",
    "                   \"xaxis\": {\"title\":\"Time\"},\n",
    "                   \"yaxis\": {\"title\":\"Total tweets\"},\n",
    "                   \"showlegend\": False})\n",
    "fig.show()"
   ]
  },
  {
   "cell_type": "code",
   "execution_count": null,
   "metadata": {},
   "outputs": [],
   "source": [
    "# imports\n",
    "import numpy as np\n",
    "import pandas as pd\n",
    "import plotly.graph_objects as go\n",
    "import plotly.express as px\n",
    "import datetime\n",
    "\n",
    "pd.set_option('display.max_rows', None)\n",
    "\n",
    "df_3633 = df[df.user_id == 3633]\n",
    "\n",
    "# plotly setup\n",
    "fig = px.line(df, x='date', y='duration_min')\n",
    "fig.update_xaxes(showgrid=True, gridwidth=1, gridcolor='rgba(0,0,255,0.1)')\n",
    "fig.update_yaxes(showgrid=True, gridwidth=1, gridcolor='rgba(0,0,255,0.1)')\n",
    "\n",
    "\n",
    "# function to set background color for a\n",
    "# specified variable and a specified level\n",
    "def highLights(fig, variable, level, mode, fillcolor, layer):\n",
    "    \"\"\"\n",
    "    Set a specified color as background for given\n",
    "    levels of a specified variable using a shape.\n",
    "    \n",
    "    Keyword arguments:\n",
    "    ==================\n",
    "    fig -- plotly figure\n",
    "    variable -- column name in a pandas dataframe\n",
    "    level -- int or float\n",
    "    mode -- set threshold above or below\n",
    "    fillcolor -- any color type that plotly can handle\n",
    "    layer -- position of shape in plotly fiugre, like \"below\"\n",
    "    \n",
    "    \"\"\"\n",
    "    \n",
    "    if mode == 'above':\n",
    "        m = df[variable].gt(level)\n",
    "    \n",
    "    if mode == 'below':\n",
    "        m = df[variable].lt(level)\n",
    "        \n",
    "    df1 = df[m].groupby((m).cumsum())['date'].agg(['first','last'])\n",
    "\n",
    "    for index, row in df1.iterrows():\n",
    "        #print(row['first'], row['last'])\n",
    "        fig.add_shape(type=\"rect\",\n",
    "                        xref=\"x\",\n",
    "                        yref=\"paper\",\n",
    "                        x0=row['first'],\n",
    "                        y0=0,\n",
    "                        x1=row['last'],\n",
    "                        y1=1,\n",
    "                        line=dict(color=\"rgba(0,0,0,0)\",width=3,),\n",
    "                        fillcolor=fillcolor,\n",
    "                        layer=layer) \n",
    "    return(fig)\n",
    "\n",
    "fig = highLights(fig = fig, variable = 'duration_min', level = 5, mode = 'above',\n",
    "               fillcolor = 'rgba(200,0,200,0.2)', layer = 'below')\n",
    "\n",
    "fig.update_layout(template = 'plotly_dark')\n",
    "\n",
    "fig.show()"
   ]
  }
 ],
 "metadata": {
  "kernelspec": {
   "display_name": "Python 3",
   "language": "python",
   "name": "python3"
  },
  "language_info": {
   "codemirror_mode": {
    "name": "ipython",
    "version": 3
   },
   "file_extension": ".py",
   "mimetype": "text/x-python",
   "name": "python",
   "nbconvert_exporter": "python",
   "pygments_lexer": "ipython3",
   "version": "3.9.8"
  }
 },
 "nbformat": 4,
 "nbformat_minor": 4
}
