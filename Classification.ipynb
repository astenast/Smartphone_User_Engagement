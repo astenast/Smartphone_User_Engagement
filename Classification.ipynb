{
 "cells": [
  {
   "cell_type": "code",
   "execution_count": 55,
   "metadata": {},
   "outputs": [],
   "source": [
    "import pandas as pd"
   ]
  },
  {
   "cell_type": "code",
   "execution_count": 56,
   "metadata": {},
   "outputs": [],
   "source": [
    "cats = [\n",
    "    '00:00-01:00', '01:00-02:00', '02:00-03:00', '03:00-04:00', '04:00-05:00','05:00-06:00', '06:00-07:00', '07:00-08:00',\n",
    "    '08:00-09:00', '09:00-10:00', '10:00-11:00','11:00-12:00', '12:00-13:00', '13:00-14:00','14:00-15:00', '15:00-16:00', \n",
    "    '16:00-17:00', '17:00-18:00', '18:00-19:00', '19:00-20:00','20:00-21:00', '21:00-22:00', '22:00-23:00','23:00-24:00'\n",
    "    ]"
   ]
  },
  {
   "cell_type": "code",
   "execution_count": 57,
   "metadata": {},
   "outputs": [],
   "source": [
    "df = pd.read_csv('data/sample_data_hour.csv').drop(columns=['Unnamed: 0'])\n",
    "df_tmp = df[df['duration_min'] < 30]"
   ]
  },
  {
   "cell_type": "code",
   "execution_count": 58,
   "metadata": {},
   "outputs": [],
   "source": [
    "quantiles = df_tmp['duration_min'].quantile([.33, .66, .98, 1])"
   ]
  },
  {
   "cell_type": "code",
   "execution_count": 59,
   "metadata": {},
   "outputs": [
    {
     "data": {
      "text/plain": [
       "0.33     0.333\n",
       "0.66     1.167\n",
       "0.98    12.683\n",
       "1.00    29.533\n",
       "Name: duration_min, dtype: float64"
      ]
     },
     "execution_count": 59,
     "metadata": {},
     "output_type": "execute_result"
    }
   ],
   "source": [
    "quantiles"
   ]
  },
  {
   "cell_type": "code",
   "execution_count": 60,
   "metadata": {},
   "outputs": [
    {
     "name": "stderr",
     "output_type": "stream",
     "text": [
      "C:\\Users\\ECZR\\AppData\\Local\\Temp/ipykernel_16196/143928500.py:2: SettingWithCopyWarning:\n",
      "\n",
      "\n",
      "A value is trying to be set on a copy of a slice from a DataFrame.\n",
      "Try using .loc[row_indexer,col_indexer] = value instead\n",
      "\n",
      "See the caveats in the documentation: https://pandas.pydata.org/pandas-docs/stable/user_guide/indexing.html#returning-a-view-versus-a-copy\n",
      "\n",
      "C:\\Users\\ECZR\\AppData\\Local\\Temp/ipykernel_16196/143928500.py:3: SettingWithCopyWarning:\n",
      "\n",
      "\n",
      "A value is trying to be set on a copy of a slice from a DataFrame\n",
      "\n",
      "See the caveats in the documentation: https://pandas.pydata.org/pandas-docs/stable/user_guide/indexing.html#returning-a-view-versus-a-copy\n",
      "\n",
      "c:\\Users\\ECZR\\OneDrive - Novo Nordisk\\Documents\\smartphone engagement\\Smartphone_User_Engagement\\smartphone\\lib\\site-packages\\pandas\\core\\generic.py:8870: SettingWithCopyWarning:\n",
      "\n",
      "\n",
      "A value is trying to be set on a copy of a slice from a DataFrame\n",
      "\n",
      "See the caveats in the documentation: https://pandas.pydata.org/pandas-docs/stable/user_guide/indexing.html#returning-a-view-versus-a-copy\n",
      "\n",
      "C:\\Users\\ECZR\\AppData\\Local\\Temp/ipykernel_16196/143928500.py:4: SettingWithCopyWarning:\n",
      "\n",
      "\n",
      "A value is trying to be set on a copy of a slice from a DataFrame\n",
      "\n",
      "See the caveats in the documentation: https://pandas.pydata.org/pandas-docs/stable/user_guide/indexing.html#returning-a-view-versus-a-copy\n",
      "\n",
      "C:\\Users\\ECZR\\AppData\\Local\\Temp/ipykernel_16196/143928500.py:5: SettingWithCopyWarning:\n",
      "\n",
      "\n",
      "A value is trying to be set on a copy of a slice from a DataFrame\n",
      "\n",
      "See the caveats in the documentation: https://pandas.pydata.org/pandas-docs/stable/user_guide/indexing.html#returning-a-view-versus-a-copy\n",
      "\n"
     ]
    }
   ],
   "source": [
    "#labeling of groups\n",
    "df_tmp['group'] = 'extreme'\n",
    "df_tmp['group'][df_tmp['duration_min'] <= quantiles[.98]] = 'high'\n",
    "df_tmp['group'][df_tmp['duration_min'] <= quantiles[.66]] = 'mid'\n",
    "df_tmp['group'][df_tmp['duration_min'] <= quantiles[.33]] = 'low'      "
   ]
  },
  {
   "cell_type": "code",
   "execution_count": 61,
   "metadata": {},
   "outputs": [
    {
     "data": {
      "text/html": [
       "<div>\n",
       "<style scoped>\n",
       "    .dataframe tbody tr th:only-of-type {\n",
       "        vertical-align: middle;\n",
       "    }\n",
       "\n",
       "    .dataframe tbody tr th {\n",
       "        vertical-align: top;\n",
       "    }\n",
       "\n",
       "    .dataframe thead th {\n",
       "        text-align: right;\n",
       "    }\n",
       "</style>\n",
       "<table border=\"1\" class=\"dataframe\">\n",
       "  <thead>\n",
       "    <tr style=\"text-align: right;\">\n",
       "      <th></th>\n",
       "      <th>user_id</th>\n",
       "      <th>date</th>\n",
       "      <th>year</th>\n",
       "      <th>month</th>\n",
       "      <th>day</th>\n",
       "      <th>hour</th>\n",
       "      <th>minute</th>\n",
       "      <th>second</th>\n",
       "      <th>hour_period</th>\n",
       "      <th>duration_min</th>\n",
       "      <th>group</th>\n",
       "    </tr>\n",
       "  </thead>\n",
       "  <tbody>\n",
       "    <tr>\n",
       "      <th>0</th>\n",
       "      <td>8953</td>\n",
       "      <td>2016-12-24</td>\n",
       "      <td>2016</td>\n",
       "      <td>Dec</td>\n",
       "      <td>Saturday</td>\n",
       "      <td>6</td>\n",
       "      <td>11</td>\n",
       "      <td>31</td>\n",
       "      <td>06:00-07:00</td>\n",
       "      <td>1.500</td>\n",
       "      <td>high</td>\n",
       "    </tr>\n",
       "    <tr>\n",
       "      <th>1</th>\n",
       "      <td>3633</td>\n",
       "      <td>2017-02-08</td>\n",
       "      <td>2017</td>\n",
       "      <td>Feb</td>\n",
       "      <td>Wednesday</td>\n",
       "      <td>16</td>\n",
       "      <td>22</td>\n",
       "      <td>53</td>\n",
       "      <td>16:00-17:00</td>\n",
       "      <td>0.333</td>\n",
       "      <td>low</td>\n",
       "    </tr>\n",
       "    <tr>\n",
       "      <th>2</th>\n",
       "      <td>3633</td>\n",
       "      <td>2016-12-09</td>\n",
       "      <td>2016</td>\n",
       "      <td>Dec</td>\n",
       "      <td>Friday</td>\n",
       "      <td>17</td>\n",
       "      <td>36</td>\n",
       "      <td>52</td>\n",
       "      <td>17:00-18:00</td>\n",
       "      <td>0.167</td>\n",
       "      <td>low</td>\n",
       "    </tr>\n",
       "    <tr>\n",
       "      <th>3</th>\n",
       "      <td>3633</td>\n",
       "      <td>2018-06-03</td>\n",
       "      <td>2018</td>\n",
       "      <td>Jun</td>\n",
       "      <td>Sunday</td>\n",
       "      <td>21</td>\n",
       "      <td>20</td>\n",
       "      <td>16</td>\n",
       "      <td>21:00-22:00</td>\n",
       "      <td>0.167</td>\n",
       "      <td>low</td>\n",
       "    </tr>\n",
       "    <tr>\n",
       "      <th>4</th>\n",
       "      <td>3633</td>\n",
       "      <td>2016-09-16</td>\n",
       "      <td>2016</td>\n",
       "      <td>Sep</td>\n",
       "      <td>Friday</td>\n",
       "      <td>9</td>\n",
       "      <td>16</td>\n",
       "      <td>39</td>\n",
       "      <td>09:00-10:00</td>\n",
       "      <td>0.167</td>\n",
       "      <td>low</td>\n",
       "    </tr>\n",
       "    <tr>\n",
       "      <th>...</th>\n",
       "      <td>...</td>\n",
       "      <td>...</td>\n",
       "      <td>...</td>\n",
       "      <td>...</td>\n",
       "      <td>...</td>\n",
       "      <td>...</td>\n",
       "      <td>...</td>\n",
       "      <td>...</td>\n",
       "      <td>...</td>\n",
       "      <td>...</td>\n",
       "      <td>...</td>\n",
       "    </tr>\n",
       "    <tr>\n",
       "      <th>9995</th>\n",
       "      <td>8774</td>\n",
       "      <td>2018-06-18</td>\n",
       "      <td>2018</td>\n",
       "      <td>Jun</td>\n",
       "      <td>Monday</td>\n",
       "      <td>16</td>\n",
       "      <td>21</td>\n",
       "      <td>27</td>\n",
       "      <td>16:00-17:00</td>\n",
       "      <td>0.167</td>\n",
       "      <td>low</td>\n",
       "    </tr>\n",
       "    <tr>\n",
       "      <th>9996</th>\n",
       "      <td>8774</td>\n",
       "      <td>2018-02-05</td>\n",
       "      <td>2018</td>\n",
       "      <td>Feb</td>\n",
       "      <td>Monday</td>\n",
       "      <td>20</td>\n",
       "      <td>11</td>\n",
       "      <td>52</td>\n",
       "      <td>20:00-21:00</td>\n",
       "      <td>1.217</td>\n",
       "      <td>high</td>\n",
       "    </tr>\n",
       "    <tr>\n",
       "      <th>9997</th>\n",
       "      <td>906</td>\n",
       "      <td>2018-05-16</td>\n",
       "      <td>2018</td>\n",
       "      <td>May</td>\n",
       "      <td>Wednesday</td>\n",
       "      <td>6</td>\n",
       "      <td>35</td>\n",
       "      <td>47</td>\n",
       "      <td>06:00-07:00</td>\n",
       "      <td>2.183</td>\n",
       "      <td>high</td>\n",
       "    </tr>\n",
       "    <tr>\n",
       "      <th>9998</th>\n",
       "      <td>906</td>\n",
       "      <td>2016-12-05</td>\n",
       "      <td>2016</td>\n",
       "      <td>Dec</td>\n",
       "      <td>Monday</td>\n",
       "      <td>12</td>\n",
       "      <td>51</td>\n",
       "      <td>52</td>\n",
       "      <td>12:00-13:00</td>\n",
       "      <td>1.683</td>\n",
       "      <td>high</td>\n",
       "    </tr>\n",
       "    <tr>\n",
       "      <th>9999</th>\n",
       "      <td>906</td>\n",
       "      <td>2017-12-23</td>\n",
       "      <td>2017</td>\n",
       "      <td>Dec</td>\n",
       "      <td>Saturday</td>\n",
       "      <td>18</td>\n",
       "      <td>36</td>\n",
       "      <td>37</td>\n",
       "      <td>18:00-19:00</td>\n",
       "      <td>0.833</td>\n",
       "      <td>mid</td>\n",
       "    </tr>\n",
       "  </tbody>\n",
       "</table>\n",
       "<p>9961 rows × 11 columns</p>\n",
       "</div>"
      ],
      "text/plain": [
       "      user_id        date  year month        day  hour  minute  second  \\\n",
       "0        8953  2016-12-24  2016   Dec   Saturday     6      11      31   \n",
       "1        3633  2017-02-08  2017   Feb  Wednesday    16      22      53   \n",
       "2        3633  2016-12-09  2016   Dec     Friday    17      36      52   \n",
       "3        3633  2018-06-03  2018   Jun     Sunday    21      20      16   \n",
       "4        3633  2016-09-16  2016   Sep     Friday     9      16      39   \n",
       "...       ...         ...   ...   ...        ...   ...     ...     ...   \n",
       "9995     8774  2018-06-18  2018   Jun     Monday    16      21      27   \n",
       "9996     8774  2018-02-05  2018   Feb     Monday    20      11      52   \n",
       "9997      906  2018-05-16  2018   May  Wednesday     6      35      47   \n",
       "9998      906  2016-12-05  2016   Dec     Monday    12      51      52   \n",
       "9999      906  2017-12-23  2017   Dec   Saturday    18      36      37   \n",
       "\n",
       "      hour_period  duration_min group  \n",
       "0     06:00-07:00         1.500  high  \n",
       "1     16:00-17:00         0.333   low  \n",
       "2     17:00-18:00         0.167   low  \n",
       "3     21:00-22:00         0.167   low  \n",
       "4     09:00-10:00         0.167   low  \n",
       "...           ...           ...   ...  \n",
       "9995  16:00-17:00         0.167   low  \n",
       "9996  20:00-21:00         1.217  high  \n",
       "9997  06:00-07:00         2.183  high  \n",
       "9998  12:00-13:00         1.683  high  \n",
       "9999  18:00-19:00         0.833   mid  \n",
       "\n",
       "[9961 rows x 11 columns]"
      ]
     },
     "execution_count": 61,
     "metadata": {},
     "output_type": "execute_result"
    }
   ],
   "source": [
    "df_tmp"
   ]
  },
  {
   "cell_type": "markdown",
   "metadata": {},
   "source": [
    "## Groups based on number of sessions"
   ]
  },
  {
   "cell_type": "code",
   "execution_count": 54,
   "metadata": {},
   "outputs": [],
   "source": [
    "df_session = df.groupby(['user_id', 'date'])['duration_min'].count().reset_index(name='Daily sessions')"
   ]
  },
  {
   "cell_type": "code",
   "execution_count": 55,
   "metadata": {},
   "outputs": [
    {
     "data": {
      "text/html": [
       "<div>\n",
       "<style scoped>\n",
       "    .dataframe tbody tr th:only-of-type {\n",
       "        vertical-align: middle;\n",
       "    }\n",
       "\n",
       "    .dataframe tbody tr th {\n",
       "        vertical-align: top;\n",
       "    }\n",
       "\n",
       "    .dataframe thead th {\n",
       "        text-align: right;\n",
       "    }\n",
       "</style>\n",
       "<table border=\"1\" class=\"dataframe\">\n",
       "  <thead>\n",
       "    <tr style=\"text-align: right;\">\n",
       "      <th></th>\n",
       "      <th>user_id</th>\n",
       "      <th>date</th>\n",
       "      <th>Daily sessions</th>\n",
       "    </tr>\n",
       "  </thead>\n",
       "  <tbody>\n",
       "    <tr>\n",
       "      <th>0</th>\n",
       "      <td>389</td>\n",
       "      <td>2017-06-03</td>\n",
       "      <td>1</td>\n",
       "    </tr>\n",
       "    <tr>\n",
       "      <th>1</th>\n",
       "      <td>389</td>\n",
       "      <td>2017-06-04</td>\n",
       "      <td>5</td>\n",
       "    </tr>\n",
       "    <tr>\n",
       "      <th>2</th>\n",
       "      <td>389</td>\n",
       "      <td>2017-06-05</td>\n",
       "      <td>4</td>\n",
       "    </tr>\n",
       "    <tr>\n",
       "      <th>3</th>\n",
       "      <td>389</td>\n",
       "      <td>2017-06-06</td>\n",
       "      <td>2</td>\n",
       "    </tr>\n",
       "    <tr>\n",
       "      <th>4</th>\n",
       "      <td>389</td>\n",
       "      <td>2017-06-07</td>\n",
       "      <td>3</td>\n",
       "    </tr>\n",
       "    <tr>\n",
       "      <th>...</th>\n",
       "      <td>...</td>\n",
       "      <td>...</td>\n",
       "      <td>...</td>\n",
       "    </tr>\n",
       "    <tr>\n",
       "      <th>4864</th>\n",
       "      <td>9820</td>\n",
       "      <td>2018-11-20</td>\n",
       "      <td>1</td>\n",
       "    </tr>\n",
       "    <tr>\n",
       "      <th>4865</th>\n",
       "      <td>9820</td>\n",
       "      <td>2018-11-21</td>\n",
       "      <td>2</td>\n",
       "    </tr>\n",
       "    <tr>\n",
       "      <th>4866</th>\n",
       "      <td>9820</td>\n",
       "      <td>2018-11-22</td>\n",
       "      <td>1</td>\n",
       "    </tr>\n",
       "    <tr>\n",
       "      <th>4867</th>\n",
       "      <td>9820</td>\n",
       "      <td>2018-11-25</td>\n",
       "      <td>1</td>\n",
       "    </tr>\n",
       "    <tr>\n",
       "      <th>4868</th>\n",
       "      <td>9820</td>\n",
       "      <td>2018-11-26</td>\n",
       "      <td>1</td>\n",
       "    </tr>\n",
       "  </tbody>\n",
       "</table>\n",
       "<p>4869 rows × 3 columns</p>\n",
       "</div>"
      ],
      "text/plain": [
       "      user_id        date  Daily sessions\n",
       "0         389  2017-06-03               1\n",
       "1         389  2017-06-04               5\n",
       "2         389  2017-06-05               4\n",
       "3         389  2017-06-06               2\n",
       "4         389  2017-06-07               3\n",
       "...       ...         ...             ...\n",
       "4864     9820  2018-11-20               1\n",
       "4865     9820  2018-11-21               2\n",
       "4866     9820  2018-11-22               1\n",
       "4867     9820  2018-11-25               1\n",
       "4868     9820  2018-11-26               1\n",
       "\n",
       "[4869 rows x 3 columns]"
      ]
     },
     "execution_count": 55,
     "metadata": {},
     "output_type": "execute_result"
    }
   ],
   "source": [
    "df_session"
   ]
  },
  {
   "cell_type": "code",
   "execution_count": 59,
   "metadata": {},
   "outputs": [],
   "source": [
    "quantiles = df_session['Daily sessions'].quantile([.33, .66, .98, 1])"
   ]
  },
  {
   "cell_type": "code",
   "execution_count": 63,
   "metadata": {},
   "outputs": [
    {
     "name": "stderr",
     "output_type": "stream",
     "text": [
      "<ipython-input-63-7d5f9110703a>:3: SettingWithCopyWarning: \n",
      "A value is trying to be set on a copy of a slice from a DataFrame\n",
      "\n",
      "See the caveats in the documentation: https://pandas.pydata.org/pandas-docs/stable/user_guide/indexing.html#returning-a-view-versus-a-copy\n",
      "  df_session['group'][df_session['Daily sessions'] <= quantiles[.98]] = 'high'\n",
      "<ipython-input-63-7d5f9110703a>:4: SettingWithCopyWarning: \n",
      "A value is trying to be set on a copy of a slice from a DataFrame\n",
      "\n",
      "See the caveats in the documentation: https://pandas.pydata.org/pandas-docs/stable/user_guide/indexing.html#returning-a-view-versus-a-copy\n",
      "  df_session['group'][df_session['Daily sessions'] <= quantiles[.66]] = 'mid'\n",
      "<ipython-input-63-7d5f9110703a>:5: SettingWithCopyWarning: \n",
      "A value is trying to be set on a copy of a slice from a DataFrame\n",
      "\n",
      "See the caveats in the documentation: https://pandas.pydata.org/pandas-docs/stable/user_guide/indexing.html#returning-a-view-versus-a-copy\n",
      "  df_session['group'][df_session['Daily sessions'] <= quantiles[.33]] = 'low'\n"
     ]
    }
   ],
   "source": [
    "#labeling of groups\n",
    "df_session['group'] = 'extreme'\n",
    "df_session['group'][df_session['Daily sessions'] <= quantiles[.98]] = 'high'\n",
    "df_session['group'][df_session['Daily sessions'] <= quantiles[.66]] = 'mid'\n",
    "df_session['group'][df_session['Daily sessions'] <= quantiles[.33]] = 'low'      "
   ]
  },
  {
   "cell_type": "code",
   "execution_count": 64,
   "metadata": {},
   "outputs": [
    {
     "data": {
      "text/html": [
       "<div>\n",
       "<style scoped>\n",
       "    .dataframe tbody tr th:only-of-type {\n",
       "        vertical-align: middle;\n",
       "    }\n",
       "\n",
       "    .dataframe tbody tr th {\n",
       "        vertical-align: top;\n",
       "    }\n",
       "\n",
       "    .dataframe thead th {\n",
       "        text-align: right;\n",
       "    }\n",
       "</style>\n",
       "<table border=\"1\" class=\"dataframe\">\n",
       "  <thead>\n",
       "    <tr style=\"text-align: right;\">\n",
       "      <th></th>\n",
       "      <th>user_id</th>\n",
       "      <th>date</th>\n",
       "      <th>Daily sessions</th>\n",
       "      <th>group</th>\n",
       "    </tr>\n",
       "  </thead>\n",
       "  <tbody>\n",
       "    <tr>\n",
       "      <th>0</th>\n",
       "      <td>389</td>\n",
       "      <td>2017-06-03</td>\n",
       "      <td>1</td>\n",
       "      <td>low</td>\n",
       "    </tr>\n",
       "    <tr>\n",
       "      <th>1</th>\n",
       "      <td>389</td>\n",
       "      <td>2017-06-04</td>\n",
       "      <td>5</td>\n",
       "      <td>high</td>\n",
       "    </tr>\n",
       "    <tr>\n",
       "      <th>2</th>\n",
       "      <td>389</td>\n",
       "      <td>2017-06-05</td>\n",
       "      <td>4</td>\n",
       "      <td>high</td>\n",
       "    </tr>\n",
       "    <tr>\n",
       "      <th>3</th>\n",
       "      <td>389</td>\n",
       "      <td>2017-06-06</td>\n",
       "      <td>2</td>\n",
       "      <td>mid</td>\n",
       "    </tr>\n",
       "    <tr>\n",
       "      <th>4</th>\n",
       "      <td>389</td>\n",
       "      <td>2017-06-07</td>\n",
       "      <td>3</td>\n",
       "      <td>high</td>\n",
       "    </tr>\n",
       "    <tr>\n",
       "      <th>...</th>\n",
       "      <td>...</td>\n",
       "      <td>...</td>\n",
       "      <td>...</td>\n",
       "      <td>...</td>\n",
       "    </tr>\n",
       "    <tr>\n",
       "      <th>4864</th>\n",
       "      <td>9820</td>\n",
       "      <td>2018-11-20</td>\n",
       "      <td>1</td>\n",
       "      <td>low</td>\n",
       "    </tr>\n",
       "    <tr>\n",
       "      <th>4865</th>\n",
       "      <td>9820</td>\n",
       "      <td>2018-11-21</td>\n",
       "      <td>2</td>\n",
       "      <td>mid</td>\n",
       "    </tr>\n",
       "    <tr>\n",
       "      <th>4866</th>\n",
       "      <td>9820</td>\n",
       "      <td>2018-11-22</td>\n",
       "      <td>1</td>\n",
       "      <td>low</td>\n",
       "    </tr>\n",
       "    <tr>\n",
       "      <th>4867</th>\n",
       "      <td>9820</td>\n",
       "      <td>2018-11-25</td>\n",
       "      <td>1</td>\n",
       "      <td>low</td>\n",
       "    </tr>\n",
       "    <tr>\n",
       "      <th>4868</th>\n",
       "      <td>9820</td>\n",
       "      <td>2018-11-26</td>\n",
       "      <td>1</td>\n",
       "      <td>low</td>\n",
       "    </tr>\n",
       "  </tbody>\n",
       "</table>\n",
       "<p>4869 rows × 4 columns</p>\n",
       "</div>"
      ],
      "text/plain": [
       "      user_id        date  Daily sessions group\n",
       "0         389  2017-06-03               1   low\n",
       "1         389  2017-06-04               5  high\n",
       "2         389  2017-06-05               4  high\n",
       "3         389  2017-06-06               2   mid\n",
       "4         389  2017-06-07               3  high\n",
       "...       ...         ...             ...   ...\n",
       "4864     9820  2018-11-20               1   low\n",
       "4865     9820  2018-11-21               2   mid\n",
       "4866     9820  2018-11-22               1   low\n",
       "4867     9820  2018-11-25               1   low\n",
       "4868     9820  2018-11-26               1   low\n",
       "\n",
       "[4869 rows x 4 columns]"
      ]
     },
     "execution_count": 64,
     "metadata": {},
     "output_type": "execute_result"
    }
   ],
   "source": [
    "df_session"
   ]
  },
  {
   "cell_type": "markdown",
   "metadata": {},
   "source": [
    "## Plot"
   ]
  },
  {
   "cell_type": "code",
   "execution_count": 127,
   "metadata": {},
   "outputs": [],
   "source": [
    "extreme = df_tmp[df_tmp.group == 'extreme']"
   ]
  },
  {
   "cell_type": "code",
   "execution_count": 128,
   "metadata": {},
   "outputs": [
    {
     "data": {
      "text/html": [
       "<div>\n",
       "<style scoped>\n",
       "    .dataframe tbody tr th:only-of-type {\n",
       "        vertical-align: middle;\n",
       "    }\n",
       "\n",
       "    .dataframe tbody tr th {\n",
       "        vertical-align: top;\n",
       "    }\n",
       "\n",
       "    .dataframe thead th {\n",
       "        text-align: right;\n",
       "    }\n",
       "</style>\n",
       "<table border=\"1\" class=\"dataframe\">\n",
       "  <thead>\n",
       "    <tr style=\"text-align: right;\">\n",
       "      <th></th>\n",
       "      <th>hour_period</th>\n",
       "      <th>day</th>\n",
       "      <th>Avg duration</th>\n",
       "    </tr>\n",
       "  </thead>\n",
       "  <tbody>\n",
       "    <tr>\n",
       "      <th>0</th>\n",
       "      <td>01:00-02:00</td>\n",
       "      <td>Tuesday</td>\n",
       "      <td>26.867</td>\n",
       "    </tr>\n",
       "    <tr>\n",
       "      <th>1</th>\n",
       "      <td>02:00-03:00</td>\n",
       "      <td>Thursday</td>\n",
       "      <td>25.517</td>\n",
       "    </tr>\n",
       "    <tr>\n",
       "      <th>2</th>\n",
       "      <td>02:00-03:00</td>\n",
       "      <td>Wednesday</td>\n",
       "      <td>15.017</td>\n",
       "    </tr>\n",
       "    <tr>\n",
       "      <th>3</th>\n",
       "      <td>03:00-04:00</td>\n",
       "      <td>Monday</td>\n",
       "      <td>15.267</td>\n",
       "    </tr>\n",
       "    <tr>\n",
       "      <th>4</th>\n",
       "      <td>03:00-04:00</td>\n",
       "      <td>Saturday</td>\n",
       "      <td>14.350</td>\n",
       "    </tr>\n",
       "    <tr>\n",
       "      <th>...</th>\n",
       "      <td>...</td>\n",
       "      <td>...</td>\n",
       "      <td>...</td>\n",
       "    </tr>\n",
       "    <tr>\n",
       "      <th>101</th>\n",
       "      <td>22:00-23:00</td>\n",
       "      <td>Saturday</td>\n",
       "      <td>13.350</td>\n",
       "    </tr>\n",
       "    <tr>\n",
       "      <th>102</th>\n",
       "      <td>22:00-23:00</td>\n",
       "      <td>Sunday</td>\n",
       "      <td>22.867</td>\n",
       "    </tr>\n",
       "    <tr>\n",
       "      <th>103</th>\n",
       "      <td>22:00-23:00</td>\n",
       "      <td>Wednesday</td>\n",
       "      <td>19.692</td>\n",
       "    </tr>\n",
       "    <tr>\n",
       "      <th>104</th>\n",
       "      <td>23:00-24:00</td>\n",
       "      <td>Friday</td>\n",
       "      <td>15.700</td>\n",
       "    </tr>\n",
       "    <tr>\n",
       "      <th>105</th>\n",
       "      <td>23:00-24:00</td>\n",
       "      <td>Saturday</td>\n",
       "      <td>16.850</td>\n",
       "    </tr>\n",
       "  </tbody>\n",
       "</table>\n",
       "<p>106 rows × 3 columns</p>\n",
       "</div>"
      ],
      "text/plain": [
       "     hour_period        day  Avg duration\n",
       "0    01:00-02:00    Tuesday        26.867\n",
       "1    02:00-03:00   Thursday        25.517\n",
       "2    02:00-03:00  Wednesday        15.017\n",
       "3    03:00-04:00     Monday        15.267\n",
       "4    03:00-04:00   Saturday        14.350\n",
       "..           ...        ...           ...\n",
       "101  22:00-23:00   Saturday        13.350\n",
       "102  22:00-23:00     Sunday        22.867\n",
       "103  22:00-23:00  Wednesday        19.692\n",
       "104  23:00-24:00     Friday        15.700\n",
       "105  23:00-24:00   Saturday        16.850\n",
       "\n",
       "[106 rows x 3 columns]"
      ]
     },
     "execution_count": 128,
     "metadata": {},
     "output_type": "execute_result"
    }
   ],
   "source": [
    "extreme = extreme.groupby(['hour_period', 'day'])['duration_min'].mean().reset_index(name='Avg duration')\n",
    "extreme"
   ]
  },
  {
   "cell_type": "code",
   "execution_count": 121,
   "metadata": {},
   "outputs": [
    {
     "data": {
      "text/html": [
       "<div>\n",
       "<style scoped>\n",
       "    .dataframe tbody tr th:only-of-type {\n",
       "        vertical-align: middle;\n",
       "    }\n",
       "\n",
       "    .dataframe tbody tr th {\n",
       "        vertical-align: top;\n",
       "    }\n",
       "\n",
       "    .dataframe thead th {\n",
       "        text-align: right;\n",
       "    }\n",
       "</style>\n",
       "<table border=\"1\" class=\"dataframe\">\n",
       "  <thead>\n",
       "    <tr style=\"text-align: right;\">\n",
       "      <th></th>\n",
       "      <th>hour_period</th>\n",
       "      <th>day</th>\n",
       "      <th>Avg duration</th>\n",
       "    </tr>\n",
       "  </thead>\n",
       "  <tbody>\n",
       "    <tr>\n",
       "      <th>0</th>\n",
       "      <td>00:00-01:00</td>\n",
       "      <td>Friday</td>\n",
       "      <td>3.676600</td>\n",
       "    </tr>\n",
       "    <tr>\n",
       "      <th>1</th>\n",
       "      <td>00:00-01:00</td>\n",
       "      <td>Monday</td>\n",
       "      <td>3.059429</td>\n",
       "    </tr>\n",
       "    <tr>\n",
       "      <th>2</th>\n",
       "      <td>00:00-01:00</td>\n",
       "      <td>Saturday</td>\n",
       "      <td>5.555333</td>\n",
       "    </tr>\n",
       "    <tr>\n",
       "      <th>3</th>\n",
       "      <td>00:00-01:00</td>\n",
       "      <td>Sunday</td>\n",
       "      <td>2.094500</td>\n",
       "    </tr>\n",
       "    <tr>\n",
       "      <th>4</th>\n",
       "      <td>00:00-01:00</td>\n",
       "      <td>Thursday</td>\n",
       "      <td>2.372000</td>\n",
       "    </tr>\n",
       "    <tr>\n",
       "      <th>...</th>\n",
       "      <td>...</td>\n",
       "      <td>...</td>\n",
       "      <td>...</td>\n",
       "    </tr>\n",
       "    <tr>\n",
       "      <th>160</th>\n",
       "      <td>23:00-24:00</td>\n",
       "      <td>Saturday</td>\n",
       "      <td>2.723333</td>\n",
       "    </tr>\n",
       "    <tr>\n",
       "      <th>161</th>\n",
       "      <td>23:00-24:00</td>\n",
       "      <td>Sunday</td>\n",
       "      <td>6.358500</td>\n",
       "    </tr>\n",
       "    <tr>\n",
       "      <th>162</th>\n",
       "      <td>23:00-24:00</td>\n",
       "      <td>Thursday</td>\n",
       "      <td>2.645143</td>\n",
       "    </tr>\n",
       "    <tr>\n",
       "      <th>163</th>\n",
       "      <td>23:00-24:00</td>\n",
       "      <td>Tuesday</td>\n",
       "      <td>3.625000</td>\n",
       "    </tr>\n",
       "    <tr>\n",
       "      <th>164</th>\n",
       "      <td>23:00-24:00</td>\n",
       "      <td>Wednesday</td>\n",
       "      <td>3.338833</td>\n",
       "    </tr>\n",
       "  </tbody>\n",
       "</table>\n",
       "<p>165 rows × 3 columns</p>\n",
       "</div>"
      ],
      "text/plain": [
       "     hour_period        day  Avg duration\n",
       "0    00:00-01:00     Friday      3.676600\n",
       "1    00:00-01:00     Monday      3.059429\n",
       "2    00:00-01:00   Saturday      5.555333\n",
       "3    00:00-01:00     Sunday      2.094500\n",
       "4    00:00-01:00   Thursday      2.372000\n",
       "..           ...        ...           ...\n",
       "160  23:00-24:00   Saturday      2.723333\n",
       "161  23:00-24:00     Sunday      6.358500\n",
       "162  23:00-24:00   Thursday      2.645143\n",
       "163  23:00-24:00    Tuesday      3.625000\n",
       "164  23:00-24:00  Wednesday      3.338833\n",
       "\n",
       "[165 rows x 3 columns]"
      ]
     },
     "execution_count": 121,
     "metadata": {},
     "output_type": "execute_result"
    }
   ],
   "source": [
    "high = df_tmp[df_tmp.group == 'high']\n",
    "high = high.groupby(['hour_period', 'day'])['duration_min'].mean().reset_index(name='Avg duration')\n",
    "high"
   ]
  },
  {
   "cell_type": "code",
   "execution_count": 69,
   "metadata": {},
   "outputs": [
    {
     "data": {
      "text/html": [
       "<div>\n",
       "<style scoped>\n",
       "    .dataframe tbody tr th:only-of-type {\n",
       "        vertical-align: middle;\n",
       "    }\n",
       "\n",
       "    .dataframe tbody tr th {\n",
       "        vertical-align: top;\n",
       "    }\n",
       "\n",
       "    .dataframe thead th {\n",
       "        text-align: right;\n",
       "    }\n",
       "</style>\n",
       "<table border=\"1\" class=\"dataframe\">\n",
       "  <thead>\n",
       "    <tr style=\"text-align: right;\">\n",
       "      <th></th>\n",
       "      <th>user_id</th>\n",
       "      <th>date</th>\n",
       "      <th>year</th>\n",
       "      <th>month</th>\n",
       "      <th>day</th>\n",
       "      <th>hour</th>\n",
       "      <th>minute</th>\n",
       "      <th>second</th>\n",
       "      <th>hour_period</th>\n",
       "      <th>duration_min</th>\n",
       "    </tr>\n",
       "  </thead>\n",
       "  <tbody>\n",
       "    <tr>\n",
       "      <th>0</th>\n",
       "      <td>3633</td>\n",
       "      <td>2016-07-02</td>\n",
       "      <td>2016</td>\n",
       "      <td>Jul</td>\n",
       "      <td>Saturday</td>\n",
       "      <td>7</td>\n",
       "      <td>7</td>\n",
       "      <td>27</td>\n",
       "      <td>07:00-08:00</td>\n",
       "      <td>1.950</td>\n",
       "    </tr>\n",
       "    <tr>\n",
       "      <th>1</th>\n",
       "      <td>3633</td>\n",
       "      <td>2016-07-04</td>\n",
       "      <td>2016</td>\n",
       "      <td>Jul</td>\n",
       "      <td>Monday</td>\n",
       "      <td>12</td>\n",
       "      <td>9</td>\n",
       "      <td>7</td>\n",
       "      <td>12:00-13:00</td>\n",
       "      <td>35.217</td>\n",
       "    </tr>\n",
       "    <tr>\n",
       "      <th>2</th>\n",
       "      <td>3633</td>\n",
       "      <td>2016-07-06</td>\n",
       "      <td>2016</td>\n",
       "      <td>Jul</td>\n",
       "      <td>Wednesday</td>\n",
       "      <td>13</td>\n",
       "      <td>3</td>\n",
       "      <td>49</td>\n",
       "      <td>13:00-14:00</td>\n",
       "      <td>0.167</td>\n",
       "    </tr>\n",
       "    <tr>\n",
       "      <th>3</th>\n",
       "      <td>3633</td>\n",
       "      <td>2016-07-06</td>\n",
       "      <td>2016</td>\n",
       "      <td>Jul</td>\n",
       "      <td>Wednesday</td>\n",
       "      <td>23</td>\n",
       "      <td>33</td>\n",
       "      <td>39</td>\n",
       "      <td>23:00-24:00</td>\n",
       "      <td>5.350</td>\n",
       "    </tr>\n",
       "    <tr>\n",
       "      <th>4</th>\n",
       "      <td>3633</td>\n",
       "      <td>2016-07-09</td>\n",
       "      <td>2016</td>\n",
       "      <td>Jul</td>\n",
       "      <td>Saturday</td>\n",
       "      <td>8</td>\n",
       "      <td>50</td>\n",
       "      <td>22</td>\n",
       "      <td>08:00-09:00</td>\n",
       "      <td>1.667</td>\n",
       "    </tr>\n",
       "    <tr>\n",
       "      <th>...</th>\n",
       "      <td>...</td>\n",
       "      <td>...</td>\n",
       "      <td>...</td>\n",
       "      <td>...</td>\n",
       "      <td>...</td>\n",
       "      <td>...</td>\n",
       "      <td>...</td>\n",
       "      <td>...</td>\n",
       "      <td>...</td>\n",
       "      <td>...</td>\n",
       "    </tr>\n",
       "    <tr>\n",
       "      <th>621</th>\n",
       "      <td>3633</td>\n",
       "      <td>2018-12-21</td>\n",
       "      <td>2018</td>\n",
       "      <td>Dec</td>\n",
       "      <td>Friday</td>\n",
       "      <td>15</td>\n",
       "      <td>2</td>\n",
       "      <td>33</td>\n",
       "      <td>15:00-16:00</td>\n",
       "      <td>0.683</td>\n",
       "    </tr>\n",
       "    <tr>\n",
       "      <th>622</th>\n",
       "      <td>3633</td>\n",
       "      <td>2018-12-26</td>\n",
       "      <td>2018</td>\n",
       "      <td>Dec</td>\n",
       "      <td>Wednesday</td>\n",
       "      <td>8</td>\n",
       "      <td>28</td>\n",
       "      <td>15</td>\n",
       "      <td>08:00-09:00</td>\n",
       "      <td>0.167</td>\n",
       "    </tr>\n",
       "    <tr>\n",
       "      <th>623</th>\n",
       "      <td>3633</td>\n",
       "      <td>2018-12-31</td>\n",
       "      <td>2018</td>\n",
       "      <td>Dec</td>\n",
       "      <td>Monday</td>\n",
       "      <td>9</td>\n",
       "      <td>20</td>\n",
       "      <td>50</td>\n",
       "      <td>09:00-10:00</td>\n",
       "      <td>0.167</td>\n",
       "    </tr>\n",
       "    <tr>\n",
       "      <th>624</th>\n",
       "      <td>3633</td>\n",
       "      <td>2018-12-31</td>\n",
       "      <td>2018</td>\n",
       "      <td>Dec</td>\n",
       "      <td>Monday</td>\n",
       "      <td>13</td>\n",
       "      <td>4</td>\n",
       "      <td>24</td>\n",
       "      <td>13:00-14:00</td>\n",
       "      <td>2.683</td>\n",
       "    </tr>\n",
       "    <tr>\n",
       "      <th>625</th>\n",
       "      <td>3633</td>\n",
       "      <td>2018-12-31</td>\n",
       "      <td>2018</td>\n",
       "      <td>Dec</td>\n",
       "      <td>Monday</td>\n",
       "      <td>19</td>\n",
       "      <td>22</td>\n",
       "      <td>20</td>\n",
       "      <td>19:00-20:00</td>\n",
       "      <td>5.667</td>\n",
       "    </tr>\n",
       "  </tbody>\n",
       "</table>\n",
       "<p>626 rows × 10 columns</p>\n",
       "</div>"
      ],
      "text/plain": [
       "     user_id        date  year month        day  hour  minute  second  \\\n",
       "0       3633  2016-07-02  2016   Jul   Saturday     7       7      27   \n",
       "1       3633  2016-07-04  2016   Jul     Monday    12       9       7   \n",
       "2       3633  2016-07-06  2016   Jul  Wednesday    13       3      49   \n",
       "3       3633  2016-07-06  2016   Jul  Wednesday    23      33      39   \n",
       "4       3633  2016-07-09  2016   Jul   Saturday     8      50      22   \n",
       "..       ...         ...   ...   ...        ...   ...     ...     ...   \n",
       "621     3633  2018-12-21  2018   Dec     Friday    15       2      33   \n",
       "622     3633  2018-12-26  2018   Dec  Wednesday     8      28      15   \n",
       "623     3633  2018-12-31  2018   Dec     Monday     9      20      50   \n",
       "624     3633  2018-12-31  2018   Dec     Monday    13       4      24   \n",
       "625     3633  2018-12-31  2018   Dec     Monday    19      22      20   \n",
       "\n",
       "     hour_period  duration_min  \n",
       "0    07:00-08:00         1.950  \n",
       "1    12:00-13:00        35.217  \n",
       "2    13:00-14:00         0.167  \n",
       "3    23:00-24:00         5.350  \n",
       "4    08:00-09:00         1.667  \n",
       "..           ...           ...  \n",
       "621  15:00-16:00         0.683  \n",
       "622  08:00-09:00         0.167  \n",
       "623  09:00-10:00         0.167  \n",
       "624  13:00-14:00         2.683  \n",
       "625  19:00-20:00         5.667  \n",
       "\n",
       "[626 rows x 10 columns]"
      ]
     },
     "execution_count": 69,
     "metadata": {},
     "output_type": "execute_result"
    }
   ],
   "source": [
    "df_3633 = df[df.user_id == 3633].sort_values(['date', 'hour_period']).reset_index(drop=True)\n",
    "df_3633"
   ]
  },
  {
   "cell_type": "code",
   "execution_count": 74,
   "metadata": {},
   "outputs": [],
   "source": [
    "df_rigdeplot = df_3633[['day', 'hour_period','duration_min']]"
   ]
  },
  {
   "cell_type": "code",
   "execution_count": 75,
   "metadata": {},
   "outputs": [],
   "source": [
    "all_hours = pd.DataFrame(cats, columns=['hour_period'])\n",
    "\n",
    "all_hours_daily_df = \\\n",
    "  pd.merge(df_rigdeplot[['day']].drop_duplicates(),\n",
    "           all_hours[['hour_period']].drop_duplicates(),\n",
    "           how = 'cross')\n",
    "\n",
    "df_rigdeplot = \\\n",
    "  df_rigdeplot.\\\n",
    "  merge(all_hours_daily_df,\n",
    "  how='right').\\\n",
    "  fillna({'duration_min': 0}).\\\n",
    "  reset_index(drop = True)"
   ]
  },
  {
   "cell_type": "code",
   "execution_count": 76,
   "metadata": {},
   "outputs": [
    {
     "data": {
      "text/html": [
       "<div>\n",
       "<style scoped>\n",
       "    .dataframe tbody tr th:only-of-type {\n",
       "        vertical-align: middle;\n",
       "    }\n",
       "\n",
       "    .dataframe tbody tr th {\n",
       "        vertical-align: top;\n",
       "    }\n",
       "\n",
       "    .dataframe thead th {\n",
       "        text-align: right;\n",
       "    }\n",
       "</style>\n",
       "<table border=\"1\" class=\"dataframe\">\n",
       "  <thead>\n",
       "    <tr style=\"text-align: right;\">\n",
       "      <th></th>\n",
       "      <th>day</th>\n",
       "      <th>hour_period</th>\n",
       "      <th>duration_min</th>\n",
       "    </tr>\n",
       "  </thead>\n",
       "  <tbody>\n",
       "    <tr>\n",
       "      <th>0</th>\n",
       "      <td>Saturday</td>\n",
       "      <td>00:00-01:00</td>\n",
       "      <td>0.000</td>\n",
       "    </tr>\n",
       "    <tr>\n",
       "      <th>1</th>\n",
       "      <td>Saturday</td>\n",
       "      <td>01:00-02:00</td>\n",
       "      <td>1.167</td>\n",
       "    </tr>\n",
       "    <tr>\n",
       "      <th>2</th>\n",
       "      <td>Saturday</td>\n",
       "      <td>01:00-02:00</td>\n",
       "      <td>0.833</td>\n",
       "    </tr>\n",
       "    <tr>\n",
       "      <th>3</th>\n",
       "      <td>Saturday</td>\n",
       "      <td>02:00-03:00</td>\n",
       "      <td>4.167</td>\n",
       "    </tr>\n",
       "    <tr>\n",
       "      <th>4</th>\n",
       "      <td>Saturday</td>\n",
       "      <td>03:00-04:00</td>\n",
       "      <td>0.000</td>\n",
       "    </tr>\n",
       "    <tr>\n",
       "      <th>...</th>\n",
       "      <td>...</td>\n",
       "      <td>...</td>\n",
       "      <td>...</td>\n",
       "    </tr>\n",
       "    <tr>\n",
       "      <th>643</th>\n",
       "      <td>Friday</td>\n",
       "      <td>21:00-22:00</td>\n",
       "      <td>0.133</td>\n",
       "    </tr>\n",
       "    <tr>\n",
       "      <th>644</th>\n",
       "      <td>Friday</td>\n",
       "      <td>21:00-22:00</td>\n",
       "      <td>1.017</td>\n",
       "    </tr>\n",
       "    <tr>\n",
       "      <th>645</th>\n",
       "      <td>Friday</td>\n",
       "      <td>21:00-22:00</td>\n",
       "      <td>0.850</td>\n",
       "    </tr>\n",
       "    <tr>\n",
       "      <th>646</th>\n",
       "      <td>Friday</td>\n",
       "      <td>22:00-23:00</td>\n",
       "      <td>0.000</td>\n",
       "    </tr>\n",
       "    <tr>\n",
       "      <th>647</th>\n",
       "      <td>Friday</td>\n",
       "      <td>23:00-24:00</td>\n",
       "      <td>0.000</td>\n",
       "    </tr>\n",
       "  </tbody>\n",
       "</table>\n",
       "<p>648 rows × 3 columns</p>\n",
       "</div>"
      ],
      "text/plain": [
       "          day  hour_period  duration_min\n",
       "0    Saturday  00:00-01:00         0.000\n",
       "1    Saturday  01:00-02:00         1.167\n",
       "2    Saturday  01:00-02:00         0.833\n",
       "3    Saturday  02:00-03:00         4.167\n",
       "4    Saturday  03:00-04:00         0.000\n",
       "..        ...          ...           ...\n",
       "643    Friday  21:00-22:00         0.133\n",
       "644    Friday  21:00-22:00         1.017\n",
       "645    Friday  21:00-22:00         0.850\n",
       "646    Friday  22:00-23:00         0.000\n",
       "647    Friday  23:00-24:00         0.000\n",
       "\n",
       "[648 rows x 3 columns]"
      ]
     },
     "execution_count": 76,
     "metadata": {},
     "output_type": "execute_result"
    }
   ],
   "source": [
    "df_rigdeplot"
   ]
  },
  {
   "cell_type": "code",
   "execution_count": 43,
   "metadata": {},
   "outputs": [
    {
     "data": {
      "application/vnd.plotly.v1+json": {
       "config": {
        "plotlyServerURL": "https://plot.ly"
       },
       "data": [
        {
         "marker": {
          "color": "black"
         },
         "text": "counts",
         "type": "scatter",
         "x": [
          "2016-07-0207:00-07:30",
          "2016-07-0412:00-12:30",
          "2016-07-0613:00-13:30",
          "2016-07-0623:30-24:00",
          "2016-07-0908:30-09:00",
          "2016-07-0911:30-12:00",
          "2016-07-1212:30-13:00",
          "2016-07-1314:30-15:00",
          "2016-07-1607:30-08:00",
          "2016-07-1701:00-01:30",
          "2016-07-1720:00-20:30",
          "2016-07-1814:00-14:30",
          "2016-07-1820:00-20:30",
          "2016-07-1909:00-09:30",
          "2016-07-1910:00-10:30",
          "2016-07-2015:30-16:00",
          "2016-07-2108:30-09:00",
          "2016-07-2114:00-14:30",
          "2016-07-2320:00-20:30",
          "2016-07-2712:00-12:30",
          "2016-08-0220:00-20:30",
          "2016-08-0413:00-13:30",
          "2016-08-0511:00-11:30",
          "2016-08-0613:00-13:30",
          "2016-08-0817:00-17:30",
          "2016-08-1016:00-16:30",
          "2016-08-1113:00-13:30",
          "2016-08-1306:00-06:30",
          "2016-08-1518:00-18:30",
          "2016-08-1518:00-18:30",
          "2016-08-1609:30-10:00",
          "2016-08-2012:30-13:00",
          "2016-08-2311:30-12:00",
          "2016-08-2412:30-13:00",
          "2016-08-2421:00-21:30",
          "2016-08-2514:00-14:30",
          "2016-08-2601:30-02:00",
          "2016-08-2710:30-11:00",
          "2016-08-2819:00-19:30",
          "2016-08-2914:30-15:00",
          "2016-08-2917:30-18:00",
          "2016-08-3116:30-17:00",
          "2016-09-0111:30-12:00",
          "2016-09-0210:30-11:00",
          "2016-09-0305:30-06:00",
          "2016-09-0614:30-15:00",
          "2016-09-0710:00-10:30",
          "2016-09-0723:30-24:00",
          "2016-09-0907:00-07:30",
          "2016-09-1307:30-08:00",
          "2016-09-1411:00-11:30",
          "2016-09-1509:30-10:00",
          "2016-09-1518:30-19:00",
          "2016-09-1606:00-06:30",
          "2016-09-1609:00-09:30",
          "2016-09-1814:30-15:00",
          "2016-09-1916:30-17:00",
          "2016-09-2006:30-07:00",
          "2016-09-2018:30-19:00",
          "2016-09-2215:30-16:00",
          "2016-09-2308:30-09:00",
          "2016-09-2314:00-14:30",
          "2016-09-2416:30-17:00",
          "2016-09-2516:00-16:30",
          "2016-09-2614:30-15:00",
          "2016-09-2715:00-15:30",
          "2016-09-2805:00-05:30",
          "2016-09-2812:30-13:00",
          "2016-09-2816:00-16:30",
          "2016-10-0212:30-13:00",
          "2016-10-0215:00-15:30",
          "2016-10-0310:30-11:00",
          "2016-10-0316:00-16:30",
          "2016-10-0416:00-16:30",
          "2016-10-0508:30-09:00",
          "2016-10-0708:00-08:30",
          "2016-10-0807:00-07:30",
          "2016-10-1217:30-18:00",
          "2016-10-1316:30-17:00",
          "2016-10-1318:00-18:30",
          "2016-10-1521:00-21:30",
          "2016-10-1614:00-14:30",
          "2016-10-1700:00-00:30",
          "2016-10-1814:00-14:30",
          "2016-10-1910:30-11:00",
          "2016-10-1916:30-17:00",
          "2016-10-2106:00-06:30",
          "2016-10-2112:30-13:00",
          "2016-10-2118:00-18:30",
          "2016-10-2415:30-16:00",
          "2016-10-2612:30-13:00",
          "2016-10-2614:30-15:00",
          "2016-10-2614:30-15:00",
          "2016-10-2619:00-19:30",
          "2016-10-2921:00-21:30",
          "2016-11-0219:30-20:00",
          "2016-11-0314:00-14:30",
          "2016-11-0512:30-13:00",
          "2016-11-0521:30-22:00",
          "2016-11-0622:00-22:30",
          "2016-11-0811:00-11:30",
          "2016-11-1117:00-17:30",
          "2016-11-1120:30-21:00",
          "2016-11-1210:00-10:30",
          "2016-11-1413:30-14:00",
          "2016-11-1704:00-04:30",
          "2016-11-1716:00-16:30",
          "2016-11-1808:30-09:00",
          "2016-11-1809:30-10:00",
          "2016-11-1812:00-12:30",
          "2016-11-1817:00-17:30",
          "2016-11-1915:00-15:30",
          "2016-11-2513:00-13:30",
          "2016-11-2612:00-12:30",
          "2016-11-2618:00-18:30",
          "2016-11-2806:00-06:30",
          "2016-11-2813:30-14:00",
          "2016-11-2821:30-22:00",
          "2016-11-3014:00-14:30",
          "2016-11-3020:30-21:00",
          "2016-11-3022:00-22:30",
          "2016-11-3022:30-23:00",
          "2016-12-0111:30-12:00",
          "2016-12-0218:00-18:30",
          "2016-12-0314:00-14:30",
          "2016-12-0508:30-09:00",
          "2016-12-0606:30-07:00",
          "2016-12-0618:00-18:30",
          "2016-12-0914:30-15:00",
          "2016-12-0917:30-18:00",
          "2016-12-1012:30-13:00",
          "2016-12-1014:00-14:30",
          "2016-12-1015:30-16:00",
          "2016-12-1108:00-08:30",
          "2016-12-1119:30-20:00",
          "2016-12-1216:30-17:00",
          "2016-12-1220:00-20:30",
          "2016-12-1517:00-17:30",
          "2016-12-1523:00-23:30",
          "2016-12-1608:30-09:00",
          "2016-12-1612:30-13:00",
          "2016-12-1616:00-16:30",
          "2016-12-1616:30-17:00",
          "2016-12-1719:00-19:30",
          "2016-12-1821:30-22:00",
          "2016-12-1916:00-16:30",
          "2016-12-1922:30-23:00",
          "2016-12-2013:00-13:30",
          "2016-12-2115:00-15:30",
          "2016-12-2212:00-12:30",
          "2016-12-2418:00-18:30",
          "2016-12-2513:30-14:00",
          "2016-12-2910:30-11:00",
          "2016-12-3110:00-10:30",
          "2016-12-3123:30-24:00"
         ],
         "y": [
          1.95,
          35.217,
          0.167,
          5.35,
          1.667,
          0.333,
          1.567,
          1.833,
          0.583,
          0.167,
          2.667,
          0.65,
          3.85,
          0.5,
          0.167,
          0.167,
          0.283,
          0.167,
          1.367,
          0.783,
          0.167,
          0.167,
          0.5,
          0.667,
          0.7,
          0.117,
          4.367,
          13.933,
          0.033,
          0.683,
          0.05,
          2.333,
          0.033,
          3.5,
          0.5,
          10.433,
          4.167,
          0.167,
          0.8,
          2.067,
          10.25,
          0.167,
          0.083,
          0.333,
          0.45,
          2.983,
          0.833,
          1.833,
          0.167,
          17.183,
          1.233,
          0.117,
          0.917,
          6,
          0.167,
          2.233,
          0.167,
          0.033,
          8.9,
          0.667,
          0.333,
          0.183,
          1.167,
          0.167,
          0.733,
          0.667,
          0.567,
          0.167,
          1.167,
          1.15,
          0.167,
          0.2,
          1.25,
          0.333,
          0.067,
          0.25,
          0.167,
          0.333,
          14.133,
          6.45,
          13.283,
          1.617,
          0.117,
          0.267,
          0.333,
          0.167,
          0.333,
          0.45,
          0.65,
          0.333,
          1.433,
          2.167,
          0.333,
          7.85,
          0.967,
          0.167,
          0.667,
          9.5,
          22.683,
          0.5,
          1.167,
          0.333,
          0.167,
          0.083,
          4.167,
          0.333,
          0.6,
          0.833,
          3.9,
          0.833,
          0.333,
          1,
          0.833,
          4.417,
          0.333,
          0.833,
          0.9,
          0.833,
          0.167,
          0.133,
          2,
          0.517,
          0.167,
          3.35,
          3.967,
          0.167,
          3,
          0.183,
          0.333,
          0.167,
          5.467,
          0.683,
          0.55,
          1.183,
          1.683,
          0.617,
          14.017,
          3.45,
          2.383,
          0.95,
          0.283,
          1.667,
          0.167,
          0.667,
          0.167,
          1.333,
          0.167,
          0.167,
          0.167,
          2.633,
          0.15,
          0.167,
          0.15,
          0.55,
          2
         ]
        }
       ],
       "layout": {
        "plot_bgcolor": "#FFF",
        "shapes": [
         {
          "fillcolor": "red",
          "layer": "below",
          "line": {
           "width": 20
          },
          "opacity": 0.2,
          "type": "rect",
          "x0": "2016-07-0412:00-12:30",
          "x1": "2016-07-0412:00-12:30",
          "xref": "x",
          "y0": 0,
          "y1": 1,
          "yref": "y domain"
         },
         {
          "fillcolor": "red",
          "layer": "below",
          "line": {
           "width": 20
          },
          "opacity": 0.2,
          "type": "rect",
          "x0": "2016-09-1307:30-08:00",
          "x1": "2016-09-1307:30-08:00",
          "xref": "x",
          "y0": 0,
          "y1": 1,
          "yref": "y domain"
         },
         {
          "fillcolor": "red",
          "layer": "below",
          "line": {
           "width": 20
          },
          "opacity": 0.2,
          "type": "rect",
          "x0": "2016-11-0521:30-22:00",
          "x1": "2016-11-0521:30-22:00",
          "xref": "x",
          "y0": 0,
          "y1": 1,
          "yref": "y domain"
         }
        ],
        "showlegend": false,
        "template": {
         "data": {
          "bar": [
           {
            "error_x": {
             "color": "#2a3f5f"
            },
            "error_y": {
             "color": "#2a3f5f"
            },
            "marker": {
             "line": {
              "color": "#E5ECF6",
              "width": 0.5
             },
             "pattern": {
              "fillmode": "overlay",
              "size": 10,
              "solidity": 0.2
             }
            },
            "type": "bar"
           }
          ],
          "barpolar": [
           {
            "marker": {
             "line": {
              "color": "#E5ECF6",
              "width": 0.5
             },
             "pattern": {
              "fillmode": "overlay",
              "size": 10,
              "solidity": 0.2
             }
            },
            "type": "barpolar"
           }
          ],
          "carpet": [
           {
            "aaxis": {
             "endlinecolor": "#2a3f5f",
             "gridcolor": "white",
             "linecolor": "white",
             "minorgridcolor": "white",
             "startlinecolor": "#2a3f5f"
            },
            "baxis": {
             "endlinecolor": "#2a3f5f",
             "gridcolor": "white",
             "linecolor": "white",
             "minorgridcolor": "white",
             "startlinecolor": "#2a3f5f"
            },
            "type": "carpet"
           }
          ],
          "choropleth": [
           {
            "colorbar": {
             "outlinewidth": 0,
             "ticks": ""
            },
            "type": "choropleth"
           }
          ],
          "contour": [
           {
            "colorbar": {
             "outlinewidth": 0,
             "ticks": ""
            },
            "colorscale": [
             [
              0,
              "#0d0887"
             ],
             [
              0.1111111111111111,
              "#46039f"
             ],
             [
              0.2222222222222222,
              "#7201a8"
             ],
             [
              0.3333333333333333,
              "#9c179e"
             ],
             [
              0.4444444444444444,
              "#bd3786"
             ],
             [
              0.5555555555555556,
              "#d8576b"
             ],
             [
              0.6666666666666666,
              "#ed7953"
             ],
             [
              0.7777777777777778,
              "#fb9f3a"
             ],
             [
              0.8888888888888888,
              "#fdca26"
             ],
             [
              1,
              "#f0f921"
             ]
            ],
            "type": "contour"
           }
          ],
          "contourcarpet": [
           {
            "colorbar": {
             "outlinewidth": 0,
             "ticks": ""
            },
            "type": "contourcarpet"
           }
          ],
          "heatmap": [
           {
            "colorbar": {
             "outlinewidth": 0,
             "ticks": ""
            },
            "colorscale": [
             [
              0,
              "#0d0887"
             ],
             [
              0.1111111111111111,
              "#46039f"
             ],
             [
              0.2222222222222222,
              "#7201a8"
             ],
             [
              0.3333333333333333,
              "#9c179e"
             ],
             [
              0.4444444444444444,
              "#bd3786"
             ],
             [
              0.5555555555555556,
              "#d8576b"
             ],
             [
              0.6666666666666666,
              "#ed7953"
             ],
             [
              0.7777777777777778,
              "#fb9f3a"
             ],
             [
              0.8888888888888888,
              "#fdca26"
             ],
             [
              1,
              "#f0f921"
             ]
            ],
            "type": "heatmap"
           }
          ],
          "heatmapgl": [
           {
            "colorbar": {
             "outlinewidth": 0,
             "ticks": ""
            },
            "colorscale": [
             [
              0,
              "#0d0887"
             ],
             [
              0.1111111111111111,
              "#46039f"
             ],
             [
              0.2222222222222222,
              "#7201a8"
             ],
             [
              0.3333333333333333,
              "#9c179e"
             ],
             [
              0.4444444444444444,
              "#bd3786"
             ],
             [
              0.5555555555555556,
              "#d8576b"
             ],
             [
              0.6666666666666666,
              "#ed7953"
             ],
             [
              0.7777777777777778,
              "#fb9f3a"
             ],
             [
              0.8888888888888888,
              "#fdca26"
             ],
             [
              1,
              "#f0f921"
             ]
            ],
            "type": "heatmapgl"
           }
          ],
          "histogram": [
           {
            "marker": {
             "pattern": {
              "fillmode": "overlay",
              "size": 10,
              "solidity": 0.2
             }
            },
            "type": "histogram"
           }
          ],
          "histogram2d": [
           {
            "colorbar": {
             "outlinewidth": 0,
             "ticks": ""
            },
            "colorscale": [
             [
              0,
              "#0d0887"
             ],
             [
              0.1111111111111111,
              "#46039f"
             ],
             [
              0.2222222222222222,
              "#7201a8"
             ],
             [
              0.3333333333333333,
              "#9c179e"
             ],
             [
              0.4444444444444444,
              "#bd3786"
             ],
             [
              0.5555555555555556,
              "#d8576b"
             ],
             [
              0.6666666666666666,
              "#ed7953"
             ],
             [
              0.7777777777777778,
              "#fb9f3a"
             ],
             [
              0.8888888888888888,
              "#fdca26"
             ],
             [
              1,
              "#f0f921"
             ]
            ],
            "type": "histogram2d"
           }
          ],
          "histogram2dcontour": [
           {
            "colorbar": {
             "outlinewidth": 0,
             "ticks": ""
            },
            "colorscale": [
             [
              0,
              "#0d0887"
             ],
             [
              0.1111111111111111,
              "#46039f"
             ],
             [
              0.2222222222222222,
              "#7201a8"
             ],
             [
              0.3333333333333333,
              "#9c179e"
             ],
             [
              0.4444444444444444,
              "#bd3786"
             ],
             [
              0.5555555555555556,
              "#d8576b"
             ],
             [
              0.6666666666666666,
              "#ed7953"
             ],
             [
              0.7777777777777778,
              "#fb9f3a"
             ],
             [
              0.8888888888888888,
              "#fdca26"
             ],
             [
              1,
              "#f0f921"
             ]
            ],
            "type": "histogram2dcontour"
           }
          ],
          "mesh3d": [
           {
            "colorbar": {
             "outlinewidth": 0,
             "ticks": ""
            },
            "type": "mesh3d"
           }
          ],
          "parcoords": [
           {
            "line": {
             "colorbar": {
              "outlinewidth": 0,
              "ticks": ""
             }
            },
            "type": "parcoords"
           }
          ],
          "pie": [
           {
            "automargin": true,
            "type": "pie"
           }
          ],
          "scatter": [
           {
            "marker": {
             "colorbar": {
              "outlinewidth": 0,
              "ticks": ""
             }
            },
            "type": "scatter"
           }
          ],
          "scatter3d": [
           {
            "line": {
             "colorbar": {
              "outlinewidth": 0,
              "ticks": ""
             }
            },
            "marker": {
             "colorbar": {
              "outlinewidth": 0,
              "ticks": ""
             }
            },
            "type": "scatter3d"
           }
          ],
          "scattercarpet": [
           {
            "marker": {
             "colorbar": {
              "outlinewidth": 0,
              "ticks": ""
             }
            },
            "type": "scattercarpet"
           }
          ],
          "scattergeo": [
           {
            "marker": {
             "colorbar": {
              "outlinewidth": 0,
              "ticks": ""
             }
            },
            "type": "scattergeo"
           }
          ],
          "scattergl": [
           {
            "marker": {
             "colorbar": {
              "outlinewidth": 0,
              "ticks": ""
             }
            },
            "type": "scattergl"
           }
          ],
          "scattermapbox": [
           {
            "marker": {
             "colorbar": {
              "outlinewidth": 0,
              "ticks": ""
             }
            },
            "type": "scattermapbox"
           }
          ],
          "scatterpolar": [
           {
            "marker": {
             "colorbar": {
              "outlinewidth": 0,
              "ticks": ""
             }
            },
            "type": "scatterpolar"
           }
          ],
          "scatterpolargl": [
           {
            "marker": {
             "colorbar": {
              "outlinewidth": 0,
              "ticks": ""
             }
            },
            "type": "scatterpolargl"
           }
          ],
          "scatterternary": [
           {
            "marker": {
             "colorbar": {
              "outlinewidth": 0,
              "ticks": ""
             }
            },
            "type": "scatterternary"
           }
          ],
          "surface": [
           {
            "colorbar": {
             "outlinewidth": 0,
             "ticks": ""
            },
            "colorscale": [
             [
              0,
              "#0d0887"
             ],
             [
              0.1111111111111111,
              "#46039f"
             ],
             [
              0.2222222222222222,
              "#7201a8"
             ],
             [
              0.3333333333333333,
              "#9c179e"
             ],
             [
              0.4444444444444444,
              "#bd3786"
             ],
             [
              0.5555555555555556,
              "#d8576b"
             ],
             [
              0.6666666666666666,
              "#ed7953"
             ],
             [
              0.7777777777777778,
              "#fb9f3a"
             ],
             [
              0.8888888888888888,
              "#fdca26"
             ],
             [
              1,
              "#f0f921"
             ]
            ],
            "type": "surface"
           }
          ],
          "table": [
           {
            "cells": {
             "fill": {
              "color": "#EBF0F8"
             },
             "line": {
              "color": "white"
             }
            },
            "header": {
             "fill": {
              "color": "#C8D4E3"
             },
             "line": {
              "color": "white"
             }
            },
            "type": "table"
           }
          ]
         },
         "layout": {
          "annotationdefaults": {
           "arrowcolor": "#2a3f5f",
           "arrowhead": 0,
           "arrowwidth": 1
          },
          "autotypenumbers": "strict",
          "coloraxis": {
           "colorbar": {
            "outlinewidth": 0,
            "ticks": ""
           }
          },
          "colorscale": {
           "diverging": [
            [
             0,
             "#8e0152"
            ],
            [
             0.1,
             "#c51b7d"
            ],
            [
             0.2,
             "#de77ae"
            ],
            [
             0.3,
             "#f1b6da"
            ],
            [
             0.4,
             "#fde0ef"
            ],
            [
             0.5,
             "#f7f7f7"
            ],
            [
             0.6,
             "#e6f5d0"
            ],
            [
             0.7,
             "#b8e186"
            ],
            [
             0.8,
             "#7fbc41"
            ],
            [
             0.9,
             "#4d9221"
            ],
            [
             1,
             "#276419"
            ]
           ],
           "sequential": [
            [
             0,
             "#0d0887"
            ],
            [
             0.1111111111111111,
             "#46039f"
            ],
            [
             0.2222222222222222,
             "#7201a8"
            ],
            [
             0.3333333333333333,
             "#9c179e"
            ],
            [
             0.4444444444444444,
             "#bd3786"
            ],
            [
             0.5555555555555556,
             "#d8576b"
            ],
            [
             0.6666666666666666,
             "#ed7953"
            ],
            [
             0.7777777777777778,
             "#fb9f3a"
            ],
            [
             0.8888888888888888,
             "#fdca26"
            ],
            [
             1,
             "#f0f921"
            ]
           ],
           "sequentialminus": [
            [
             0,
             "#0d0887"
            ],
            [
             0.1111111111111111,
             "#46039f"
            ],
            [
             0.2222222222222222,
             "#7201a8"
            ],
            [
             0.3333333333333333,
             "#9c179e"
            ],
            [
             0.4444444444444444,
             "#bd3786"
            ],
            [
             0.5555555555555556,
             "#d8576b"
            ],
            [
             0.6666666666666666,
             "#ed7953"
            ],
            [
             0.7777777777777778,
             "#fb9f3a"
            ],
            [
             0.8888888888888888,
             "#fdca26"
            ],
            [
             1,
             "#f0f921"
            ]
           ]
          },
          "colorway": [
           "#636efa",
           "#EF553B",
           "#00cc96",
           "#ab63fa",
           "#FFA15A",
           "#19d3f3",
           "#FF6692",
           "#B6E880",
           "#FF97FF",
           "#FECB52"
          ],
          "font": {
           "color": "#2a3f5f"
          },
          "geo": {
           "bgcolor": "white",
           "lakecolor": "white",
           "landcolor": "#E5ECF6",
           "showlakes": true,
           "showland": true,
           "subunitcolor": "white"
          },
          "hoverlabel": {
           "align": "left"
          },
          "hovermode": "closest",
          "mapbox": {
           "style": "light"
          },
          "paper_bgcolor": "white",
          "plot_bgcolor": "#E5ECF6",
          "polar": {
           "angularaxis": {
            "gridcolor": "white",
            "linecolor": "white",
            "ticks": ""
           },
           "bgcolor": "#E5ECF6",
           "radialaxis": {
            "gridcolor": "white",
            "linecolor": "white",
            "ticks": ""
           }
          },
          "scene": {
           "xaxis": {
            "backgroundcolor": "#E5ECF6",
            "gridcolor": "white",
            "gridwidth": 2,
            "linecolor": "white",
            "showbackground": true,
            "ticks": "",
            "zerolinecolor": "white"
           },
           "yaxis": {
            "backgroundcolor": "#E5ECF6",
            "gridcolor": "white",
            "gridwidth": 2,
            "linecolor": "white",
            "showbackground": true,
            "ticks": "",
            "zerolinecolor": "white"
           },
           "zaxis": {
            "backgroundcolor": "#E5ECF6",
            "gridcolor": "white",
            "gridwidth": 2,
            "linecolor": "white",
            "showbackground": true,
            "ticks": "",
            "zerolinecolor": "white"
           }
          },
          "shapedefaults": {
           "line": {
            "color": "#2a3f5f"
           }
          },
          "ternary": {
           "aaxis": {
            "gridcolor": "white",
            "linecolor": "white",
            "ticks": ""
           },
           "baxis": {
            "gridcolor": "white",
            "linecolor": "white",
            "ticks": ""
           },
           "bgcolor": "#E5ECF6",
           "caxis": {
            "gridcolor": "white",
            "linecolor": "white",
            "ticks": ""
           }
          },
          "title": {
           "x": 0.05
          },
          "xaxis": {
           "automargin": true,
           "gridcolor": "white",
           "linecolor": "white",
           "ticks": "",
           "title": {
            "standoff": 15
           },
           "zerolinecolor": "white",
           "zerolinewidth": 2
          },
          "yaxis": {
           "automargin": true,
           "gridcolor": "white",
           "linecolor": "white",
           "ticks": "",
           "title": {
            "standoff": 15
           },
           "zerolinecolor": "white",
           "zerolinewidth": 2
          }
         }
        },
        "title": {
         "text": "Tweets about Malioboro from Jan 2020 to Jan 2021 Day by Day"
        },
        "xaxis": {
         "linecolor": "#BCCCDC",
         "showgrid": false,
         "title": {
          "text": "Time"
         }
        },
        "yaxis": {
         "linecolor": "#BCCCDC",
         "showgrid": false,
         "title": {
          "text": "Total tweets"
         }
        }
       }
      }
     },
     "metadata": {},
     "output_type": "display_data"
    }
   ],
   "source": [
    "import plotly.graph_objects as go\n",
    "\n",
    "\n",
    "fig = go.Figure(data=go.Scatter(x=df_3633['date'].astype(dtype=str)+df_3633['hour_period'].astype(dtype=str), \n",
    "                                y=df_3633['duration_min'],\n",
    "                                marker_color='black', text=\"counts\"))\n",
    "\n",
    "fig.update_layout({\"title\": 'Tweets about Malioboro from Jan 2020 to Jan 2021 Day by Day',\n",
    "                   \"xaxis\": {\"title\":\"Time\", 'showgrid': False, 'linecolor': \"#BCCCDC\"},\n",
    "                   \"yaxis\": {\"title\":\"Total tweets\", 'showgrid': False, 'linecolor': \"#BCCCDC\"},\n",
    "                   \"showlegend\": False,\n",
    "                   'plot_bgcolor': '#FFF'})\n",
    "\n",
    "for i in range(df_3633.shape[0]):\n",
    "    period = df_3633.iloc[i].hour_period\n",
    "    duration = df_3633.iloc[i].duration_min\n",
    "    extreme_dur = extreme[extreme.hour_period == period]['Avg duration'].values\n",
    "\n",
    "    if len(extreme_dur) > 0:\n",
    "        extreme_dur = extreme_dur[0]\n",
    "\n",
    "        if duration >= extreme_dur:\n",
    "            x0 = df_3633.iloc[i]['date']+df_3633.iloc[i]['hour_period']\n",
    "            y1 = df_3633.iloc[i].duration_min\n",
    "\n",
    "            fig.add_vrect(\n",
    "                x0=x0, x1=x0,\n",
    "                fillcolor=\"red\", opacity=0.2,\n",
    "                layer=\"below\", line_width=20,\n",
    "            ),\n",
    "                    \n",
    "\n",
    "fig.show()"
   ]
  },
  {
   "cell_type": "markdown",
   "metadata": {},
   "source": [
    "## Rigdeline plot\n"
   ]
  },
  {
   "cell_type": "code",
   "execution_count": 97,
   "metadata": {},
   "outputs": [
    {
     "data": {
      "application/vnd.plotly.v1+json": {
       "config": {
        "plotlyServerURL": "https://plot.ly"
       },
       "data": [
        {
         "line": {
          "color": "rgb(5.0, 200.0, 200.0)"
         },
         "orientation": "h",
         "points": false,
         "side": "positive",
         "spanmode": "hard",
         "type": "violin",
         "width": 5,
         "x": [
          0.117,
          3.467,
          0.167,
          3.5,
          1.633
         ]
        },
        {
         "line": {
          "color": "rgb(13.478260869565217, 191.73913043478262, 191.73913043478262)"
         },
         "orientation": "h",
         "points": false,
         "side": "positive",
         "spanmode": "hard",
         "type": "violin",
         "width": 5,
         "x": [
          6.85
         ]
        },
        {
         "line": {
          "color": "rgb(21.956521739130434, 183.47826086956522, 183.47826086956522)"
         },
         "orientation": "h",
         "points": false,
         "side": "positive",
         "spanmode": "hard",
         "type": "violin",
         "width": 5,
         "x": [
          0.5
         ]
        },
        {
         "line": {
          "color": "rgb(30.43478260869565, 175.2173913043478, 175.2173913043478)"
         },
         "orientation": "h",
         "points": false,
         "side": "positive",
         "spanmode": "hard",
         "type": "violin",
         "width": 5,
         "x": [
          1.683
         ]
        },
        {
         "line": {
          "color": "rgb(38.91304347826087, 166.95652173913044, 166.95652173913044)"
         },
         "orientation": "h",
         "points": false,
         "side": "positive",
         "spanmode": "hard",
         "type": "violin",
         "width": 5,
         "x": [
          0
         ]
        },
        {
         "line": {
          "color": "rgb(47.391304347826086, 158.69565217391306, 158.69565217391306)"
         },
         "orientation": "h",
         "points": false,
         "side": "positive",
         "spanmode": "hard",
         "type": "violin",
         "width": 5,
         "x": [
          1.183
         ]
        },
        {
         "line": {
          "color": "rgb(55.8695652173913, 150.43478260869566, 150.43478260869566)"
         },
         "orientation": "h",
         "points": false,
         "side": "positive",
         "spanmode": "hard",
         "type": "violin",
         "width": 5,
         "x": [
          0.833,
          1
         ]
        },
        {
         "line": {
          "color": "rgb(64.34782608695652, 142.17391304347825, 142.17391304347825)"
         },
         "orientation": "h",
         "points": false,
         "side": "positive",
         "spanmode": "hard",
         "type": "violin",
         "width": 5,
         "x": [
          3.917,
          0.35
         ]
        },
        {
         "line": {
          "color": "rgb(72.82608695652173, 133.91304347826087, 133.91304347826087)"
         },
         "orientation": "h",
         "points": false,
         "side": "positive",
         "spanmode": "hard",
         "type": "violin",
         "width": 5,
         "x": [
          0.167,
          0.5,
          0.667,
          0.067,
          0.683,
          1.167,
          0.833
         ]
        },
        {
         "line": {
          "color": "rgb(81.30434782608695, 125.65217391304348, 125.65217391304348)"
         },
         "orientation": "h",
         "points": false,
         "side": "positive",
         "spanmode": "hard",
         "type": "violin",
         "width": 5,
         "x": [
          0.167,
          0.35,
          3,
          0.167
         ]
        },
        {
         "line": {
          "color": "rgb(89.78260869565217, 117.3913043478261, 117.3913043478261)"
         },
         "orientation": "h",
         "points": false,
         "side": "positive",
         "spanmode": "hard",
         "type": "violin",
         "width": 5,
         "x": [
          0.2,
          4.067,
          0.583,
          5.5
         ]
        },
        {
         "line": {
          "color": "rgb(98.26086956521739, 109.1304347826087, 109.1304347826087)"
         },
         "orientation": "h",
         "points": false,
         "side": "positive",
         "spanmode": "hard",
         "type": "violin",
         "width": 5,
         "x": [
          23.017,
          9.333,
          0.067
         ]
        },
        {
         "line": {
          "color": "rgb(106.7391304347826, 100.86956521739131, 100.86956521739131)"
         },
         "orientation": "h",
         "points": false,
         "side": "positive",
         "spanmode": "hard",
         "type": "violin",
         "width": 5,
         "x": [
          35.217,
          0.85,
          0.833
         ]
        },
        {
         "line": {
          "color": "rgb(115.21739130434781, 92.60869565217392, 92.60869565217392)"
         },
         "orientation": "h",
         "points": false,
         "side": "positive",
         "spanmode": "hard",
         "type": "violin",
         "width": 5,
         "x": [
          4.167,
          0.9,
          9.167,
          0.017,
          7.35,
          5.7,
          2.683,
          2.683
         ]
        },
        {
         "line": {
          "color": "rgb(123.69565217391303, 84.34782608695653, 84.34782608695653)"
         },
         "orientation": "h",
         "points": false,
         "side": "positive",
         "spanmode": "hard",
         "type": "violin",
         "width": 5,
         "x": [
          0.65,
          2.067,
          0.733,
          0.333,
          2.883,
          3
         ]
        },
        {
         "line": {
          "color": "rgb(132.17391304347825, 76.08695652173914, 76.08695652173914)"
         },
         "orientation": "h",
         "points": false,
         "side": "positive",
         "spanmode": "hard",
         "type": "violin",
         "width": 5,
         "x": [
          0.333,
          1.433,
          1.5,
          0.867,
          0.667,
          0.45
         ]
        },
        {
         "line": {
          "color": "rgb(140.65217391304347, 67.82608695652175, 67.82608695652175)"
         },
         "orientation": "h",
         "points": false,
         "side": "positive",
         "spanmode": "hard",
         "type": "violin",
         "width": 5,
         "x": [
          0.167,
          1.25,
          0.617,
          1.333,
          0.167,
          1.367,
          0.167,
          0.283
         ]
        },
        {
         "line": {
          "color": "rgb(149.1304347826087, 59.56521739130437, 59.56521739130437)"
         },
         "orientation": "h",
         "points": false,
         "side": "positive",
         "spanmode": "hard",
         "type": "violin",
         "width": 5,
         "x": [
          0.7,
          10.25,
          2.733,
          2.15,
          3.183
         ]
        },
        {
         "line": {
          "color": "rgb(157.6086956521739, 51.30434782608697, 51.30434782608697)"
         },
         "orientation": "h",
         "points": false,
         "side": "positive",
         "spanmode": "hard",
         "type": "violin",
         "width": 5,
         "x": [
          0.033,
          0.683,
          1.067,
          0.167
         ]
        },
        {
         "line": {
          "color": "rgb(166.08695652173913, 43.04347826086956, 43.04347826086956)"
         },
         "orientation": "h",
         "points": false,
         "side": "positive",
         "spanmode": "hard",
         "type": "violin",
         "width": 5,
         "x": [
          4.817,
          0.033,
          0.667,
          4.667,
          7.017,
          4.833,
          0.383,
          6.283,
          3.15,
          5.667
         ]
        },
        {
         "line": {
          "color": "rgb(174.56521739130434, 34.782608695652186, 34.782608695652186)"
         },
         "orientation": "h",
         "points": false,
         "side": "positive",
         "spanmode": "hard",
         "type": "violin",
         "width": 5,
         "x": [
          3.85,
          14.017,
          0.15,
          1,
          0.133,
          0.15
         ]
        },
        {
         "line": {
          "color": "rgb(183.04347826086956, 26.52173913043481, 26.52173913043481)"
         },
         "orientation": "h",
         "points": false,
         "side": "positive",
         "spanmode": "hard",
         "type": "violin",
         "width": 5,
         "x": [
          0.833,
          10.75,
          0.333
         ]
        },
        {
         "line": {
          "color": "rgb(191.52173913043478, 18.260869565217405, 18.260869565217405)"
         },
         "orientation": "h",
         "points": false,
         "side": "positive",
         "spanmode": "hard",
         "type": "violin",
         "width": 5,
         "x": [
          0.167,
          1.833
         ]
        },
        {
         "line": {
          "color": "rgb(200.0, 10.0, 10.0)"
         },
         "orientation": "h",
         "points": false,
         "side": "positive",
         "spanmode": "hard",
         "type": "violin",
         "width": 5,
         "x": [
          0
         ]
        }
       ],
       "layout": {
        "shapes": [
         {
          "line": {
           "color": "black",
           "dash": "dash",
           "width": 5
          },
          "type": "line",
          "x0": [
           15.267
          ],
          "x1": [
           15.267
          ],
          "xref": "x",
          "y0": 0,
          "y1": 1,
          "yref": "y domain"
         },
         {
          "line": {
           "color": "black",
           "dash": "dash",
           "width": 5
          },
          "type": "line",
          "x0": [
           20.666666666666668
          ],
          "x1": [
           20.666666666666668
          ],
          "xref": "x",
          "y0": 0,
          "y1": 1,
          "yref": "y domain"
         },
         {
          "line": {
           "color": "black",
           "dash": "dash",
           "width": 5
          },
          "type": "line",
          "x0": [
           13.3
          ],
          "x1": [
           13.3
          ],
          "xref": "x",
          "y0": 0,
          "y1": 1,
          "yref": "y domain"
         },
         {
          "line": {
           "color": "black",
           "dash": "dash",
           "width": 5
          },
          "type": "line",
          "x0": [
           13.35
          ],
          "x1": [
           13.35
          ],
          "xref": "x",
          "y0": 0,
          "y1": 1,
          "yref": "y domain"
         },
         {
          "line": {
           "color": "black",
           "dash": "dash",
           "width": 5
          },
          "type": "line",
          "x0": [
           17.183
          ],
          "x1": [
           17.183
          ],
          "xref": "x",
          "y0": 0,
          "y1": 1,
          "yref": "y domain"
         },
         {
          "line": {
           "color": "black",
           "dash": "dash",
           "width": 5
          },
          "type": "line",
          "x0": [
           17.517
          ],
          "x1": [
           17.517
          ],
          "xref": "x",
          "y0": 0,
          "y1": 1,
          "yref": "y domain"
         },
         {
          "line": {
           "color": "black",
           "dash": "dash",
           "width": 5
          },
          "type": "line",
          "x0": [
           23.017
          ],
          "x1": [
           23.017
          ],
          "xref": "x",
          "y0": 0,
          "y1": 1,
          "yref": "y domain"
         },
         {
          "line": {
           "color": "black",
           "dash": "dash",
           "width": 5
          },
          "type": "line",
          "x0": [
           16.527666666666665
          ],
          "x1": [
           16.527666666666665
          ],
          "xref": "x",
          "y0": 0,
          "y1": 1,
          "yref": "y domain"
         },
         {
          "line": {
           "color": "black",
           "dash": "dash",
           "width": 5
          },
          "type": "line",
          "x0": [
           16.944666666666667
          ],
          "x1": [
           16.944666666666667
          ],
          "xref": "x",
          "y0": 0,
          "y1": 1,
          "yref": "y domain"
         },
         {
          "line": {
           "color": "black",
           "dash": "dash",
           "width": 5
          },
          "type": "line",
          "x0": [
           13.033
          ],
          "x1": [
           13.033
          ],
          "xref": "x",
          "y0": 0,
          "y1": 1,
          "yref": "y domain"
         },
         {
          "line": {
           "color": "black",
           "dash": "dash",
           "width": 5
          },
          "type": "line",
          "x0": [
           17.408
          ],
          "x1": [
           17.408
          ],
          "xref": "x",
          "y0": 0,
          "y1": 1,
          "yref": "y domain"
         },
         {
          "line": {
           "color": "black",
           "dash": "dash",
           "width": 5
          },
          "type": "line",
          "x0": [
           27.183
          ],
          "x1": [
           27.183
          ],
          "xref": "x",
          "y0": 0,
          "y1": 1,
          "yref": "y domain"
         },
         {
          "line": {
           "color": "black",
           "dash": "dash",
           "width": 5
          },
          "type": "line",
          "x0": [
           18.35
          ],
          "x1": [
           18.35
          ],
          "xref": "x",
          "y0": 0,
          "y1": 1,
          "yref": "y domain"
         },
         {
          "line": {
           "color": "black",
           "dash": "dash",
           "width": 5
          },
          "type": "line",
          "x0": [
           18.0165
          ],
          "x1": [
           18.0165
          ],
          "xref": "x",
          "y0": 0,
          "y1": 1,
          "yref": "y domain"
         }
        ],
        "template": {
         "data": {
          "bar": [
           {
            "error_x": {
             "color": "#2a3f5f"
            },
            "error_y": {
             "color": "#2a3f5f"
            },
            "marker": {
             "line": {
              "color": "#E5ECF6",
              "width": 0.5
             },
             "pattern": {
              "fillmode": "overlay",
              "size": 10,
              "solidity": 0.2
             }
            },
            "type": "bar"
           }
          ],
          "barpolar": [
           {
            "marker": {
             "line": {
              "color": "#E5ECF6",
              "width": 0.5
             },
             "pattern": {
              "fillmode": "overlay",
              "size": 10,
              "solidity": 0.2
             }
            },
            "type": "barpolar"
           }
          ],
          "carpet": [
           {
            "aaxis": {
             "endlinecolor": "#2a3f5f",
             "gridcolor": "white",
             "linecolor": "white",
             "minorgridcolor": "white",
             "startlinecolor": "#2a3f5f"
            },
            "baxis": {
             "endlinecolor": "#2a3f5f",
             "gridcolor": "white",
             "linecolor": "white",
             "minorgridcolor": "white",
             "startlinecolor": "#2a3f5f"
            },
            "type": "carpet"
           }
          ],
          "choropleth": [
           {
            "colorbar": {
             "outlinewidth": 0,
             "ticks": ""
            },
            "type": "choropleth"
           }
          ],
          "contour": [
           {
            "colorbar": {
             "outlinewidth": 0,
             "ticks": ""
            },
            "colorscale": [
             [
              0,
              "#0d0887"
             ],
             [
              0.1111111111111111,
              "#46039f"
             ],
             [
              0.2222222222222222,
              "#7201a8"
             ],
             [
              0.3333333333333333,
              "#9c179e"
             ],
             [
              0.4444444444444444,
              "#bd3786"
             ],
             [
              0.5555555555555556,
              "#d8576b"
             ],
             [
              0.6666666666666666,
              "#ed7953"
             ],
             [
              0.7777777777777778,
              "#fb9f3a"
             ],
             [
              0.8888888888888888,
              "#fdca26"
             ],
             [
              1,
              "#f0f921"
             ]
            ],
            "type": "contour"
           }
          ],
          "contourcarpet": [
           {
            "colorbar": {
             "outlinewidth": 0,
             "ticks": ""
            },
            "type": "contourcarpet"
           }
          ],
          "heatmap": [
           {
            "colorbar": {
             "outlinewidth": 0,
             "ticks": ""
            },
            "colorscale": [
             [
              0,
              "#0d0887"
             ],
             [
              0.1111111111111111,
              "#46039f"
             ],
             [
              0.2222222222222222,
              "#7201a8"
             ],
             [
              0.3333333333333333,
              "#9c179e"
             ],
             [
              0.4444444444444444,
              "#bd3786"
             ],
             [
              0.5555555555555556,
              "#d8576b"
             ],
             [
              0.6666666666666666,
              "#ed7953"
             ],
             [
              0.7777777777777778,
              "#fb9f3a"
             ],
             [
              0.8888888888888888,
              "#fdca26"
             ],
             [
              1,
              "#f0f921"
             ]
            ],
            "type": "heatmap"
           }
          ],
          "heatmapgl": [
           {
            "colorbar": {
             "outlinewidth": 0,
             "ticks": ""
            },
            "colorscale": [
             [
              0,
              "#0d0887"
             ],
             [
              0.1111111111111111,
              "#46039f"
             ],
             [
              0.2222222222222222,
              "#7201a8"
             ],
             [
              0.3333333333333333,
              "#9c179e"
             ],
             [
              0.4444444444444444,
              "#bd3786"
             ],
             [
              0.5555555555555556,
              "#d8576b"
             ],
             [
              0.6666666666666666,
              "#ed7953"
             ],
             [
              0.7777777777777778,
              "#fb9f3a"
             ],
             [
              0.8888888888888888,
              "#fdca26"
             ],
             [
              1,
              "#f0f921"
             ]
            ],
            "type": "heatmapgl"
           }
          ],
          "histogram": [
           {
            "marker": {
             "pattern": {
              "fillmode": "overlay",
              "size": 10,
              "solidity": 0.2
             }
            },
            "type": "histogram"
           }
          ],
          "histogram2d": [
           {
            "colorbar": {
             "outlinewidth": 0,
             "ticks": ""
            },
            "colorscale": [
             [
              0,
              "#0d0887"
             ],
             [
              0.1111111111111111,
              "#46039f"
             ],
             [
              0.2222222222222222,
              "#7201a8"
             ],
             [
              0.3333333333333333,
              "#9c179e"
             ],
             [
              0.4444444444444444,
              "#bd3786"
             ],
             [
              0.5555555555555556,
              "#d8576b"
             ],
             [
              0.6666666666666666,
              "#ed7953"
             ],
             [
              0.7777777777777778,
              "#fb9f3a"
             ],
             [
              0.8888888888888888,
              "#fdca26"
             ],
             [
              1,
              "#f0f921"
             ]
            ],
            "type": "histogram2d"
           }
          ],
          "histogram2dcontour": [
           {
            "colorbar": {
             "outlinewidth": 0,
             "ticks": ""
            },
            "colorscale": [
             [
              0,
              "#0d0887"
             ],
             [
              0.1111111111111111,
              "#46039f"
             ],
             [
              0.2222222222222222,
              "#7201a8"
             ],
             [
              0.3333333333333333,
              "#9c179e"
             ],
             [
              0.4444444444444444,
              "#bd3786"
             ],
             [
              0.5555555555555556,
              "#d8576b"
             ],
             [
              0.6666666666666666,
              "#ed7953"
             ],
             [
              0.7777777777777778,
              "#fb9f3a"
             ],
             [
              0.8888888888888888,
              "#fdca26"
             ],
             [
              1,
              "#f0f921"
             ]
            ],
            "type": "histogram2dcontour"
           }
          ],
          "mesh3d": [
           {
            "colorbar": {
             "outlinewidth": 0,
             "ticks": ""
            },
            "type": "mesh3d"
           }
          ],
          "parcoords": [
           {
            "line": {
             "colorbar": {
              "outlinewidth": 0,
              "ticks": ""
             }
            },
            "type": "parcoords"
           }
          ],
          "pie": [
           {
            "automargin": true,
            "type": "pie"
           }
          ],
          "scatter": [
           {
            "marker": {
             "colorbar": {
              "outlinewidth": 0,
              "ticks": ""
             }
            },
            "type": "scatter"
           }
          ],
          "scatter3d": [
           {
            "line": {
             "colorbar": {
              "outlinewidth": 0,
              "ticks": ""
             }
            },
            "marker": {
             "colorbar": {
              "outlinewidth": 0,
              "ticks": ""
             }
            },
            "type": "scatter3d"
           }
          ],
          "scattercarpet": [
           {
            "marker": {
             "colorbar": {
              "outlinewidth": 0,
              "ticks": ""
             }
            },
            "type": "scattercarpet"
           }
          ],
          "scattergeo": [
           {
            "marker": {
             "colorbar": {
              "outlinewidth": 0,
              "ticks": ""
             }
            },
            "type": "scattergeo"
           }
          ],
          "scattergl": [
           {
            "marker": {
             "colorbar": {
              "outlinewidth": 0,
              "ticks": ""
             }
            },
            "type": "scattergl"
           }
          ],
          "scattermapbox": [
           {
            "marker": {
             "colorbar": {
              "outlinewidth": 0,
              "ticks": ""
             }
            },
            "type": "scattermapbox"
           }
          ],
          "scatterpolar": [
           {
            "marker": {
             "colorbar": {
              "outlinewidth": 0,
              "ticks": ""
             }
            },
            "type": "scatterpolar"
           }
          ],
          "scatterpolargl": [
           {
            "marker": {
             "colorbar": {
              "outlinewidth": 0,
              "ticks": ""
             }
            },
            "type": "scatterpolargl"
           }
          ],
          "scatterternary": [
           {
            "marker": {
             "colorbar": {
              "outlinewidth": 0,
              "ticks": ""
             }
            },
            "type": "scatterternary"
           }
          ],
          "surface": [
           {
            "colorbar": {
             "outlinewidth": 0,
             "ticks": ""
            },
            "colorscale": [
             [
              0,
              "#0d0887"
             ],
             [
              0.1111111111111111,
              "#46039f"
             ],
             [
              0.2222222222222222,
              "#7201a8"
             ],
             [
              0.3333333333333333,
              "#9c179e"
             ],
             [
              0.4444444444444444,
              "#bd3786"
             ],
             [
              0.5555555555555556,
              "#d8576b"
             ],
             [
              0.6666666666666666,
              "#ed7953"
             ],
             [
              0.7777777777777778,
              "#fb9f3a"
             ],
             [
              0.8888888888888888,
              "#fdca26"
             ],
             [
              1,
              "#f0f921"
             ]
            ],
            "type": "surface"
           }
          ],
          "table": [
           {
            "cells": {
             "fill": {
              "color": "#EBF0F8"
             },
             "line": {
              "color": "white"
             }
            },
            "header": {
             "fill": {
              "color": "#C8D4E3"
             },
             "line": {
              "color": "white"
             }
            },
            "type": "table"
           }
          ]
         },
         "layout": {
          "annotationdefaults": {
           "arrowcolor": "#2a3f5f",
           "arrowhead": 0,
           "arrowwidth": 1
          },
          "autotypenumbers": "strict",
          "coloraxis": {
           "colorbar": {
            "outlinewidth": 0,
            "ticks": ""
           }
          },
          "colorscale": {
           "diverging": [
            [
             0,
             "#8e0152"
            ],
            [
             0.1,
             "#c51b7d"
            ],
            [
             0.2,
             "#de77ae"
            ],
            [
             0.3,
             "#f1b6da"
            ],
            [
             0.4,
             "#fde0ef"
            ],
            [
             0.5,
             "#f7f7f7"
            ],
            [
             0.6,
             "#e6f5d0"
            ],
            [
             0.7,
             "#b8e186"
            ],
            [
             0.8,
             "#7fbc41"
            ],
            [
             0.9,
             "#4d9221"
            ],
            [
             1,
             "#276419"
            ]
           ],
           "sequential": [
            [
             0,
             "#0d0887"
            ],
            [
             0.1111111111111111,
             "#46039f"
            ],
            [
             0.2222222222222222,
             "#7201a8"
            ],
            [
             0.3333333333333333,
             "#9c179e"
            ],
            [
             0.4444444444444444,
             "#bd3786"
            ],
            [
             0.5555555555555556,
             "#d8576b"
            ],
            [
             0.6666666666666666,
             "#ed7953"
            ],
            [
             0.7777777777777778,
             "#fb9f3a"
            ],
            [
             0.8888888888888888,
             "#fdca26"
            ],
            [
             1,
             "#f0f921"
            ]
           ],
           "sequentialminus": [
            [
             0,
             "#0d0887"
            ],
            [
             0.1111111111111111,
             "#46039f"
            ],
            [
             0.2222222222222222,
             "#7201a8"
            ],
            [
             0.3333333333333333,
             "#9c179e"
            ],
            [
             0.4444444444444444,
             "#bd3786"
            ],
            [
             0.5555555555555556,
             "#d8576b"
            ],
            [
             0.6666666666666666,
             "#ed7953"
            ],
            [
             0.7777777777777778,
             "#fb9f3a"
            ],
            [
             0.8888888888888888,
             "#fdca26"
            ],
            [
             1,
             "#f0f921"
            ]
           ]
          },
          "colorway": [
           "#636efa",
           "#EF553B",
           "#00cc96",
           "#ab63fa",
           "#FFA15A",
           "#19d3f3",
           "#FF6692",
           "#B6E880",
           "#FF97FF",
           "#FECB52"
          ],
          "font": {
           "color": "#2a3f5f"
          },
          "geo": {
           "bgcolor": "white",
           "lakecolor": "white",
           "landcolor": "#E5ECF6",
           "showlakes": true,
           "showland": true,
           "subunitcolor": "white"
          },
          "hoverlabel": {
           "align": "left"
          },
          "hovermode": "closest",
          "mapbox": {
           "style": "light"
          },
          "paper_bgcolor": "white",
          "plot_bgcolor": "#E5ECF6",
          "polar": {
           "angularaxis": {
            "gridcolor": "white",
            "linecolor": "white",
            "ticks": ""
           },
           "bgcolor": "#E5ECF6",
           "radialaxis": {
            "gridcolor": "white",
            "linecolor": "white",
            "ticks": ""
           }
          },
          "scene": {
           "xaxis": {
            "backgroundcolor": "#E5ECF6",
            "gridcolor": "white",
            "gridwidth": 2,
            "linecolor": "white",
            "showbackground": true,
            "ticks": "",
            "zerolinecolor": "white"
           },
           "yaxis": {
            "backgroundcolor": "#E5ECF6",
            "gridcolor": "white",
            "gridwidth": 2,
            "linecolor": "white",
            "showbackground": true,
            "ticks": "",
            "zerolinecolor": "white"
           },
           "zaxis": {
            "backgroundcolor": "#E5ECF6",
            "gridcolor": "white",
            "gridwidth": 2,
            "linecolor": "white",
            "showbackground": true,
            "ticks": "",
            "zerolinecolor": "white"
           }
          },
          "shapedefaults": {
           "line": {
            "color": "#2a3f5f"
           }
          },
          "ternary": {
           "aaxis": {
            "gridcolor": "white",
            "linecolor": "white",
            "ticks": ""
           },
           "baxis": {
            "gridcolor": "white",
            "linecolor": "white",
            "ticks": ""
           },
           "bgcolor": "#E5ECF6",
           "caxis": {
            "gridcolor": "white",
            "linecolor": "white",
            "ticks": ""
           }
          },
          "title": {
           "x": 0.05
          },
          "xaxis": {
           "automargin": true,
           "gridcolor": "white",
           "linecolor": "white",
           "ticks": "",
           "title": {
            "standoff": 15
           },
           "zerolinecolor": "white",
           "zerolinewidth": 2
          },
          "yaxis": {
           "automargin": true,
           "gridcolor": "white",
           "linecolor": "white",
           "ticks": "",
           "title": {
            "standoff": 15
           },
           "zerolinecolor": "white",
           "zerolinewidth": 2
          }
         }
        },
        "xaxis": {
         "showgrid": false,
         "zeroline": false
        }
       }
      }
     },
     "metadata": {},
     "output_type": "display_data"
    }
   ],
   "source": [
    "\n",
    "import plotly.graph_objects as go\n",
    "from plotly.colors import n_colors\n",
    "import numpy as np\n",
    "np.random.seed(1)\n",
    "\n",
    "\n",
    "\n",
    "colors = n_colors('rgb(5, 200, 200)', 'rgb(200, 10, 10)', 24, colortype='rgb')\n",
    "\n",
    "fig = go.Figure()\n",
    "for hour, color in zip(cats, colors):\n",
    "    df = df_rigdeplot[(df_rigdeplot.hour_period == hour) & (df_rigdeplot.day == 'Monday')]\n",
    "    fig.add_trace(go.Violin(x = df['duration_min'], line_color=color, spanmode = 'hard'))\n",
    "\n",
    "    df = extreme[(extreme.hour_period == hour) & (extreme.day == 'Monday')]\n",
    "    if not df.empty:\n",
    "        fig.add_vline(x=df[\"Avg duration\"].values, line_width=5, line_dash=\"dash\", line_color=\"black\")\n",
    "\n",
    "fig.update_traces(orientation='h', side='positive', width=5, points=False)\n",
    "fig.update_layout(xaxis_showgrid=False, xaxis_zeroline=False)\n",
    "fig.show()"
   ]
  },
  {
   "cell_type": "code",
   "execution_count": 134,
   "metadata": {},
   "outputs": [
    {
     "data": {
      "application/vnd.plotly.v1+json": {
       "config": {
        "plotlyServerURL": "https://plot.ly"
       },
       "data": [
        {
         "fill": "tozeroy",
         "name": "Monday",
         "type": "scatter",
         "x": [
          "00:00-01:00",
          "00:00-01:00",
          "00:00-01:00",
          "00:00-01:00",
          "00:00-01:00",
          "01:00-02:00",
          "02:00-03:00",
          "03:00-04:00",
          "04:00-05:00",
          "05:00-06:00",
          "06:00-07:00",
          "06:00-07:00",
          "07:00-08:00",
          "07:00-08:00",
          "08:00-09:00",
          "08:00-09:00",
          "08:00-09:00",
          "08:00-09:00",
          "08:00-09:00",
          "08:00-09:00",
          "08:00-09:00",
          "09:00-10:00",
          "09:00-10:00",
          "09:00-10:00",
          "09:00-10:00",
          "10:00-11:00",
          "10:00-11:00",
          "10:00-11:00",
          "10:00-11:00",
          "11:00-12:00",
          "11:00-12:00",
          "11:00-12:00",
          "12:00-13:00",
          "12:00-13:00",
          "12:00-13:00",
          "13:00-14:00",
          "13:00-14:00",
          "13:00-14:00",
          "13:00-14:00",
          "13:00-14:00",
          "13:00-14:00",
          "13:00-14:00",
          "13:00-14:00",
          "14:00-15:00",
          "14:00-15:00",
          "14:00-15:00",
          "14:00-15:00",
          "14:00-15:00",
          "14:00-15:00",
          "15:00-16:00",
          "15:00-16:00",
          "15:00-16:00",
          "15:00-16:00",
          "15:00-16:00",
          "15:00-16:00",
          "16:00-17:00",
          "16:00-17:00",
          "16:00-17:00",
          "16:00-17:00",
          "16:00-17:00",
          "16:00-17:00",
          "16:00-17:00",
          "16:00-17:00",
          "17:00-18:00",
          "17:00-18:00",
          "17:00-18:00",
          "17:00-18:00",
          "17:00-18:00",
          "18:00-19:00",
          "18:00-19:00",
          "18:00-19:00",
          "18:00-19:00",
          "19:00-20:00",
          "19:00-20:00",
          "19:00-20:00",
          "19:00-20:00",
          "19:00-20:00",
          "19:00-20:00",
          "19:00-20:00",
          "19:00-20:00",
          "19:00-20:00",
          "19:00-20:00",
          "20:00-21:00",
          "20:00-21:00",
          "20:00-21:00",
          "20:00-21:00",
          "20:00-21:00",
          "20:00-21:00",
          "21:00-22:00",
          "21:00-22:00",
          "21:00-22:00",
          "22:00-23:00",
          "22:00-23:00",
          "23:00-24:00"
         ],
         "xaxis": "x",
         "y": [
          0.117,
          3.467,
          0.167,
          3.5,
          1.633,
          6.85,
          0.5,
          1.683,
          0,
          1.183,
          0.833,
          1,
          3.917,
          0.35,
          0.167,
          0.5,
          0.667,
          0.067,
          0.683,
          1.167,
          0.833,
          0.167,
          0.35,
          3,
          0.167,
          0.2,
          4.067,
          0.583,
          5.5,
          23.017,
          9.333,
          0.067,
          35.217,
          0.85,
          0.833,
          4.167,
          0.9,
          9.167,
          0.017,
          7.35,
          5.7,
          2.683,
          2.683,
          0.65,
          2.067,
          0.733,
          0.333,
          2.883,
          3,
          0.333,
          1.433,
          1.5,
          0.867,
          0.667,
          0.45,
          0.167,
          1.25,
          0.617,
          1.333,
          0.167,
          1.367,
          0.167,
          0.283,
          0.7,
          10.25,
          2.733,
          2.15,
          3.183,
          0.033,
          0.683,
          1.067,
          0.167,
          4.817,
          0.033,
          0.667,
          4.667,
          7.017,
          4.833,
          0.383,
          6.283,
          3.15,
          5.667,
          3.85,
          14.017,
          0.15,
          1,
          0.133,
          0.15,
          0.833,
          10.75,
          0.333,
          0.167,
          1.833,
          0
         ],
         "yaxis": "y"
        },
        {
         "fill": "tozeroy",
         "name": "Tuesday",
         "type": "scatter",
         "x": [
          "00:00-01:00",
          "01:00-02:00",
          "02:00-03:00",
          "03:00-04:00",
          "04:00-05:00",
          "05:00-06:00",
          "05:00-06:00",
          "06:00-07:00",
          "06:00-07:00",
          "07:00-08:00",
          "07:00-08:00",
          "07:00-08:00",
          "07:00-08:00",
          "08:00-09:00",
          "08:00-09:00",
          "08:00-09:00",
          "08:00-09:00",
          "08:00-09:00",
          "08:00-09:00",
          "08:00-09:00",
          "09:00-10:00",
          "09:00-10:00",
          "09:00-10:00",
          "09:00-10:00",
          "09:00-10:00",
          "09:00-10:00",
          "09:00-10:00",
          "09:00-10:00",
          "09:00-10:00",
          "09:00-10:00",
          "09:00-10:00",
          "10:00-11:00",
          "10:00-11:00",
          "11:00-12:00",
          "11:00-12:00",
          "11:00-12:00",
          "11:00-12:00",
          "11:00-12:00",
          "11:00-12:00",
          "12:00-13:00",
          "12:00-13:00",
          "12:00-13:00",
          "12:00-13:00",
          "13:00-14:00",
          "13:00-14:00",
          "13:00-14:00",
          "13:00-14:00",
          "13:00-14:00",
          "13:00-14:00",
          "13:00-14:00",
          "13:00-14:00",
          "13:00-14:00",
          "14:00-15:00",
          "14:00-15:00",
          "14:00-15:00",
          "14:00-15:00",
          "14:00-15:00",
          "14:00-15:00",
          "14:00-15:00",
          "14:00-15:00",
          "14:00-15:00",
          "15:00-16:00",
          "15:00-16:00",
          "15:00-16:00",
          "15:00-16:00",
          "16:00-17:00",
          "17:00-18:00",
          "17:00-18:00",
          "17:00-18:00",
          "17:00-18:00",
          "17:00-18:00",
          "18:00-19:00",
          "18:00-19:00",
          "18:00-19:00",
          "18:00-19:00",
          "18:00-19:00",
          "18:00-19:00",
          "19:00-20:00",
          "19:00-20:00",
          "19:00-20:00",
          "20:00-21:00",
          "20:00-21:00",
          "20:00-21:00",
          "20:00-21:00",
          "20:00-21:00",
          "20:00-21:00",
          "20:00-21:00",
          "20:00-21:00",
          "20:00-21:00",
          "21:00-22:00",
          "21:00-22:00",
          "21:00-22:00",
          "21:00-22:00",
          "21:00-22:00",
          "21:00-22:00",
          "21:00-22:00",
          "22:00-23:00",
          "23:00-24:00"
         ],
         "xaxis": "x2",
         "y": [
          0,
          0,
          0,
          0,
          3.083,
          1.733,
          2.333,
          0.033,
          3,
          17.183,
          0.667,
          0.167,
          0.167,
          1.167,
          2.35,
          0.083,
          0.517,
          0.783,
          0.067,
          0.017,
          0.5,
          0.05,
          0.3,
          0.333,
          0.167,
          8.333,
          0.65,
          0.5,
          0.167,
          0.167,
          0.333,
          0.167,
          1.05,
          0.033,
          1.167,
          0.5,
          0.167,
          2.083,
          0.167,
          1.567,
          6.333,
          0.35,
          2.667,
          0.167,
          0.167,
          0.317,
          0.15,
          11.817,
          0.667,
          0.2,
          0.333,
          0.167,
          2.983,
          0.267,
          0.05,
          11.45,
          0.683,
          0.35,
          0.833,
          0.017,
          0.1,
          0.667,
          0.667,
          0.833,
          0.167,
          0.333,
          0.9,
          1,
          0.167,
          0.233,
          0.5,
          8.9,
          0.183,
          0.333,
          1.833,
          1.05,
          5.4,
          1.667,
          1.117,
          1.5,
          0.167,
          1.133,
          3.4,
          0.167,
          0.5,
          0.933,
          54.717,
          0.167,
          0.333,
          2.65,
          0.167,
          1.167,
          17.85,
          4.333,
          0.667,
          0.167,
          0,
          6.167
         ],
         "yaxis": "y2"
        },
        {
         "fill": "tozeroy",
         "name": "Wednesday",
         "type": "scatter",
         "x": [
          "00:00-01:00",
          "01:00-02:00",
          "02:00-03:00",
          "02:00-03:00",
          "03:00-04:00",
          "04:00-05:00",
          "04:00-05:00",
          "04:00-05:00",
          "05:00-06:00",
          "05:00-06:00",
          "06:00-07:00",
          "06:00-07:00",
          "07:00-08:00",
          "07:00-08:00",
          "07:00-08:00",
          "08:00-09:00",
          "08:00-09:00",
          "08:00-09:00",
          "08:00-09:00",
          "08:00-09:00",
          "08:00-09:00",
          "09:00-10:00",
          "09:00-10:00",
          "09:00-10:00",
          "09:00-10:00",
          "10:00-11:00",
          "10:00-11:00",
          "11:00-12:00",
          "11:00-12:00",
          "11:00-12:00",
          "11:00-12:00",
          "12:00-13:00",
          "12:00-13:00",
          "12:00-13:00",
          "12:00-13:00",
          "12:00-13:00",
          "12:00-13:00",
          "12:00-13:00",
          "12:00-13:00",
          "13:00-14:00",
          "13:00-14:00",
          "13:00-14:00",
          "13:00-14:00",
          "13:00-14:00",
          "13:00-14:00",
          "13:00-14:00",
          "13:00-14:00",
          "14:00-15:00",
          "14:00-15:00",
          "14:00-15:00",
          "14:00-15:00",
          "14:00-15:00",
          "14:00-15:00",
          "15:00-16:00",
          "15:00-16:00",
          "15:00-16:00",
          "15:00-16:00",
          "16:00-17:00",
          "16:00-17:00",
          "16:00-17:00",
          "16:00-17:00",
          "16:00-17:00",
          "16:00-17:00",
          "16:00-17:00",
          "16:00-17:00",
          "16:00-17:00",
          "16:00-17:00",
          "16:00-17:00",
          "17:00-18:00",
          "17:00-18:00",
          "17:00-18:00",
          "18:00-19:00",
          "18:00-19:00",
          "18:00-19:00",
          "19:00-20:00",
          "19:00-20:00",
          "19:00-20:00",
          "19:00-20:00",
          "19:00-20:00",
          "19:00-20:00",
          "19:00-20:00",
          "20:00-21:00",
          "20:00-21:00",
          "20:00-21:00",
          "21:00-22:00",
          "21:00-22:00",
          "21:00-22:00",
          "22:00-23:00",
          "22:00-23:00",
          "22:00-23:00",
          "23:00-24:00",
          "23:00-24:00"
         ],
         "xaxis": "x3",
         "y": [
          0,
          0,
          0.117,
          2.083,
          0.167,
          2.683,
          6.333,
          0.167,
          0.567,
          0.55,
          1.2,
          0.067,
          1.167,
          3.167,
          0.95,
          0.067,
          0.55,
          0.667,
          0.333,
          0.7,
          0.167,
          1.067,
          0.333,
          0.167,
          0.483,
          0.833,
          0.333,
          1.233,
          0.25,
          1.5,
          0.333,
          0.783,
          3.5,
          0.167,
          1.433,
          0.167,
          2.233,
          0.167,
          0.333,
          0.167,
          0.833,
          0.5,
          1.8,
          0.167,
          0.317,
          0.667,
          0.167,
          1.833,
          2.167,
          0.333,
          0.167,
          0.133,
          0.167,
          0.167,
          0.167,
          2.5,
          1.017,
          0.117,
          0.167,
          1.167,
          0.167,
          0.567,
          0.333,
          0.5,
          2.167,
          2.017,
          0.5,
          0.15,
          0.333,
          1.067,
          0.317,
          1.6,
          0.083,
          9.067,
          7.85,
          0.167,
          1.45,
          1.717,
          1.783,
          2.833,
          0.167,
          0.133,
          1.5,
          2.667,
          0.5,
          1,
          1.183,
          2,
          0.517,
          0.5,
          5.35,
          1.833
         ],
         "yaxis": "y3"
        },
        {
         "fill": "tozeroy",
         "name": "Thursday",
         "type": "scatter",
         "x": [
          "00:00-01:00",
          "00:00-01:00",
          "01:00-02:00",
          "02:00-03:00",
          "03:00-04:00",
          "04:00-05:00",
          "04:00-05:00",
          "05:00-06:00",
          "05:00-06:00",
          "05:00-06:00",
          "05:00-06:00",
          "06:00-07:00",
          "06:00-07:00",
          "06:00-07:00",
          "07:00-08:00",
          "07:00-08:00",
          "08:00-09:00",
          "08:00-09:00",
          "08:00-09:00",
          "08:00-09:00",
          "08:00-09:00",
          "08:00-09:00",
          "08:00-09:00",
          "08:00-09:00",
          "09:00-10:00",
          "09:00-10:00",
          "09:00-10:00",
          "09:00-10:00",
          "09:00-10:00",
          "09:00-10:00",
          "10:00-11:00",
          "10:00-11:00",
          "10:00-11:00",
          "10:00-11:00",
          "10:00-11:00",
          "10:00-11:00",
          "10:00-11:00",
          "10:00-11:00",
          "10:00-11:00",
          "11:00-12:00",
          "11:00-12:00",
          "11:00-12:00",
          "12:00-13:00",
          "12:00-13:00",
          "13:00-14:00",
          "13:00-14:00",
          "13:00-14:00",
          "13:00-14:00",
          "13:00-14:00",
          "13:00-14:00",
          "13:00-14:00",
          "14:00-15:00",
          "14:00-15:00",
          "14:00-15:00",
          "14:00-15:00",
          "14:00-15:00",
          "14:00-15:00",
          "14:00-15:00",
          "14:00-15:00",
          "15:00-16:00",
          "15:00-16:00",
          "15:00-16:00",
          "15:00-16:00",
          "15:00-16:00",
          "16:00-17:00",
          "16:00-17:00",
          "16:00-17:00",
          "16:00-17:00",
          "16:00-17:00",
          "16:00-17:00",
          "17:00-18:00",
          "17:00-18:00",
          "17:00-18:00",
          "17:00-18:00",
          "18:00-19:00",
          "18:00-19:00",
          "18:00-19:00",
          "18:00-19:00",
          "18:00-19:00",
          "18:00-19:00",
          "18:00-19:00",
          "19:00-20:00",
          "19:00-20:00",
          "20:00-21:00",
          "20:00-21:00",
          "21:00-22:00",
          "22:00-23:00",
          "22:00-23:00",
          "22:00-23:00",
          "23:00-24:00",
          "23:00-24:00",
          "23:00-24:00"
         ],
         "xaxis": "x4",
         "y": [
          1.5,
          1,
          0,
          0,
          0.167,
          0.333,
          7.6,
          1.467,
          0.5,
          3.833,
          0.667,
          0.167,
          0.2,
          0.5,
          4.333,
          0.833,
          0.283,
          1.5,
          2.917,
          0.183,
          0.983,
          1.667,
          0.5,
          0.017,
          0.117,
          1.417,
          0.133,
          1.083,
          0.167,
          0.483,
          0.15,
          0.333,
          0.167,
          2.15,
          0.833,
          0.6,
          1.333,
          0.133,
          0.667,
          0.083,
          0.167,
          0.333,
          2.633,
          0.5,
          0.167,
          4.367,
          0.15,
          0.317,
          0.05,
          1.083,
          1.167,
          0.167,
          10.433,
          0.667,
          1.667,
          2.167,
          3.333,
          6.267,
          0.667,
          0.667,
          1,
          0.5,
          0.433,
          0.167,
          14.133,
          0.6,
          0.333,
          1.533,
          0.483,
          1.183,
          3.45,
          0.167,
          0.833,
          0.067,
          0.917,
          6.45,
          3.833,
          0.083,
          3,
          0.017,
          1.333,
          0.917,
          0.333,
          0.667,
          0.5,
          0.033,
          0.317,
          0.167,
          1.167,
          2.383,
          0.167,
          5.5
         ],
         "yaxis": "y4"
        },
        {
         "fill": "tozeroy",
         "name": "Friday",
         "type": "scatter",
         "x": [
          "00:00-01:00",
          "00:00-01:00",
          "01:00-02:00",
          "02:00-03:00",
          "03:00-04:00",
          "04:00-05:00",
          "05:00-06:00",
          "05:00-06:00",
          "05:00-06:00",
          "06:00-07:00",
          "06:00-07:00",
          "06:00-07:00",
          "06:00-07:00",
          "07:00-08:00",
          "07:00-08:00",
          "07:00-08:00",
          "07:00-08:00",
          "08:00-09:00",
          "08:00-09:00",
          "08:00-09:00",
          "08:00-09:00",
          "08:00-09:00",
          "08:00-09:00",
          "08:00-09:00",
          "08:00-09:00",
          "09:00-10:00",
          "09:00-10:00",
          "09:00-10:00",
          "09:00-10:00",
          "09:00-10:00",
          "09:00-10:00",
          "09:00-10:00",
          "09:00-10:00",
          "10:00-11:00",
          "10:00-11:00",
          "10:00-11:00",
          "11:00-12:00",
          "11:00-12:00",
          "12:00-13:00",
          "12:00-13:00",
          "12:00-13:00",
          "12:00-13:00",
          "12:00-13:00",
          "12:00-13:00",
          "12:00-13:00",
          "12:00-13:00",
          "12:00-13:00",
          "13:00-14:00",
          "13:00-14:00",
          "13:00-14:00",
          "13:00-14:00",
          "13:00-14:00",
          "14:00-15:00",
          "14:00-15:00",
          "14:00-15:00",
          "14:00-15:00",
          "14:00-15:00",
          "14:00-15:00",
          "14:00-15:00",
          "14:00-15:00",
          "15:00-16:00",
          "15:00-16:00",
          "15:00-16:00",
          "15:00-16:00",
          "16:00-17:00",
          "16:00-17:00",
          "16:00-17:00",
          "16:00-17:00",
          "16:00-17:00",
          "17:00-18:00",
          "17:00-18:00",
          "17:00-18:00",
          "17:00-18:00",
          "17:00-18:00",
          "17:00-18:00",
          "17:00-18:00",
          "17:00-18:00",
          "18:00-19:00",
          "18:00-19:00",
          "18:00-19:00",
          "18:00-19:00",
          "19:00-20:00",
          "19:00-20:00",
          "19:00-20:00",
          "20:00-21:00",
          "20:00-21:00",
          "21:00-22:00",
          "21:00-22:00",
          "21:00-22:00",
          "21:00-22:00",
          "21:00-22:00",
          "22:00-23:00",
          "23:00-24:00"
         ],
         "xaxis": "x5",
         "y": [
          3,
          4.183,
          4.167,
          0.4,
          0,
          0,
          0.1,
          0.833,
          1.333,
          6,
          0.333,
          0.15,
          9.683,
          0.167,
          0.167,
          0.167,
          0.667,
          0.333,
          0.25,
          0.833,
          0.95,
          1.217,
          1.5,
          8.483,
          5.1,
          0.167,
          3.9,
          1.333,
          1,
          2.833,
          1.133,
          0.833,
          1.25,
          0.333,
          0.933,
          0.667,
          0.5,
          0.167,
          0.45,
          0.833,
          0.283,
          1.483,
          3.167,
          2,
          5.517,
          0.167,
          8.183,
          0.833,
          0.1,
          0.833,
          4.067,
          0.633,
          0.183,
          0.333,
          2.667,
          3.467,
          0.667,
          0.567,
          0.05,
          0.267,
          3.5,
          0.333,
          1.933,
          0.683,
          0.167,
          1.667,
          10.333,
          0.167,
          0.15,
          0.333,
          0.333,
          0.167,
          0.833,
          0.167,
          0.167,
          2.517,
          0.017,
          0.65,
          3.35,
          6,
          1.017,
          0.167,
          3.5,
          0.333,
          0.167,
          5.333,
          1.333,
          6.067,
          0.133,
          1.017,
          0.85,
          0,
          0
         ],
         "yaxis": "y5"
        },
        {
         "fill": "tozeroy",
         "name": "Saturday",
         "type": "scatter",
         "x": [
          "00:00-01:00",
          "01:00-02:00",
          "01:00-02:00",
          "02:00-03:00",
          "03:00-04:00",
          "04:00-05:00",
          "05:00-06:00",
          "05:00-06:00",
          "06:00-07:00",
          "06:00-07:00",
          "07:00-08:00",
          "07:00-08:00",
          "07:00-08:00",
          "07:00-08:00",
          "08:00-09:00",
          "08:00-09:00",
          "08:00-09:00",
          "08:00-09:00",
          "08:00-09:00",
          "09:00-10:00",
          "09:00-10:00",
          "09:00-10:00",
          "10:00-11:00",
          "10:00-11:00",
          "10:00-11:00",
          "10:00-11:00",
          "10:00-11:00",
          "10:00-11:00",
          "10:00-11:00",
          "11:00-12:00",
          "11:00-12:00",
          "11:00-12:00",
          "11:00-12:00",
          "11:00-12:00",
          "12:00-13:00",
          "12:00-13:00",
          "12:00-13:00",
          "12:00-13:00",
          "12:00-13:00",
          "12:00-13:00",
          "12:00-13:00",
          "12:00-13:00",
          "12:00-13:00",
          "12:00-13:00",
          "13:00-14:00",
          "13:00-14:00",
          "13:00-14:00",
          "14:00-15:00",
          "14:00-15:00",
          "14:00-15:00",
          "14:00-15:00",
          "14:00-15:00",
          "14:00-15:00",
          "14:00-15:00",
          "14:00-15:00",
          "15:00-16:00",
          "15:00-16:00",
          "15:00-16:00",
          "15:00-16:00",
          "15:00-16:00",
          "16:00-17:00",
          "16:00-17:00",
          "16:00-17:00",
          "16:00-17:00",
          "16:00-17:00",
          "16:00-17:00",
          "17:00-18:00",
          "18:00-19:00",
          "18:00-19:00",
          "18:00-19:00",
          "19:00-20:00",
          "19:00-20:00",
          "19:00-20:00",
          "19:00-20:00",
          "19:00-20:00",
          "20:00-21:00",
          "20:00-21:00",
          "20:00-21:00",
          "20:00-21:00",
          "20:00-21:00",
          "20:00-21:00",
          "20:00-21:00",
          "20:00-21:00",
          "20:00-21:00",
          "20:00-21:00",
          "20:00-21:00",
          "21:00-22:00",
          "21:00-22:00",
          "21:00-22:00",
          "21:00-22:00",
          "22:00-23:00",
          "22:00-23:00",
          "22:00-23:00",
          "22:00-23:00",
          "22:00-23:00",
          "23:00-24:00",
          "23:00-24:00"
         ],
         "xaxis": "x6",
         "y": [
          0,
          1.167,
          0.833,
          4.167,
          0,
          0,
          0.45,
          11,
          13.933,
          0.667,
          1.95,
          0.583,
          0.167,
          0.167,
          1.667,
          1.167,
          0.05,
          0.167,
          5.05,
          1.833,
          0.167,
          0.083,
          0.167,
          0.083,
          0.55,
          0.767,
          0.25,
          1,
          0.167,
          0.333,
          0.75,
          0.667,
          1.083,
          0.25,
          2.333,
          9.5,
          4.417,
          5.467,
          4.567,
          13.2,
          3.5,
          4.833,
          5.233,
          0.033,
          0.667,
          0.167,
          4.167,
          3.967,
          0.683,
          1.233,
          0.15,
          0.633,
          0.167,
          5.5,
          0.333,
          1,
          0.55,
          2.3,
          6.667,
          2.183,
          1.167,
          0.167,
          0.667,
          1,
          0.167,
          0.167,
          0.333,
          0.333,
          0.15,
          0.167,
          0.667,
          3.667,
          0.667,
          1.833,
          0.167,
          1.367,
          0.167,
          0.167,
          2.717,
          2.533,
          3.517,
          5.017,
          10.233,
          1.3,
          0.35,
          0.133,
          13.283,
          0.967,
          22.683,
          0.167,
          1,
          4.5,
          0.333,
          0.333,
          8.183,
          2,
          0.333
         ],
         "yaxis": "y6"
        },
        {
         "fill": "tozeroy",
         "name": "Sunday",
         "type": "scatter",
         "x": [
          "00:00-01:00",
          "01:00-02:00",
          "01:00-02:00",
          "01:00-02:00",
          "02:00-03:00",
          "03:00-04:00",
          "04:00-05:00",
          "05:00-06:00",
          "06:00-07:00",
          "06:00-07:00",
          "06:00-07:00",
          "06:00-07:00",
          "07:00-08:00",
          "08:00-09:00",
          "08:00-09:00",
          "09:00-10:00",
          "09:00-10:00",
          "10:00-11:00",
          "10:00-11:00",
          "10:00-11:00",
          "11:00-12:00",
          "11:00-12:00",
          "11:00-12:00",
          "12:00-13:00",
          "12:00-13:00",
          "13:00-14:00",
          "13:00-14:00",
          "13:00-14:00",
          "13:00-14:00",
          "13:00-14:00",
          "13:00-14:00",
          "13:00-14:00",
          "13:00-14:00",
          "13:00-14:00",
          "13:00-14:00",
          "13:00-14:00",
          "14:00-15:00",
          "14:00-15:00",
          "14:00-15:00",
          "14:00-15:00",
          "14:00-15:00",
          "14:00-15:00",
          "14:00-15:00",
          "14:00-15:00",
          "14:00-15:00",
          "14:00-15:00",
          "14:00-15:00",
          "15:00-16:00",
          "15:00-16:00",
          "15:00-16:00",
          "15:00-16:00",
          "15:00-16:00",
          "15:00-16:00",
          "15:00-16:00",
          "16:00-17:00",
          "16:00-17:00",
          "16:00-17:00",
          "16:00-17:00",
          "16:00-17:00",
          "17:00-18:00",
          "17:00-18:00",
          "17:00-18:00",
          "17:00-18:00",
          "17:00-18:00",
          "18:00-19:00",
          "18:00-19:00",
          "19:00-20:00",
          "19:00-20:00",
          "19:00-20:00",
          "19:00-20:00",
          "19:00-20:00",
          "19:00-20:00",
          "20:00-21:00",
          "21:00-22:00",
          "21:00-22:00",
          "21:00-22:00",
          "22:00-23:00",
          "22:00-23:00",
          "22:00-23:00",
          "23:00-24:00",
          "23:00-24:00",
          "23:00-24:00"
         ],
         "xaxis": "x7",
         "y": [
          0,
          0.167,
          35.883,
          0.167,
          0,
          0,
          0,
          1.25,
          0.667,
          1.5,
          0.333,
          10.967,
          5.333,
          1.183,
          5.333,
          0.317,
          2.15,
          0.167,
          0.333,
          3.65,
          2.383,
          0.617,
          0.85,
          1.15,
          5.667,
          0.167,
          1.467,
          0.833,
          0.167,
          3.167,
          0.117,
          0.433,
          1.667,
          1.983,
          1,
          3.75,
          2.233,
          1.617,
          1.5,
          1,
          1.833,
          5.017,
          0.917,
          0.283,
          1.167,
          0.467,
          0.017,
          0.167,
          0.167,
          2.167,
          0.817,
          0.167,
          7.767,
          0.833,
          0.167,
          0.283,
          0.667,
          0.167,
          0.167,
          11.517,
          3.85,
          1.4,
          0.333,
          5.183,
          1.267,
          1.5,
          0.8,
          1.683,
          3.583,
          17.267,
          0.167,
          2.667,
          2.667,
          0.167,
          0.433,
          0.167,
          0.5,
          0.5,
          0.167,
          0.333,
          1.5,
          9.083
         ],
         "yaxis": "y7"
        }
       ],
       "layout": {
        "height": 1000,
        "shapes": [
         {
          "fillcolor": "red",
          "line": {
           "width": 20
          },
          "opacity": 0.2,
          "type": "rect",
          "x0": "11:00-12:00",
          "x1": "11:00-12:00",
          "xref": "x",
          "y0": 0,
          "y1": 1,
          "yref": "y domain"
         },
         {
          "fillcolor": "red",
          "line": {
           "width": 20
          },
          "opacity": 0.2,
          "type": "rect",
          "x0": "12:00-13:00",
          "x1": "12:00-13:00",
          "xref": "x",
          "y0": 0,
          "y1": 1,
          "yref": "y domain"
         },
         {
          "fillcolor": "red",
          "line": {
           "width": 20
          },
          "opacity": 0.2,
          "type": "rect",
          "x0": "20:00-21:00",
          "x1": "20:00-21:00",
          "xref": "x",
          "y0": 0,
          "y1": 1,
          "yref": "y domain"
         },
         {
          "fillcolor": "red",
          "line": {
           "width": 20
          },
          "opacity": 0.2,
          "type": "rect",
          "x0": "20:00-21:00",
          "x1": "20:00-21:00",
          "xref": "x2",
          "y0": 0,
          "y1": 1,
          "yref": "y2 domain"
         },
         {
          "fillcolor": "red",
          "line": {
           "width": 20
          },
          "opacity": 0.2,
          "type": "rect",
          "x0": "21:00-22:00",
          "x1": "21:00-22:00",
          "xref": "x",
          "y0": 0,
          "y1": 1,
          "yref": "y domain"
         },
         {
          "fillcolor": "red",
          "line": {
           "width": 20
          },
          "opacity": 0.2,
          "type": "rect",
          "x0": "21:00-22:00",
          "x1": "21:00-22:00",
          "xref": "x2",
          "y0": 0,
          "y1": 1,
          "yref": "y2 domain"
         },
         {
          "fillcolor": "red",
          "line": {
           "width": 20
          },
          "opacity": 0.2,
          "type": "rect",
          "x0": "12:00-13:00",
          "x1": "12:00-13:00",
          "xref": "x",
          "y0": 0,
          "y1": 1,
          "yref": "y domain"
         },
         {
          "fillcolor": "red",
          "line": {
           "width": 20
          },
          "opacity": 0.2,
          "type": "rect",
          "x0": "12:00-13:00",
          "x1": "12:00-13:00",
          "xref": "x2",
          "y0": 0,
          "y1": 1,
          "yref": "y2 domain"
         },
         {
          "fillcolor": "red",
          "line": {
           "width": 20
          },
          "opacity": 0.2,
          "type": "rect",
          "x0": "12:00-13:00",
          "x1": "12:00-13:00",
          "xref": "x3",
          "y0": 0,
          "y1": 1,
          "yref": "y3 domain"
         },
         {
          "fillcolor": "red",
          "line": {
           "width": 20
          },
          "opacity": 0.2,
          "type": "rect",
          "x0": "12:00-13:00",
          "x1": "12:00-13:00",
          "xref": "x4",
          "y0": 0,
          "y1": 1,
          "yref": "y4 domain"
         },
         {
          "fillcolor": "red",
          "line": {
           "width": 20
          },
          "opacity": 0.2,
          "type": "rect",
          "x0": "12:00-13:00",
          "x1": "12:00-13:00",
          "xref": "x5",
          "y0": 0,
          "y1": 1,
          "yref": "y5 domain"
         },
         {
          "fillcolor": "red",
          "line": {
           "width": 20
          },
          "opacity": 0.2,
          "type": "rect",
          "x0": "12:00-13:00",
          "x1": "12:00-13:00",
          "xref": "x6",
          "y0": 0,
          "y1": 1,
          "yref": "y6 domain"
         },
         {
          "fillcolor": "red",
          "line": {
           "width": 20
          },
          "opacity": 0.2,
          "type": "rect",
          "x0": "21:00-22:00",
          "x1": "21:00-22:00",
          "xref": "x",
          "y0": 0,
          "y1": 1,
          "yref": "y domain"
         },
         {
          "fillcolor": "red",
          "line": {
           "width": 20
          },
          "opacity": 0.2,
          "type": "rect",
          "x0": "21:00-22:00",
          "x1": "21:00-22:00",
          "xref": "x2",
          "y0": 0,
          "y1": 1,
          "yref": "y2 domain"
         },
         {
          "fillcolor": "red",
          "line": {
           "width": 20
          },
          "opacity": 0.2,
          "type": "rect",
          "x0": "21:00-22:00",
          "x1": "21:00-22:00",
          "xref": "x3",
          "y0": 0,
          "y1": 1,
          "yref": "y3 domain"
         },
         {
          "fillcolor": "red",
          "line": {
           "width": 20
          },
          "opacity": 0.2,
          "type": "rect",
          "x0": "21:00-22:00",
          "x1": "21:00-22:00",
          "xref": "x4",
          "y0": 0,
          "y1": 1,
          "yref": "y4 domain"
         },
         {
          "fillcolor": "red",
          "line": {
           "width": 20
          },
          "opacity": 0.2,
          "type": "rect",
          "x0": "21:00-22:00",
          "x1": "21:00-22:00",
          "xref": "x5",
          "y0": 0,
          "y1": 1,
          "yref": "y5 domain"
         },
         {
          "fillcolor": "red",
          "line": {
           "width": 20
          },
          "opacity": 0.2,
          "type": "rect",
          "x0": "21:00-22:00",
          "x1": "21:00-22:00",
          "xref": "x6",
          "y0": 0,
          "y1": 1,
          "yref": "y6 domain"
         }
        ],
        "template": {
         "data": {
          "bar": [
           {
            "error_x": {
             "color": "#2a3f5f"
            },
            "error_y": {
             "color": "#2a3f5f"
            },
            "marker": {
             "line": {
              "color": "#E5ECF6",
              "width": 0.5
             },
             "pattern": {
              "fillmode": "overlay",
              "size": 10,
              "solidity": 0.2
             }
            },
            "type": "bar"
           }
          ],
          "barpolar": [
           {
            "marker": {
             "line": {
              "color": "#E5ECF6",
              "width": 0.5
             },
             "pattern": {
              "fillmode": "overlay",
              "size": 10,
              "solidity": 0.2
             }
            },
            "type": "barpolar"
           }
          ],
          "carpet": [
           {
            "aaxis": {
             "endlinecolor": "#2a3f5f",
             "gridcolor": "white",
             "linecolor": "white",
             "minorgridcolor": "white",
             "startlinecolor": "#2a3f5f"
            },
            "baxis": {
             "endlinecolor": "#2a3f5f",
             "gridcolor": "white",
             "linecolor": "white",
             "minorgridcolor": "white",
             "startlinecolor": "#2a3f5f"
            },
            "type": "carpet"
           }
          ],
          "choropleth": [
           {
            "colorbar": {
             "outlinewidth": 0,
             "ticks": ""
            },
            "type": "choropleth"
           }
          ],
          "contour": [
           {
            "colorbar": {
             "outlinewidth": 0,
             "ticks": ""
            },
            "colorscale": [
             [
              0,
              "#0d0887"
             ],
             [
              0.1111111111111111,
              "#46039f"
             ],
             [
              0.2222222222222222,
              "#7201a8"
             ],
             [
              0.3333333333333333,
              "#9c179e"
             ],
             [
              0.4444444444444444,
              "#bd3786"
             ],
             [
              0.5555555555555556,
              "#d8576b"
             ],
             [
              0.6666666666666666,
              "#ed7953"
             ],
             [
              0.7777777777777778,
              "#fb9f3a"
             ],
             [
              0.8888888888888888,
              "#fdca26"
             ],
             [
              1,
              "#f0f921"
             ]
            ],
            "type": "contour"
           }
          ],
          "contourcarpet": [
           {
            "colorbar": {
             "outlinewidth": 0,
             "ticks": ""
            },
            "type": "contourcarpet"
           }
          ],
          "heatmap": [
           {
            "colorbar": {
             "outlinewidth": 0,
             "ticks": ""
            },
            "colorscale": [
             [
              0,
              "#0d0887"
             ],
             [
              0.1111111111111111,
              "#46039f"
             ],
             [
              0.2222222222222222,
              "#7201a8"
             ],
             [
              0.3333333333333333,
              "#9c179e"
             ],
             [
              0.4444444444444444,
              "#bd3786"
             ],
             [
              0.5555555555555556,
              "#d8576b"
             ],
             [
              0.6666666666666666,
              "#ed7953"
             ],
             [
              0.7777777777777778,
              "#fb9f3a"
             ],
             [
              0.8888888888888888,
              "#fdca26"
             ],
             [
              1,
              "#f0f921"
             ]
            ],
            "type": "heatmap"
           }
          ],
          "heatmapgl": [
           {
            "colorbar": {
             "outlinewidth": 0,
             "ticks": ""
            },
            "colorscale": [
             [
              0,
              "#0d0887"
             ],
             [
              0.1111111111111111,
              "#46039f"
             ],
             [
              0.2222222222222222,
              "#7201a8"
             ],
             [
              0.3333333333333333,
              "#9c179e"
             ],
             [
              0.4444444444444444,
              "#bd3786"
             ],
             [
              0.5555555555555556,
              "#d8576b"
             ],
             [
              0.6666666666666666,
              "#ed7953"
             ],
             [
              0.7777777777777778,
              "#fb9f3a"
             ],
             [
              0.8888888888888888,
              "#fdca26"
             ],
             [
              1,
              "#f0f921"
             ]
            ],
            "type": "heatmapgl"
           }
          ],
          "histogram": [
           {
            "marker": {
             "pattern": {
              "fillmode": "overlay",
              "size": 10,
              "solidity": 0.2
             }
            },
            "type": "histogram"
           }
          ],
          "histogram2d": [
           {
            "colorbar": {
             "outlinewidth": 0,
             "ticks": ""
            },
            "colorscale": [
             [
              0,
              "#0d0887"
             ],
             [
              0.1111111111111111,
              "#46039f"
             ],
             [
              0.2222222222222222,
              "#7201a8"
             ],
             [
              0.3333333333333333,
              "#9c179e"
             ],
             [
              0.4444444444444444,
              "#bd3786"
             ],
             [
              0.5555555555555556,
              "#d8576b"
             ],
             [
              0.6666666666666666,
              "#ed7953"
             ],
             [
              0.7777777777777778,
              "#fb9f3a"
             ],
             [
              0.8888888888888888,
              "#fdca26"
             ],
             [
              1,
              "#f0f921"
             ]
            ],
            "type": "histogram2d"
           }
          ],
          "histogram2dcontour": [
           {
            "colorbar": {
             "outlinewidth": 0,
             "ticks": ""
            },
            "colorscale": [
             [
              0,
              "#0d0887"
             ],
             [
              0.1111111111111111,
              "#46039f"
             ],
             [
              0.2222222222222222,
              "#7201a8"
             ],
             [
              0.3333333333333333,
              "#9c179e"
             ],
             [
              0.4444444444444444,
              "#bd3786"
             ],
             [
              0.5555555555555556,
              "#d8576b"
             ],
             [
              0.6666666666666666,
              "#ed7953"
             ],
             [
              0.7777777777777778,
              "#fb9f3a"
             ],
             [
              0.8888888888888888,
              "#fdca26"
             ],
             [
              1,
              "#f0f921"
             ]
            ],
            "type": "histogram2dcontour"
           }
          ],
          "mesh3d": [
           {
            "colorbar": {
             "outlinewidth": 0,
             "ticks": ""
            },
            "type": "mesh3d"
           }
          ],
          "parcoords": [
           {
            "line": {
             "colorbar": {
              "outlinewidth": 0,
              "ticks": ""
             }
            },
            "type": "parcoords"
           }
          ],
          "pie": [
           {
            "automargin": true,
            "type": "pie"
           }
          ],
          "scatter": [
           {
            "marker": {
             "colorbar": {
              "outlinewidth": 0,
              "ticks": ""
             }
            },
            "type": "scatter"
           }
          ],
          "scatter3d": [
           {
            "line": {
             "colorbar": {
              "outlinewidth": 0,
              "ticks": ""
             }
            },
            "marker": {
             "colorbar": {
              "outlinewidth": 0,
              "ticks": ""
             }
            },
            "type": "scatter3d"
           }
          ],
          "scattercarpet": [
           {
            "marker": {
             "colorbar": {
              "outlinewidth": 0,
              "ticks": ""
             }
            },
            "type": "scattercarpet"
           }
          ],
          "scattergeo": [
           {
            "marker": {
             "colorbar": {
              "outlinewidth": 0,
              "ticks": ""
             }
            },
            "type": "scattergeo"
           }
          ],
          "scattergl": [
           {
            "marker": {
             "colorbar": {
              "outlinewidth": 0,
              "ticks": ""
             }
            },
            "type": "scattergl"
           }
          ],
          "scattermapbox": [
           {
            "marker": {
             "colorbar": {
              "outlinewidth": 0,
              "ticks": ""
             }
            },
            "type": "scattermapbox"
           }
          ],
          "scatterpolar": [
           {
            "marker": {
             "colorbar": {
              "outlinewidth": 0,
              "ticks": ""
             }
            },
            "type": "scatterpolar"
           }
          ],
          "scatterpolargl": [
           {
            "marker": {
             "colorbar": {
              "outlinewidth": 0,
              "ticks": ""
             }
            },
            "type": "scatterpolargl"
           }
          ],
          "scatterternary": [
           {
            "marker": {
             "colorbar": {
              "outlinewidth": 0,
              "ticks": ""
             }
            },
            "type": "scatterternary"
           }
          ],
          "surface": [
           {
            "colorbar": {
             "outlinewidth": 0,
             "ticks": ""
            },
            "colorscale": [
             [
              0,
              "#0d0887"
             ],
             [
              0.1111111111111111,
              "#46039f"
             ],
             [
              0.2222222222222222,
              "#7201a8"
             ],
             [
              0.3333333333333333,
              "#9c179e"
             ],
             [
              0.4444444444444444,
              "#bd3786"
             ],
             [
              0.5555555555555556,
              "#d8576b"
             ],
             [
              0.6666666666666666,
              "#ed7953"
             ],
             [
              0.7777777777777778,
              "#fb9f3a"
             ],
             [
              0.8888888888888888,
              "#fdca26"
             ],
             [
              1,
              "#f0f921"
             ]
            ],
            "type": "surface"
           }
          ],
          "table": [
           {
            "cells": {
             "fill": {
              "color": "#EBF0F8"
             },
             "line": {
              "color": "white"
             }
            },
            "header": {
             "fill": {
              "color": "#C8D4E3"
             },
             "line": {
              "color": "white"
             }
            },
            "type": "table"
           }
          ]
         },
         "layout": {
          "annotationdefaults": {
           "arrowcolor": "#2a3f5f",
           "arrowhead": 0,
           "arrowwidth": 1
          },
          "autotypenumbers": "strict",
          "coloraxis": {
           "colorbar": {
            "outlinewidth": 0,
            "ticks": ""
           }
          },
          "colorscale": {
           "diverging": [
            [
             0,
             "#8e0152"
            ],
            [
             0.1,
             "#c51b7d"
            ],
            [
             0.2,
             "#de77ae"
            ],
            [
             0.3,
             "#f1b6da"
            ],
            [
             0.4,
             "#fde0ef"
            ],
            [
             0.5,
             "#f7f7f7"
            ],
            [
             0.6,
             "#e6f5d0"
            ],
            [
             0.7,
             "#b8e186"
            ],
            [
             0.8,
             "#7fbc41"
            ],
            [
             0.9,
             "#4d9221"
            ],
            [
             1,
             "#276419"
            ]
           ],
           "sequential": [
            [
             0,
             "#0d0887"
            ],
            [
             0.1111111111111111,
             "#46039f"
            ],
            [
             0.2222222222222222,
             "#7201a8"
            ],
            [
             0.3333333333333333,
             "#9c179e"
            ],
            [
             0.4444444444444444,
             "#bd3786"
            ],
            [
             0.5555555555555556,
             "#d8576b"
            ],
            [
             0.6666666666666666,
             "#ed7953"
            ],
            [
             0.7777777777777778,
             "#fb9f3a"
            ],
            [
             0.8888888888888888,
             "#fdca26"
            ],
            [
             1,
             "#f0f921"
            ]
           ],
           "sequentialminus": [
            [
             0,
             "#0d0887"
            ],
            [
             0.1111111111111111,
             "#46039f"
            ],
            [
             0.2222222222222222,
             "#7201a8"
            ],
            [
             0.3333333333333333,
             "#9c179e"
            ],
            [
             0.4444444444444444,
             "#bd3786"
            ],
            [
             0.5555555555555556,
             "#d8576b"
            ],
            [
             0.6666666666666666,
             "#ed7953"
            ],
            [
             0.7777777777777778,
             "#fb9f3a"
            ],
            [
             0.8888888888888888,
             "#fdca26"
            ],
            [
             1,
             "#f0f921"
            ]
           ]
          },
          "colorway": [
           "#636efa",
           "#EF553B",
           "#00cc96",
           "#ab63fa",
           "#FFA15A",
           "#19d3f3",
           "#FF6692",
           "#B6E880",
           "#FF97FF",
           "#FECB52"
          ],
          "font": {
           "color": "#2a3f5f"
          },
          "geo": {
           "bgcolor": "white",
           "lakecolor": "white",
           "landcolor": "#E5ECF6",
           "showlakes": true,
           "showland": true,
           "subunitcolor": "white"
          },
          "hoverlabel": {
           "align": "left"
          },
          "hovermode": "closest",
          "mapbox": {
           "style": "light"
          },
          "paper_bgcolor": "white",
          "plot_bgcolor": "#E5ECF6",
          "polar": {
           "angularaxis": {
            "gridcolor": "white",
            "linecolor": "white",
            "ticks": ""
           },
           "bgcolor": "#E5ECF6",
           "radialaxis": {
            "gridcolor": "white",
            "linecolor": "white",
            "ticks": ""
           }
          },
          "scene": {
           "xaxis": {
            "backgroundcolor": "#E5ECF6",
            "gridcolor": "white",
            "gridwidth": 2,
            "linecolor": "white",
            "showbackground": true,
            "ticks": "",
            "zerolinecolor": "white"
           },
           "yaxis": {
            "backgroundcolor": "#E5ECF6",
            "gridcolor": "white",
            "gridwidth": 2,
            "linecolor": "white",
            "showbackground": true,
            "ticks": "",
            "zerolinecolor": "white"
           },
           "zaxis": {
            "backgroundcolor": "#E5ECF6",
            "gridcolor": "white",
            "gridwidth": 2,
            "linecolor": "white",
            "showbackground": true,
            "ticks": "",
            "zerolinecolor": "white"
           }
          },
          "shapedefaults": {
           "line": {
            "color": "#2a3f5f"
           }
          },
          "ternary": {
           "aaxis": {
            "gridcolor": "white",
            "linecolor": "white",
            "ticks": ""
           },
           "baxis": {
            "gridcolor": "white",
            "linecolor": "white",
            "ticks": ""
           },
           "bgcolor": "#E5ECF6",
           "caxis": {
            "gridcolor": "white",
            "linecolor": "white",
            "ticks": ""
           }
          },
          "title": {
           "x": 0.05
          },
          "xaxis": {
           "automargin": true,
           "gridcolor": "white",
           "linecolor": "white",
           "ticks": "",
           "title": {
            "standoff": 15
           },
           "zerolinecolor": "white",
           "zerolinewidth": 2
          },
          "yaxis": {
           "automargin": true,
           "gridcolor": "white",
           "linecolor": "white",
           "ticks": "",
           "title": {
            "standoff": 15
           },
           "zerolinecolor": "white",
           "zerolinewidth": 2
          }
         }
        },
        "title": {
         "text": "Stacked Subplots"
        },
        "xaxis": {
         "anchor": "y",
         "domain": [
          0,
          1
         ],
         "matches": "x7",
         "showticklabels": false
        },
        "xaxis2": {
         "anchor": "y2",
         "domain": [
          0,
          1
         ],
         "matches": "x7",
         "showticklabels": false
        },
        "xaxis3": {
         "anchor": "y3",
         "domain": [
          0,
          1
         ],
         "matches": "x7",
         "showticklabels": false
        },
        "xaxis4": {
         "anchor": "y4",
         "domain": [
          0,
          1
         ],
         "matches": "x7",
         "showticklabels": false
        },
        "xaxis5": {
         "anchor": "y5",
         "domain": [
          0,
          1
         ],
         "matches": "x7",
         "showticklabels": false
        },
        "xaxis6": {
         "anchor": "y6",
         "domain": [
          0,
          1
         ],
         "matches": "x7",
         "showticklabels": false
        },
        "xaxis7": {
         "anchor": "y7",
         "domain": [
          0,
          1
         ]
        },
        "yaxis": {
         "anchor": "x",
         "domain": [
          0.8938775510204082,
          1
         ],
         "showgrid": false
        },
        "yaxis2": {
         "anchor": "x2",
         "domain": [
          0.7448979591836735,
          0.8510204081632654
         ],
         "showgrid": false
        },
        "yaxis3": {
         "anchor": "x3",
         "domain": [
          0.5959183673469388,
          0.7020408163265307
         ],
         "showgrid": false
        },
        "yaxis4": {
         "anchor": "x4",
         "domain": [
          0.4469387755102041,
          0.553061224489796
         ],
         "showgrid": false
        },
        "yaxis5": {
         "anchor": "x5",
         "domain": [
          0.2979591836734694,
          0.40408163265306124
         ],
         "showgrid": false
        },
        "yaxis6": {
         "anchor": "x6",
         "domain": [
          0.1489795918367347,
          0.25510204081632654
         ],
         "showgrid": false
        },
        "yaxis7": {
         "anchor": "x7",
         "domain": [
          0,
          0.10612244897959185
         ],
         "showgrid": false
        }
       }
      }
     },
     "metadata": {},
     "output_type": "display_data"
    }
   ],
   "source": [
    "from plotly.subplots import make_subplots\n",
    "\n",
    "fig = make_subplots(rows=7, cols=1, shared_xaxes=True)\n",
    "days = ['Monday', 'Tuesday', 'Wednesday', 'Thursday', 'Friday', 'Saturday', 'Sunday']\n",
    "\n",
    "for i in range(7):\n",
    "    df = df_rigdeplot[(df_rigdeplot.day == days[i])]\n",
    "    fig.add_trace(go.Scatter(x=df['hour_period'].astype(dtype=str), \n",
    "                             y=df['duration_min'], fill='tozeroy',  name=days[i]),\n",
    "                row=i+1, col=1)\n",
    "\n",
    "    for j in range(df.shape[0]):\n",
    "        period = df.iloc[j].hour_period\n",
    "        duration = df.iloc[j].duration_min\n",
    "        extreme_dur = extreme[(extreme.day == days[i]) & (extreme.hour_period == period)]['Avg duration'].values\n",
    "\n",
    "        if len(extreme_dur) > 0:\n",
    "            extreme_dur = extreme_dur[0]\n",
    "\n",
    "            if extreme_dur > 5:\n",
    "\n",
    "                if duration >= extreme_dur:\n",
    "                    x0 = df.iloc[j]['hour_period']\n",
    "\n",
    "                    fig.add_vrect(\n",
    "                        x0=x0, x1=x0,\n",
    "                        fillcolor=\"red\", opacity=0.2, line_width=20,\n",
    "                    ),\n",
    "\n",
    "fig.update_layout(height=1000, title_text=\"Stacked Subplots\")\n",
    "fig.for_each_yaxis(lambda x: x.update(showgrid=False))\n",
    "fig.show()\n"
   ]
  },
  {
   "cell_type": "code",
   "execution_count": 126,
   "metadata": {},
   "outputs": [
    {
     "data": {
      "text/plain": [
       "array([], dtype=float64)"
      ]
     },
     "execution_count": 126,
     "metadata": {},
     "output_type": "execute_result"
    }
   ],
   "source": [
    "extreme"
   ]
  },
  {
   "cell_type": "code",
   "execution_count": null,
   "metadata": {},
   "outputs": [],
   "source": []
  }
 ],
 "metadata": {
  "kernelspec": {
   "display_name": "Python 3",
   "language": "python",
   "name": "python3"
  },
  "language_info": {
   "codemirror_mode": {
    "name": "ipython",
    "version": 3
   },
   "file_extension": ".py",
   "mimetype": "text/x-python",
   "name": "python",
   "nbconvert_exporter": "python",
   "pygments_lexer": "ipython3",
   "version": "3.8.8"
  }
 },
 "nbformat": 4,
 "nbformat_minor": 4
}
