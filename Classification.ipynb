{
 "cells": [
  {
   "cell_type": "code",
   "execution_count": 1,
   "metadata": {},
   "outputs": [],
   "source": [
    "import pandas as pd\n",
    "import warnings\n",
    "warnings.filterwarnings(\"ignore\")"
   ]
  },
  {
   "cell_type": "code",
   "execution_count": 2,
   "metadata": {},
   "outputs": [],
   "source": [
    "cats = [\n",
    "    '00:00-01:00', '01:00-02:00', '02:00-03:00', '03:00-04:00', '04:00-05:00','05:00-06:00', '06:00-07:00', '07:00-08:00',\n",
    "    '08:00-09:00', '09:00-10:00', '10:00-11:00','11:00-12:00', '12:00-13:00', '13:00-14:00','14:00-15:00', '15:00-16:00', \n",
    "    '16:00-17:00', '17:00-18:00', '18:00-19:00', '19:00-20:00','20:00-21:00', '21:00-22:00', '22:00-23:00','23:00-24:00'\n",
    "    ]"
   ]
  },
  {
   "cell_type": "code",
   "execution_count": 3,
   "metadata": {},
   "outputs": [],
   "source": [
    "df = pd.read_csv('data/sample_data_hour.csv').drop(columns=['Unnamed: 0'])"
   ]
  },
  {
   "cell_type": "markdown",
   "metadata": {},
   "source": [
    "## Classify sessions"
   ]
  },
  {
   "cell_type": "code",
   "execution_count": 4,
   "metadata": {},
   "outputs": [],
   "source": [
    "df_tmp = df[df['duration_min'] < 30]\n",
    "quantiles = df_tmp['duration_min'].quantile([.33, .66, .99, 1])"
   ]
  },
  {
   "cell_type": "code",
   "execution_count": 5,
   "metadata": {},
   "outputs": [
    {
     "data": {
      "text/html": [
       "<div>\n",
       "<style scoped>\n",
       "    .dataframe tbody tr th:only-of-type {\n",
       "        vertical-align: middle;\n",
       "    }\n",
       "\n",
       "    .dataframe tbody tr th {\n",
       "        vertical-align: top;\n",
       "    }\n",
       "\n",
       "    .dataframe thead th {\n",
       "        text-align: right;\n",
       "    }\n",
       "</style>\n",
       "<table border=\"1\" class=\"dataframe\">\n",
       "  <thead>\n",
       "    <tr style=\"text-align: right;\">\n",
       "      <th></th>\n",
       "      <th>user_id</th>\n",
       "      <th>date</th>\n",
       "      <th>year</th>\n",
       "      <th>month</th>\n",
       "      <th>day</th>\n",
       "      <th>hour</th>\n",
       "      <th>minute</th>\n",
       "      <th>second</th>\n",
       "      <th>hour_period</th>\n",
       "      <th>duration_min</th>\n",
       "      <th>group</th>\n",
       "    </tr>\n",
       "  </thead>\n",
       "  <tbody>\n",
       "    <tr>\n",
       "      <th>0</th>\n",
       "      <td>8953</td>\n",
       "      <td>2016-12-24</td>\n",
       "      <td>2016</td>\n",
       "      <td>Dec</td>\n",
       "      <td>Saturday</td>\n",
       "      <td>6</td>\n",
       "      <td>11</td>\n",
       "      <td>31</td>\n",
       "      <td>06:00-07:00</td>\n",
       "      <td>1.500</td>\n",
       "      <td>high</td>\n",
       "    </tr>\n",
       "    <tr>\n",
       "      <th>1</th>\n",
       "      <td>3633</td>\n",
       "      <td>2017-02-08</td>\n",
       "      <td>2017</td>\n",
       "      <td>Feb</td>\n",
       "      <td>Wednesday</td>\n",
       "      <td>16</td>\n",
       "      <td>22</td>\n",
       "      <td>53</td>\n",
       "      <td>16:00-17:00</td>\n",
       "      <td>0.333</td>\n",
       "      <td>low</td>\n",
       "    </tr>\n",
       "    <tr>\n",
       "      <th>2</th>\n",
       "      <td>3633</td>\n",
       "      <td>2016-12-09</td>\n",
       "      <td>2016</td>\n",
       "      <td>Dec</td>\n",
       "      <td>Friday</td>\n",
       "      <td>17</td>\n",
       "      <td>36</td>\n",
       "      <td>52</td>\n",
       "      <td>17:00-18:00</td>\n",
       "      <td>0.167</td>\n",
       "      <td>low</td>\n",
       "    </tr>\n",
       "    <tr>\n",
       "      <th>3</th>\n",
       "      <td>3633</td>\n",
       "      <td>2018-06-03</td>\n",
       "      <td>2018</td>\n",
       "      <td>Jun</td>\n",
       "      <td>Sunday</td>\n",
       "      <td>21</td>\n",
       "      <td>20</td>\n",
       "      <td>16</td>\n",
       "      <td>21:00-22:00</td>\n",
       "      <td>0.167</td>\n",
       "      <td>low</td>\n",
       "    </tr>\n",
       "    <tr>\n",
       "      <th>4</th>\n",
       "      <td>3633</td>\n",
       "      <td>2016-09-16</td>\n",
       "      <td>2016</td>\n",
       "      <td>Sep</td>\n",
       "      <td>Friday</td>\n",
       "      <td>9</td>\n",
       "      <td>16</td>\n",
       "      <td>39</td>\n",
       "      <td>09:00-10:00</td>\n",
       "      <td>0.167</td>\n",
       "      <td>low</td>\n",
       "    </tr>\n",
       "    <tr>\n",
       "      <th>5</th>\n",
       "      <td>3633</td>\n",
       "      <td>2018-08-16</td>\n",
       "      <td>2018</td>\n",
       "      <td>Aug</td>\n",
       "      <td>Thursday</td>\n",
       "      <td>22</td>\n",
       "      <td>25</td>\n",
       "      <td>49</td>\n",
       "      <td>22:00-23:00</td>\n",
       "      <td>1.167</td>\n",
       "      <td>mid</td>\n",
       "    </tr>\n",
       "    <tr>\n",
       "      <th>6</th>\n",
       "      <td>3633</td>\n",
       "      <td>2016-08-06</td>\n",
       "      <td>2016</td>\n",
       "      <td>Aug</td>\n",
       "      <td>Saturday</td>\n",
       "      <td>13</td>\n",
       "      <td>0</td>\n",
       "      <td>21</td>\n",
       "      <td>13:00-14:00</td>\n",
       "      <td>0.667</td>\n",
       "      <td>mid</td>\n",
       "    </tr>\n",
       "    <tr>\n",
       "      <th>7</th>\n",
       "      <td>3633</td>\n",
       "      <td>2017-04-13</td>\n",
       "      <td>2017</td>\n",
       "      <td>Apr</td>\n",
       "      <td>Thursday</td>\n",
       "      <td>14</td>\n",
       "      <td>6</td>\n",
       "      <td>17</td>\n",
       "      <td>14:00-15:00</td>\n",
       "      <td>1.667</td>\n",
       "      <td>high</td>\n",
       "    </tr>\n",
       "    <tr>\n",
       "      <th>8</th>\n",
       "      <td>3633</td>\n",
       "      <td>2018-04-01</td>\n",
       "      <td>2018</td>\n",
       "      <td>Apr</td>\n",
       "      <td>Sunday</td>\n",
       "      <td>14</td>\n",
       "      <td>35</td>\n",
       "      <td>26</td>\n",
       "      <td>14:00-15:00</td>\n",
       "      <td>1.167</td>\n",
       "      <td>mid</td>\n",
       "    </tr>\n",
       "    <tr>\n",
       "      <th>9</th>\n",
       "      <td>3633</td>\n",
       "      <td>2017-11-04</td>\n",
       "      <td>2017</td>\n",
       "      <td>Nov</td>\n",
       "      <td>Saturday</td>\n",
       "      <td>14</td>\n",
       "      <td>39</td>\n",
       "      <td>36</td>\n",
       "      <td>14:00-15:00</td>\n",
       "      <td>0.167</td>\n",
       "      <td>low</td>\n",
       "    </tr>\n",
       "  </tbody>\n",
       "</table>\n",
       "</div>"
      ],
      "text/plain": [
       "   user_id        date  year month        day  hour  minute  second  \\\n",
       "0     8953  2016-12-24  2016   Dec   Saturday     6      11      31   \n",
       "1     3633  2017-02-08  2017   Feb  Wednesday    16      22      53   \n",
       "2     3633  2016-12-09  2016   Dec     Friday    17      36      52   \n",
       "3     3633  2018-06-03  2018   Jun     Sunday    21      20      16   \n",
       "4     3633  2016-09-16  2016   Sep     Friday     9      16      39   \n",
       "5     3633  2018-08-16  2018   Aug   Thursday    22      25      49   \n",
       "6     3633  2016-08-06  2016   Aug   Saturday    13       0      21   \n",
       "7     3633  2017-04-13  2017   Apr   Thursday    14       6      17   \n",
       "8     3633  2018-04-01  2018   Apr     Sunday    14      35      26   \n",
       "9     3633  2017-11-04  2017   Nov   Saturday    14      39      36   \n",
       "\n",
       "   hour_period  duration_min group  \n",
       "0  06:00-07:00         1.500  high  \n",
       "1  16:00-17:00         0.333   low  \n",
       "2  17:00-18:00         0.167   low  \n",
       "3  21:00-22:00         0.167   low  \n",
       "4  09:00-10:00         0.167   low  \n",
       "5  22:00-23:00         1.167   mid  \n",
       "6  13:00-14:00         0.667   mid  \n",
       "7  14:00-15:00         1.667  high  \n",
       "8  14:00-15:00         1.167   mid  \n",
       "9  14:00-15:00         0.167   low  "
      ]
     },
     "execution_count": 5,
     "metadata": {},
     "output_type": "execute_result"
    }
   ],
   "source": [
    "#labeling of groups\n",
    "df_tmp['group'] = 'high'\n",
    "df_tmp['group'][df_tmp['duration_min'] <= quantiles[.99]] = 'high'\n",
    "df_tmp['group'][df_tmp['duration_min'] <= quantiles[.66]] = 'mid'\n",
    "df_tmp['group'][df_tmp['duration_min'] <= quantiles[.33]] = 'low'      \n",
    "df_tmp.head(10)"
   ]
  },
  {
   "cell_type": "markdown",
   "metadata": {},
   "source": [
    "## Filter 'high' sessions"
   ]
  },
  {
   "cell_type": "code",
   "execution_count": 6,
   "metadata": {},
   "outputs": [],
   "source": [
    "high = df_tmp[df_tmp.group == 'high']"
   ]
  },
  {
   "cell_type": "code",
   "execution_count": 7,
   "metadata": {},
   "outputs": [],
   "source": [
    "high = high.groupby(['hour_period', 'day'])['duration_min'].mean().reset_index(name='Avg duration')"
   ]
  },
  {
   "cell_type": "code",
   "execution_count": 8,
   "metadata": {},
   "outputs": [
    {
     "data": {
      "text/html": [
       "<div>\n",
       "<style scoped>\n",
       "    .dataframe tbody tr th:only-of-type {\n",
       "        vertical-align: middle;\n",
       "    }\n",
       "\n",
       "    .dataframe tbody tr th {\n",
       "        vertical-align: top;\n",
       "    }\n",
       "\n",
       "    .dataframe thead th {\n",
       "        text-align: right;\n",
       "    }\n",
       "</style>\n",
       "<table border=\"1\" class=\"dataframe\">\n",
       "  <thead>\n",
       "    <tr style=\"text-align: right;\">\n",
       "      <th></th>\n",
       "      <th>hour_period</th>\n",
       "      <th>day</th>\n",
       "      <th>Avg duration</th>\n",
       "    </tr>\n",
       "  </thead>\n",
       "  <tbody>\n",
       "    <tr>\n",
       "      <th>0</th>\n",
       "      <td>00:00-01:00</td>\n",
       "      <td>Friday</td>\n",
       "      <td>3.676600</td>\n",
       "    </tr>\n",
       "    <tr>\n",
       "      <th>1</th>\n",
       "      <td>01:00-02:00</td>\n",
       "      <td>Friday</td>\n",
       "      <td>2.867000</td>\n",
       "    </tr>\n",
       "    <tr>\n",
       "      <th>2</th>\n",
       "      <td>02:00-03:00</td>\n",
       "      <td>Friday</td>\n",
       "      <td>0.000000</td>\n",
       "    </tr>\n",
       "    <tr>\n",
       "      <th>3</th>\n",
       "      <td>03:00-04:00</td>\n",
       "      <td>Friday</td>\n",
       "      <td>7.388833</td>\n",
       "    </tr>\n",
       "    <tr>\n",
       "      <th>4</th>\n",
       "      <td>04:00-05:00</td>\n",
       "      <td>Friday</td>\n",
       "      <td>5.265600</td>\n",
       "    </tr>\n",
       "    <tr>\n",
       "      <th>...</th>\n",
       "      <td>...</td>\n",
       "      <td>...</td>\n",
       "      <td>...</td>\n",
       "    </tr>\n",
       "    <tr>\n",
       "      <th>163</th>\n",
       "      <td>19:00-20:00</td>\n",
       "      <td>Wednesday</td>\n",
       "      <td>3.003108</td>\n",
       "    </tr>\n",
       "    <tr>\n",
       "      <th>164</th>\n",
       "      <td>20:00-21:00</td>\n",
       "      <td>Wednesday</td>\n",
       "      <td>4.943944</td>\n",
       "    </tr>\n",
       "    <tr>\n",
       "      <th>165</th>\n",
       "      <td>21:00-22:00</td>\n",
       "      <td>Wednesday</td>\n",
       "      <td>3.292133</td>\n",
       "    </tr>\n",
       "    <tr>\n",
       "      <th>166</th>\n",
       "      <td>22:00-23:00</td>\n",
       "      <td>Wednesday</td>\n",
       "      <td>5.269687</td>\n",
       "    </tr>\n",
       "    <tr>\n",
       "      <th>167</th>\n",
       "      <td>23:00-24:00</td>\n",
       "      <td>Wednesday</td>\n",
       "      <td>3.338833</td>\n",
       "    </tr>\n",
       "  </tbody>\n",
       "</table>\n",
       "<p>168 rows × 3 columns</p>\n",
       "</div>"
      ],
      "text/plain": [
       "     hour_period        day  Avg duration\n",
       "0    00:00-01:00     Friday      3.676600\n",
       "1    01:00-02:00     Friday      2.867000\n",
       "2    02:00-03:00     Friday      0.000000\n",
       "3    03:00-04:00     Friday      7.388833\n",
       "4    04:00-05:00     Friday      5.265600\n",
       "..           ...        ...           ...\n",
       "163  19:00-20:00  Wednesday      3.003108\n",
       "164  20:00-21:00  Wednesday      4.943944\n",
       "165  21:00-22:00  Wednesday      3.292133\n",
       "166  22:00-23:00  Wednesday      5.269687\n",
       "167  23:00-24:00  Wednesday      3.338833\n",
       "\n",
       "[168 rows x 3 columns]"
      ]
     },
     "execution_count": 8,
     "metadata": {},
     "output_type": "execute_result"
    }
   ],
   "source": [
    "all_hours = pd.DataFrame(cats, columns=['hour_period'])\n",
    "\n",
    "all_hours_daily_df = \\\n",
    "  pd.merge(high[['day']].drop_duplicates(),\n",
    "           all_hours[['hour_period']].drop_duplicates(),\n",
    "           how = 'cross')\n",
    "\n",
    "high = \\\n",
    "  high.\\\n",
    "  merge(all_hours_daily_df,\n",
    "  how='right').\\\n",
    "  fillna({'Avg duration': 0}).\\\n",
    "  reset_index(drop = True)\n",
    "\n",
    "high"
   ]
  },
  {
   "cell_type": "code",
   "execution_count": 9,
   "metadata": {},
   "outputs": [],
   "source": [
    "high.to_csv('data/high_group.csv')"
   ]
  },
  {
   "cell_type": "markdown",
   "metadata": {},
   "source": [
    "## Plot"
   ]
  },
  {
   "cell_type": "code",
   "execution_count": 134,
   "metadata": {},
   "outputs": [
    {
     "data": {
      "text/html": [
       "<div>\n",
       "<style scoped>\n",
       "    .dataframe tbody tr th:only-of-type {\n",
       "        vertical-align: middle;\n",
       "    }\n",
       "\n",
       "    .dataframe tbody tr th {\n",
       "        vertical-align: top;\n",
       "    }\n",
       "\n",
       "    .dataframe thead th {\n",
       "        text-align: right;\n",
       "    }\n",
       "</style>\n",
       "<table border=\"1\" class=\"dataframe\">\n",
       "  <thead>\n",
       "    <tr style=\"text-align: right;\">\n",
       "      <th></th>\n",
       "      <th>user_id</th>\n",
       "      <th>date</th>\n",
       "      <th>year</th>\n",
       "      <th>month</th>\n",
       "      <th>day</th>\n",
       "      <th>hour</th>\n",
       "      <th>minute</th>\n",
       "      <th>second</th>\n",
       "      <th>hour_period</th>\n",
       "      <th>duration_min</th>\n",
       "    </tr>\n",
       "  </thead>\n",
       "  <tbody>\n",
       "    <tr>\n",
       "      <th>0</th>\n",
       "      <td>389</td>\n",
       "      <td>2017-06-03</td>\n",
       "      <td>2017</td>\n",
       "      <td>Jun</td>\n",
       "      <td>Saturday</td>\n",
       "      <td>23</td>\n",
       "      <td>6</td>\n",
       "      <td>58</td>\n",
       "      <td>23:00-24:00</td>\n",
       "      <td>0.333</td>\n",
       "    </tr>\n",
       "    <tr>\n",
       "      <th>1</th>\n",
       "      <td>389</td>\n",
       "      <td>2017-06-04</td>\n",
       "      <td>2017</td>\n",
       "      <td>Jun</td>\n",
       "      <td>Sunday</td>\n",
       "      <td>12</td>\n",
       "      <td>7</td>\n",
       "      <td>18</td>\n",
       "      <td>12:00-13:00</td>\n",
       "      <td>0.167</td>\n",
       "    </tr>\n",
       "    <tr>\n",
       "      <th>2</th>\n",
       "      <td>389</td>\n",
       "      <td>2017-06-04</td>\n",
       "      <td>2017</td>\n",
       "      <td>Jun</td>\n",
       "      <td>Sunday</td>\n",
       "      <td>13</td>\n",
       "      <td>45</td>\n",
       "      <td>51</td>\n",
       "      <td>13:00-14:00</td>\n",
       "      <td>0.167</td>\n",
       "    </tr>\n",
       "    <tr>\n",
       "      <th>3</th>\n",
       "      <td>389</td>\n",
       "      <td>2017-06-04</td>\n",
       "      <td>2017</td>\n",
       "      <td>Jun</td>\n",
       "      <td>Sunday</td>\n",
       "      <td>14</td>\n",
       "      <td>9</td>\n",
       "      <td>11</td>\n",
       "      <td>14:00-15:00</td>\n",
       "      <td>0.667</td>\n",
       "    </tr>\n",
       "    <tr>\n",
       "      <th>4</th>\n",
       "      <td>389</td>\n",
       "      <td>2017-06-04</td>\n",
       "      <td>2017</td>\n",
       "      <td>Jun</td>\n",
       "      <td>Sunday</td>\n",
       "      <td>15</td>\n",
       "      <td>53</td>\n",
       "      <td>30</td>\n",
       "      <td>15:00-16:00</td>\n",
       "      <td>0.550</td>\n",
       "    </tr>\n",
       "    <tr>\n",
       "      <th>...</th>\n",
       "      <td>...</td>\n",
       "      <td>...</td>\n",
       "      <td>...</td>\n",
       "      <td>...</td>\n",
       "      <td>...</td>\n",
       "      <td>...</td>\n",
       "      <td>...</td>\n",
       "      <td>...</td>\n",
       "      <td>...</td>\n",
       "      <td>...</td>\n",
       "    </tr>\n",
       "    <tr>\n",
       "      <th>1970</th>\n",
       "      <td>389</td>\n",
       "      <td>2018-12-21</td>\n",
       "      <td>2018</td>\n",
       "      <td>Dec</td>\n",
       "      <td>Friday</td>\n",
       "      <td>14</td>\n",
       "      <td>52</td>\n",
       "      <td>25</td>\n",
       "      <td>14:00-15:00</td>\n",
       "      <td>0.167</td>\n",
       "    </tr>\n",
       "    <tr>\n",
       "      <th>1971</th>\n",
       "      <td>389</td>\n",
       "      <td>2018-12-21</td>\n",
       "      <td>2018</td>\n",
       "      <td>Dec</td>\n",
       "      <td>Friday</td>\n",
       "      <td>15</td>\n",
       "      <td>14</td>\n",
       "      <td>1</td>\n",
       "      <td>15:00-16:00</td>\n",
       "      <td>0.500</td>\n",
       "    </tr>\n",
       "    <tr>\n",
       "      <th>1972</th>\n",
       "      <td>389</td>\n",
       "      <td>2018-12-21</td>\n",
       "      <td>2018</td>\n",
       "      <td>Dec</td>\n",
       "      <td>Friday</td>\n",
       "      <td>17</td>\n",
       "      <td>1</td>\n",
       "      <td>16</td>\n",
       "      <td>17:00-18:00</td>\n",
       "      <td>0.500</td>\n",
       "    </tr>\n",
       "    <tr>\n",
       "      <th>1973</th>\n",
       "      <td>389</td>\n",
       "      <td>2018-12-21</td>\n",
       "      <td>2018</td>\n",
       "      <td>Dec</td>\n",
       "      <td>Friday</td>\n",
       "      <td>20</td>\n",
       "      <td>24</td>\n",
       "      <td>13</td>\n",
       "      <td>20:00-21:00</td>\n",
       "      <td>3.683</td>\n",
       "    </tr>\n",
       "    <tr>\n",
       "      <th>1974</th>\n",
       "      <td>389</td>\n",
       "      <td>2018-12-21</td>\n",
       "      <td>2018</td>\n",
       "      <td>Dec</td>\n",
       "      <td>Friday</td>\n",
       "      <td>20</td>\n",
       "      <td>47</td>\n",
       "      <td>55</td>\n",
       "      <td>20:00-21:00</td>\n",
       "      <td>0.333</td>\n",
       "    </tr>\n",
       "  </tbody>\n",
       "</table>\n",
       "<p>1975 rows × 10 columns</p>\n",
       "</div>"
      ],
      "text/plain": [
       "      user_id        date  year month       day  hour  minute  second  \\\n",
       "0         389  2017-06-03  2017   Jun  Saturday    23       6      58   \n",
       "1         389  2017-06-04  2017   Jun    Sunday    12       7      18   \n",
       "2         389  2017-06-04  2017   Jun    Sunday    13      45      51   \n",
       "3         389  2017-06-04  2017   Jun    Sunday    14       9      11   \n",
       "4         389  2017-06-04  2017   Jun    Sunday    15      53      30   \n",
       "...       ...         ...   ...   ...       ...   ...     ...     ...   \n",
       "1970      389  2018-12-21  2018   Dec    Friday    14      52      25   \n",
       "1971      389  2018-12-21  2018   Dec    Friday    15      14       1   \n",
       "1972      389  2018-12-21  2018   Dec    Friday    17       1      16   \n",
       "1973      389  2018-12-21  2018   Dec    Friday    20      24      13   \n",
       "1974      389  2018-12-21  2018   Dec    Friday    20      47      55   \n",
       "\n",
       "      hour_period  duration_min  \n",
       "0     23:00-24:00         0.333  \n",
       "1     12:00-13:00         0.167  \n",
       "2     13:00-14:00         0.167  \n",
       "3     14:00-15:00         0.667  \n",
       "4     15:00-16:00         0.550  \n",
       "...           ...           ...  \n",
       "1970  14:00-15:00         0.167  \n",
       "1971  15:00-16:00         0.500  \n",
       "1972  17:00-18:00         0.500  \n",
       "1973  20:00-21:00         3.683  \n",
       "1974  20:00-21:00         0.333  \n",
       "\n",
       "[1975 rows x 10 columns]"
      ]
     },
     "execution_count": 134,
     "metadata": {},
     "output_type": "execute_result"
    }
   ],
   "source": [
    "df_389 = df[(df.user_id == 389)].sort_values(['date', 'hour_period']).reset_index(drop=True)\n",
    "df_389"
   ]
  },
  {
   "cell_type": "code",
   "execution_count": 135,
   "metadata": {},
   "outputs": [],
   "source": [
    "df_rigdeplot = df_389[['day', 'hour_period','duration_min']]"
   ]
  },
  {
   "cell_type": "code",
   "execution_count": 136,
   "metadata": {},
   "outputs": [],
   "source": [
    "all_hours = pd.DataFrame(cats, columns=['hour_period'])\n",
    "\n",
    "all_hours_daily_df = \\\n",
    "  pd.merge(df_rigdeplot[['day']].drop_duplicates(),\n",
    "           all_hours[['hour_period']].drop_duplicates(),\n",
    "           how = 'cross')\n",
    "\n",
    "df_rigdeplot = \\\n",
    "  df_rigdeplot.\\\n",
    "  merge(all_hours_daily_df,\n",
    "  how='right').\\\n",
    "  fillna({'duration_min': 0}).\\\n",
    "  reset_index(drop = True)"
   ]
  },
  {
   "cell_type": "code",
   "execution_count": 137,
   "metadata": {},
   "outputs": [],
   "source": [
    "days = ['Monday', 'Tuesday', 'Wednesday', 'Thursday', 'Friday', 'Saturday', 'Sunday']\n",
    "\n",
    "df_rigdeplot = df_rigdeplot.groupby(['day', 'hour_period'])['duration_min'].mean().reset_index(name='Avg duration')\n",
    "df_rigdeplot['day'] = pd.Categorical(df_rigdeplot['day'], categories=days, ordered=True)\n",
    "df_rigdeplot.sort_values(['day', 'hour_period'], inplace=True)"
   ]
  },
  {
   "cell_type": "code",
   "execution_count": 138,
   "metadata": {},
   "outputs": [
    {
     "data": {
      "text/html": [
       "<div>\n",
       "<style scoped>\n",
       "    .dataframe tbody tr th:only-of-type {\n",
       "        vertical-align: middle;\n",
       "    }\n",
       "\n",
       "    .dataframe tbody tr th {\n",
       "        vertical-align: top;\n",
       "    }\n",
       "\n",
       "    .dataframe thead th {\n",
       "        text-align: right;\n",
       "    }\n",
       "</style>\n",
       "<table border=\"1\" class=\"dataframe\">\n",
       "  <thead>\n",
       "    <tr style=\"text-align: right;\">\n",
       "      <th></th>\n",
       "      <th>day</th>\n",
       "      <th>hour_period</th>\n",
       "      <th>Avg duration</th>\n",
       "    </tr>\n",
       "  </thead>\n",
       "  <tbody>\n",
       "    <tr>\n",
       "      <th>24</th>\n",
       "      <td>Monday</td>\n",
       "      <td>00:00-01:00</td>\n",
       "      <td>1.229250</td>\n",
       "    </tr>\n",
       "    <tr>\n",
       "      <th>25</th>\n",
       "      <td>Monday</td>\n",
       "      <td>01:00-02:00</td>\n",
       "      <td>0.000000</td>\n",
       "    </tr>\n",
       "    <tr>\n",
       "      <th>26</th>\n",
       "      <td>Monday</td>\n",
       "      <td>02:00-03:00</td>\n",
       "      <td>0.000000</td>\n",
       "    </tr>\n",
       "    <tr>\n",
       "      <th>27</th>\n",
       "      <td>Monday</td>\n",
       "      <td>03:00-04:00</td>\n",
       "      <td>0.176800</td>\n",
       "    </tr>\n",
       "    <tr>\n",
       "      <th>28</th>\n",
       "      <td>Monday</td>\n",
       "      <td>04:00-05:00</td>\n",
       "      <td>0.814625</td>\n",
       "    </tr>\n",
       "    <tr>\n",
       "      <th>...</th>\n",
       "      <td>...</td>\n",
       "      <td>...</td>\n",
       "      <td>...</td>\n",
       "    </tr>\n",
       "    <tr>\n",
       "      <th>91</th>\n",
       "      <td>Sunday</td>\n",
       "      <td>19:00-20:00</td>\n",
       "      <td>0.911250</td>\n",
       "    </tr>\n",
       "    <tr>\n",
       "      <th>92</th>\n",
       "      <td>Sunday</td>\n",
       "      <td>20:00-21:00</td>\n",
       "      <td>1.702267</td>\n",
       "    </tr>\n",
       "    <tr>\n",
       "      <th>93</th>\n",
       "      <td>Sunday</td>\n",
       "      <td>21:00-22:00</td>\n",
       "      <td>1.263765</td>\n",
       "    </tr>\n",
       "    <tr>\n",
       "      <th>94</th>\n",
       "      <td>Sunday</td>\n",
       "      <td>22:00-23:00</td>\n",
       "      <td>2.753500</td>\n",
       "    </tr>\n",
       "    <tr>\n",
       "      <th>95</th>\n",
       "      <td>Sunday</td>\n",
       "      <td>23:00-24:00</td>\n",
       "      <td>2.956800</td>\n",
       "    </tr>\n",
       "  </tbody>\n",
       "</table>\n",
       "<p>168 rows × 3 columns</p>\n",
       "</div>"
      ],
      "text/plain": [
       "       day  hour_period  Avg duration\n",
       "24  Monday  00:00-01:00      1.229250\n",
       "25  Monday  01:00-02:00      0.000000\n",
       "26  Monday  02:00-03:00      0.000000\n",
       "27  Monday  03:00-04:00      0.176800\n",
       "28  Monday  04:00-05:00      0.814625\n",
       "..     ...          ...           ...\n",
       "91  Sunday  19:00-20:00      0.911250\n",
       "92  Sunday  20:00-21:00      1.702267\n",
       "93  Sunday  21:00-22:00      1.263765\n",
       "94  Sunday  22:00-23:00      2.753500\n",
       "95  Sunday  23:00-24:00      2.956800\n",
       "\n",
       "[168 rows x 3 columns]"
      ]
     },
     "execution_count": 138,
     "metadata": {},
     "output_type": "execute_result"
    }
   ],
   "source": [
    "df_rigdeplot"
   ]
  },
  {
   "cell_type": "code",
   "execution_count": 171,
   "metadata": {},
   "outputs": [
    {
     "name": "stdout",
     "output_type": "stream",
     "text": [
      "Wednesday\n",
      "Thursday\n",
      "Thursday\n",
      "{0: [], 1: [], 2: ['00:00-01:00'], 3: ['05:00-06:00', '23:00-24:00'], 4: [], 5: [], 6: []}\n"
     ]
    },
    {
     "data": {
      "application/vnd.plotly.v1+json": {
       "config": {
        "plotlyServerURL": "https://plot.ly"
       },
       "data": [
        {
         "fill": "tozeroy",
         "name": "Monday",
         "type": "scatter",
         "x": [
          "00:00-01:00",
          "01:00-02:00",
          "02:00-03:00",
          "03:00-04:00",
          "04:00-05:00",
          "05:00-06:00",
          "06:00-07:00",
          "07:00-08:00",
          "08:00-09:00",
          "09:00-10:00",
          "10:00-11:00",
          "11:00-12:00",
          "12:00-13:00",
          "13:00-14:00",
          "14:00-15:00",
          "15:00-16:00",
          "16:00-17:00",
          "17:00-18:00",
          "18:00-19:00",
          "19:00-20:00",
          "20:00-21:00",
          "21:00-22:00",
          "22:00-23:00",
          "23:00-24:00"
         ],
         "xaxis": "x",
         "y": [
          1.22925,
          0,
          0,
          0.1768,
          0.814625,
          0,
          1.4943333333333333,
          0.7782307692307693,
          2.2047142857142856,
          1.7892352941176473,
          0.6236666666666667,
          1.672222222222222,
          2.2726818181818182,
          1.6327391304347825,
          0.9510555555555555,
          0.8931764705882353,
          2.0415625,
          1.3022758620689654,
          0.6608823529411766,
          1.1080800000000002,
          0.6304117647058823,
          3.1178571428571433,
          3.8065999999999995,
          3.075
         ],
         "yaxis": "y"
        },
        {
         "fill": "tozeroy",
         "name": "Tuesday",
         "type": "scatter",
         "x": [
          "00:00-01:00",
          "01:00-02:00",
          "02:00-03:00",
          "03:00-04:00",
          "04:00-05:00",
          "05:00-06:00",
          "06:00-07:00",
          "07:00-08:00",
          "08:00-09:00",
          "09:00-10:00",
          "10:00-11:00",
          "11:00-12:00",
          "12:00-13:00",
          "13:00-14:00",
          "14:00-15:00",
          "15:00-16:00",
          "16:00-17:00",
          "17:00-18:00",
          "18:00-19:00",
          "19:00-20:00",
          "20:00-21:00",
          "21:00-22:00",
          "22:00-23:00",
          "23:00-24:00"
         ],
         "xaxis": "x2",
         "y": [
          0,
          0,
          0,
          0.75,
          0.111,
          0.3558333333333333,
          1.25,
          1.3716000000000002,
          2.6843749999999997,
          2.530666666666667,
          1.2590666666666666,
          1.3189333333333333,
          0.5910000000000001,
          1.011111111111111,
          2.4183,
          0.7254782608695652,
          1.2201,
          0.6902499999999999,
          1.2060454545454546,
          1.4847916666666665,
          1.6655333333333333,
          1.6016363636363635,
          1.3454285714285714,
          0
         ],
         "yaxis": "y2"
        },
        {
         "fill": "tozeroy",
         "name": "Wednesday",
         "type": "scatter",
         "x": [
          "00:00-01:00",
          "01:00-02:00",
          "02:00-03:00",
          "03:00-04:00",
          "04:00-05:00",
          "05:00-06:00",
          "06:00-07:00",
          "07:00-08:00",
          "08:00-09:00",
          "09:00-10:00",
          "10:00-11:00",
          "11:00-12:00",
          "12:00-13:00",
          "13:00-14:00",
          "14:00-15:00",
          "15:00-16:00",
          "16:00-17:00",
          "17:00-18:00",
          "18:00-19:00",
          "19:00-20:00",
          "20:00-21:00",
          "21:00-22:00",
          "22:00-23:00",
          "23:00-24:00"
         ],
         "xaxis": "x3",
         "y": [
          3.333,
          0,
          0.608,
          0.27680000000000005,
          2.689166666666667,
          0.1,
          1.375,
          1.0639999999999998,
          1.089625,
          2.8777777777777778,
          3.639066666666667,
          0.8676666666666667,
          1.0923076923076924,
          0.6047619047619047,
          0.9037142857142858,
          1.526892857142857,
          1.4209565217391305,
          0.7793749999999999,
          1.7681666666666667,
          0.8746666666666666,
          1.3084166666666666,
          1.335923076923077,
          2.5022857142857142,
          0
         ],
         "yaxis": "y3"
        },
        {
         "fill": "tozeroy",
         "name": "Thursday",
         "type": "scatter",
         "x": [
          "00:00-01:00",
          "01:00-02:00",
          "02:00-03:00",
          "03:00-04:00",
          "04:00-05:00",
          "05:00-06:00",
          "06:00-07:00",
          "07:00-08:00",
          "08:00-09:00",
          "09:00-10:00",
          "10:00-11:00",
          "11:00-12:00",
          "12:00-13:00",
          "13:00-14:00",
          "14:00-15:00",
          "15:00-16:00",
          "16:00-17:00",
          "17:00-18:00",
          "18:00-19:00",
          "19:00-20:00",
          "20:00-21:00",
          "21:00-22:00",
          "22:00-23:00",
          "23:00-24:00"
         ],
         "xaxis": "x4",
         "y": [
          0,
          0,
          2.5,
          0.389,
          0.22075,
          7.454857142857143,
          0.9433,
          1.573047619047619,
          0.8228947368421052,
          1.3912380952380954,
          0.9268666666666667,
          1.6149499999999999,
          1.299,
          0.47590909090909095,
          1.2297407407407408,
          0.7095238095238094,
          1.50255,
          1.0484285714285715,
          1.0445000000000002,
          0.7925500000000001,
          0.6117,
          1.8209,
          1.4165,
          3.167
         ],
         "yaxis": "y4"
        },
        {
         "fill": "tozeroy",
         "name": "Friday",
         "type": "scatter",
         "x": [
          "00:00-01:00",
          "01:00-02:00",
          "02:00-03:00",
          "03:00-04:00",
          "04:00-05:00",
          "05:00-06:00",
          "06:00-07:00",
          "07:00-08:00",
          "08:00-09:00",
          "09:00-10:00",
          "10:00-11:00",
          "11:00-12:00",
          "12:00-13:00",
          "13:00-14:00",
          "14:00-15:00",
          "15:00-16:00",
          "16:00-17:00",
          "17:00-18:00",
          "18:00-19:00",
          "19:00-20:00",
          "20:00-21:00",
          "21:00-22:00",
          "22:00-23:00",
          "23:00-24:00"
         ],
         "xaxis": "x5",
         "y": [
          0.9886666666666667,
          0,
          0,
          1.5110000000000001,
          0.167,
          4.875,
          1.166625,
          0.9148888888888889,
          1.5278,
          2.237,
          1.5416666666666667,
          1.0547222222222221,
          1.0031818181818182,
          0.37576923076923074,
          1.4579333333333333,
          0.6697272727272727,
          2.7096428571428572,
          0.6970909090909091,
          0.8056666666666666,
          1.177904761904762,
          1.1316842105263156,
          2.0465714285714287,
          1.0771875,
          1.728
         ],
         "yaxis": "y5"
        },
        {
         "fill": "tozeroy",
         "name": "Saturday",
         "type": "scatter",
         "x": [
          "00:00-01:00",
          "01:00-02:00",
          "02:00-03:00",
          "03:00-04:00",
          "04:00-05:00",
          "05:00-06:00",
          "06:00-07:00",
          "07:00-08:00",
          "08:00-09:00",
          "09:00-10:00",
          "10:00-11:00",
          "11:00-12:00",
          "12:00-13:00",
          "13:00-14:00",
          "14:00-15:00",
          "15:00-16:00",
          "16:00-17:00",
          "17:00-18:00",
          "18:00-19:00",
          "19:00-20:00",
          "20:00-21:00",
          "21:00-22:00",
          "22:00-23:00",
          "23:00-24:00"
         ],
         "xaxis": "x6",
         "y": [
          4.505333333333334,
          0.5996666666666667,
          0,
          0.3875,
          0.5248333333333334,
          0,
          2.077363636363636,
          0.8278333333333333,
          1.8751000000000002,
          2.77,
          2.7785,
          0.91072,
          0.994388888888889,
          1.86575,
          1.026142857142857,
          2.685277777777778,
          3.1473333333333335,
          1.0724,
          0.8644090909090909,
          1.2532999999999999,
          1.5935333333333332,
          0.9465789473684211,
          2.5133,
          1.4416
         ],
         "yaxis": "y6"
        },
        {
         "fill": "tozeroy",
         "name": "Sunday",
         "type": "scatter",
         "x": [
          "00:00-01:00",
          "01:00-02:00",
          "02:00-03:00",
          "03:00-04:00",
          "04:00-05:00",
          "05:00-06:00",
          "06:00-07:00",
          "07:00-08:00",
          "08:00-09:00",
          "09:00-10:00",
          "10:00-11:00",
          "11:00-12:00",
          "12:00-13:00",
          "13:00-14:00",
          "14:00-15:00",
          "15:00-16:00",
          "16:00-17:00",
          "17:00-18:00",
          "18:00-19:00",
          "19:00-20:00",
          "20:00-21:00",
          "21:00-22:00",
          "22:00-23:00",
          "23:00-24:00"
         ],
         "xaxis": "x7",
         "y": [
          0.8695,
          0.8170000000000001,
          0.48350000000000004,
          0,
          0.361,
          2.15,
          0,
          1.2779999999999998,
          2.473,
          1.19845,
          1.8179999999999998,
          1.6204444444444444,
          1.6202631578947368,
          1.5382857142857145,
          1.282,
          1.3563157894736841,
          2.974363636363636,
          0.4938857142857143,
          1.8668333333333333,
          0.91125,
          1.7022666666666666,
          1.2637647058823531,
          2.7535,
          2.9568
         ],
         "yaxis": "y7"
        }
       ],
       "layout": {
        "height": 1000,
        "shapes": [
         {
          "layer": "below",
          "line": {
           "color": "Red",
           "width": 20
          },
          "opacity": 0.4,
          "type": "rect",
          "x0": "00:00-01:00",
          "x1": "00:00-01:00",
          "xref": "x3",
          "y0": 0.4,
          "y1": 5,
          "yref": "y3"
         },
         {
          "layer": "below",
          "line": {
           "color": "Red",
           "width": 20
          },
          "opacity": 0.4,
          "type": "rect",
          "x0": "05:00-06:00",
          "x1": "05:00-06:00",
          "xref": "x4",
          "y0": 0.4,
          "y1": 5,
          "yref": "y4"
         },
         {
          "layer": "below",
          "line": {
           "color": "Red",
           "width": 20
          },
          "opacity": 0.4,
          "type": "rect",
          "x0": "23:00-24:00",
          "x1": "23:00-24:00",
          "xref": "x4",
          "y0": 0.4,
          "y1": 5,
          "yref": "y4"
         }
        ],
        "template": {
         "data": {
          "bar": [
           {
            "error_x": {
             "color": "#2a3f5f"
            },
            "error_y": {
             "color": "#2a3f5f"
            },
            "marker": {
             "line": {
              "color": "#E5ECF6",
              "width": 0.5
             },
             "pattern": {
              "fillmode": "overlay",
              "size": 10,
              "solidity": 0.2
             }
            },
            "type": "bar"
           }
          ],
          "barpolar": [
           {
            "marker": {
             "line": {
              "color": "#E5ECF6",
              "width": 0.5
             },
             "pattern": {
              "fillmode": "overlay",
              "size": 10,
              "solidity": 0.2
             }
            },
            "type": "barpolar"
           }
          ],
          "carpet": [
           {
            "aaxis": {
             "endlinecolor": "#2a3f5f",
             "gridcolor": "white",
             "linecolor": "white",
             "minorgridcolor": "white",
             "startlinecolor": "#2a3f5f"
            },
            "baxis": {
             "endlinecolor": "#2a3f5f",
             "gridcolor": "white",
             "linecolor": "white",
             "minorgridcolor": "white",
             "startlinecolor": "#2a3f5f"
            },
            "type": "carpet"
           }
          ],
          "choropleth": [
           {
            "colorbar": {
             "outlinewidth": 0,
             "ticks": ""
            },
            "type": "choropleth"
           }
          ],
          "contour": [
           {
            "colorbar": {
             "outlinewidth": 0,
             "ticks": ""
            },
            "colorscale": [
             [
              0,
              "#0d0887"
             ],
             [
              0.1111111111111111,
              "#46039f"
             ],
             [
              0.2222222222222222,
              "#7201a8"
             ],
             [
              0.3333333333333333,
              "#9c179e"
             ],
             [
              0.4444444444444444,
              "#bd3786"
             ],
             [
              0.5555555555555556,
              "#d8576b"
             ],
             [
              0.6666666666666666,
              "#ed7953"
             ],
             [
              0.7777777777777778,
              "#fb9f3a"
             ],
             [
              0.8888888888888888,
              "#fdca26"
             ],
             [
              1,
              "#f0f921"
             ]
            ],
            "type": "contour"
           }
          ],
          "contourcarpet": [
           {
            "colorbar": {
             "outlinewidth": 0,
             "ticks": ""
            },
            "type": "contourcarpet"
           }
          ],
          "heatmap": [
           {
            "colorbar": {
             "outlinewidth": 0,
             "ticks": ""
            },
            "colorscale": [
             [
              0,
              "#0d0887"
             ],
             [
              0.1111111111111111,
              "#46039f"
             ],
             [
              0.2222222222222222,
              "#7201a8"
             ],
             [
              0.3333333333333333,
              "#9c179e"
             ],
             [
              0.4444444444444444,
              "#bd3786"
             ],
             [
              0.5555555555555556,
              "#d8576b"
             ],
             [
              0.6666666666666666,
              "#ed7953"
             ],
             [
              0.7777777777777778,
              "#fb9f3a"
             ],
             [
              0.8888888888888888,
              "#fdca26"
             ],
             [
              1,
              "#f0f921"
             ]
            ],
            "type": "heatmap"
           }
          ],
          "heatmapgl": [
           {
            "colorbar": {
             "outlinewidth": 0,
             "ticks": ""
            },
            "colorscale": [
             [
              0,
              "#0d0887"
             ],
             [
              0.1111111111111111,
              "#46039f"
             ],
             [
              0.2222222222222222,
              "#7201a8"
             ],
             [
              0.3333333333333333,
              "#9c179e"
             ],
             [
              0.4444444444444444,
              "#bd3786"
             ],
             [
              0.5555555555555556,
              "#d8576b"
             ],
             [
              0.6666666666666666,
              "#ed7953"
             ],
             [
              0.7777777777777778,
              "#fb9f3a"
             ],
             [
              0.8888888888888888,
              "#fdca26"
             ],
             [
              1,
              "#f0f921"
             ]
            ],
            "type": "heatmapgl"
           }
          ],
          "histogram": [
           {
            "marker": {
             "pattern": {
              "fillmode": "overlay",
              "size": 10,
              "solidity": 0.2
             }
            },
            "type": "histogram"
           }
          ],
          "histogram2d": [
           {
            "colorbar": {
             "outlinewidth": 0,
             "ticks": ""
            },
            "colorscale": [
             [
              0,
              "#0d0887"
             ],
             [
              0.1111111111111111,
              "#46039f"
             ],
             [
              0.2222222222222222,
              "#7201a8"
             ],
             [
              0.3333333333333333,
              "#9c179e"
             ],
             [
              0.4444444444444444,
              "#bd3786"
             ],
             [
              0.5555555555555556,
              "#d8576b"
             ],
             [
              0.6666666666666666,
              "#ed7953"
             ],
             [
              0.7777777777777778,
              "#fb9f3a"
             ],
             [
              0.8888888888888888,
              "#fdca26"
             ],
             [
              1,
              "#f0f921"
             ]
            ],
            "type": "histogram2d"
           }
          ],
          "histogram2dcontour": [
           {
            "colorbar": {
             "outlinewidth": 0,
             "ticks": ""
            },
            "colorscale": [
             [
              0,
              "#0d0887"
             ],
             [
              0.1111111111111111,
              "#46039f"
             ],
             [
              0.2222222222222222,
              "#7201a8"
             ],
             [
              0.3333333333333333,
              "#9c179e"
             ],
             [
              0.4444444444444444,
              "#bd3786"
             ],
             [
              0.5555555555555556,
              "#d8576b"
             ],
             [
              0.6666666666666666,
              "#ed7953"
             ],
             [
              0.7777777777777778,
              "#fb9f3a"
             ],
             [
              0.8888888888888888,
              "#fdca26"
             ],
             [
              1,
              "#f0f921"
             ]
            ],
            "type": "histogram2dcontour"
           }
          ],
          "mesh3d": [
           {
            "colorbar": {
             "outlinewidth": 0,
             "ticks": ""
            },
            "type": "mesh3d"
           }
          ],
          "parcoords": [
           {
            "line": {
             "colorbar": {
              "outlinewidth": 0,
              "ticks": ""
             }
            },
            "type": "parcoords"
           }
          ],
          "pie": [
           {
            "automargin": true,
            "type": "pie"
           }
          ],
          "scatter": [
           {
            "marker": {
             "colorbar": {
              "outlinewidth": 0,
              "ticks": ""
             }
            },
            "type": "scatter"
           }
          ],
          "scatter3d": [
           {
            "line": {
             "colorbar": {
              "outlinewidth": 0,
              "ticks": ""
             }
            },
            "marker": {
             "colorbar": {
              "outlinewidth": 0,
              "ticks": ""
             }
            },
            "type": "scatter3d"
           }
          ],
          "scattercarpet": [
           {
            "marker": {
             "colorbar": {
              "outlinewidth": 0,
              "ticks": ""
             }
            },
            "type": "scattercarpet"
           }
          ],
          "scattergeo": [
           {
            "marker": {
             "colorbar": {
              "outlinewidth": 0,
              "ticks": ""
             }
            },
            "type": "scattergeo"
           }
          ],
          "scattergl": [
           {
            "marker": {
             "colorbar": {
              "outlinewidth": 0,
              "ticks": ""
             }
            },
            "type": "scattergl"
           }
          ],
          "scattermapbox": [
           {
            "marker": {
             "colorbar": {
              "outlinewidth": 0,
              "ticks": ""
             }
            },
            "type": "scattermapbox"
           }
          ],
          "scatterpolar": [
           {
            "marker": {
             "colorbar": {
              "outlinewidth": 0,
              "ticks": ""
             }
            },
            "type": "scatterpolar"
           }
          ],
          "scatterpolargl": [
           {
            "marker": {
             "colorbar": {
              "outlinewidth": 0,
              "ticks": ""
             }
            },
            "type": "scatterpolargl"
           }
          ],
          "scatterternary": [
           {
            "marker": {
             "colorbar": {
              "outlinewidth": 0,
              "ticks": ""
             }
            },
            "type": "scatterternary"
           }
          ],
          "surface": [
           {
            "colorbar": {
             "outlinewidth": 0,
             "ticks": ""
            },
            "colorscale": [
             [
              0,
              "#0d0887"
             ],
             [
              0.1111111111111111,
              "#46039f"
             ],
             [
              0.2222222222222222,
              "#7201a8"
             ],
             [
              0.3333333333333333,
              "#9c179e"
             ],
             [
              0.4444444444444444,
              "#bd3786"
             ],
             [
              0.5555555555555556,
              "#d8576b"
             ],
             [
              0.6666666666666666,
              "#ed7953"
             ],
             [
              0.7777777777777778,
              "#fb9f3a"
             ],
             [
              0.8888888888888888,
              "#fdca26"
             ],
             [
              1,
              "#f0f921"
             ]
            ],
            "type": "surface"
           }
          ],
          "table": [
           {
            "cells": {
             "fill": {
              "color": "#EBF0F8"
             },
             "line": {
              "color": "white"
             }
            },
            "header": {
             "fill": {
              "color": "#C8D4E3"
             },
             "line": {
              "color": "white"
             }
            },
            "type": "table"
           }
          ]
         },
         "layout": {
          "annotationdefaults": {
           "arrowcolor": "#2a3f5f",
           "arrowhead": 0,
           "arrowwidth": 1
          },
          "autotypenumbers": "strict",
          "coloraxis": {
           "colorbar": {
            "outlinewidth": 0,
            "ticks": ""
           }
          },
          "colorscale": {
           "diverging": [
            [
             0,
             "#8e0152"
            ],
            [
             0.1,
             "#c51b7d"
            ],
            [
             0.2,
             "#de77ae"
            ],
            [
             0.3,
             "#f1b6da"
            ],
            [
             0.4,
             "#fde0ef"
            ],
            [
             0.5,
             "#f7f7f7"
            ],
            [
             0.6,
             "#e6f5d0"
            ],
            [
             0.7,
             "#b8e186"
            ],
            [
             0.8,
             "#7fbc41"
            ],
            [
             0.9,
             "#4d9221"
            ],
            [
             1,
             "#276419"
            ]
           ],
           "sequential": [
            [
             0,
             "#0d0887"
            ],
            [
             0.1111111111111111,
             "#46039f"
            ],
            [
             0.2222222222222222,
             "#7201a8"
            ],
            [
             0.3333333333333333,
             "#9c179e"
            ],
            [
             0.4444444444444444,
             "#bd3786"
            ],
            [
             0.5555555555555556,
             "#d8576b"
            ],
            [
             0.6666666666666666,
             "#ed7953"
            ],
            [
             0.7777777777777778,
             "#fb9f3a"
            ],
            [
             0.8888888888888888,
             "#fdca26"
            ],
            [
             1,
             "#f0f921"
            ]
           ],
           "sequentialminus": [
            [
             0,
             "#0d0887"
            ],
            [
             0.1111111111111111,
             "#46039f"
            ],
            [
             0.2222222222222222,
             "#7201a8"
            ],
            [
             0.3333333333333333,
             "#9c179e"
            ],
            [
             0.4444444444444444,
             "#bd3786"
            ],
            [
             0.5555555555555556,
             "#d8576b"
            ],
            [
             0.6666666666666666,
             "#ed7953"
            ],
            [
             0.7777777777777778,
             "#fb9f3a"
            ],
            [
             0.8888888888888888,
             "#fdca26"
            ],
            [
             1,
             "#f0f921"
            ]
           ]
          },
          "colorway": [
           "#636efa",
           "#EF553B",
           "#00cc96",
           "#ab63fa",
           "#FFA15A",
           "#19d3f3",
           "#FF6692",
           "#B6E880",
           "#FF97FF",
           "#FECB52"
          ],
          "font": {
           "color": "#2a3f5f"
          },
          "geo": {
           "bgcolor": "white",
           "lakecolor": "white",
           "landcolor": "#E5ECF6",
           "showlakes": true,
           "showland": true,
           "subunitcolor": "white"
          },
          "hoverlabel": {
           "align": "left"
          },
          "hovermode": "closest",
          "mapbox": {
           "style": "light"
          },
          "paper_bgcolor": "white",
          "plot_bgcolor": "#E5ECF6",
          "polar": {
           "angularaxis": {
            "gridcolor": "white",
            "linecolor": "white",
            "ticks": ""
           },
           "bgcolor": "#E5ECF6",
           "radialaxis": {
            "gridcolor": "white",
            "linecolor": "white",
            "ticks": ""
           }
          },
          "scene": {
           "xaxis": {
            "backgroundcolor": "#E5ECF6",
            "gridcolor": "white",
            "gridwidth": 2,
            "linecolor": "white",
            "showbackground": true,
            "ticks": "",
            "zerolinecolor": "white"
           },
           "yaxis": {
            "backgroundcolor": "#E5ECF6",
            "gridcolor": "white",
            "gridwidth": 2,
            "linecolor": "white",
            "showbackground": true,
            "ticks": "",
            "zerolinecolor": "white"
           },
           "zaxis": {
            "backgroundcolor": "#E5ECF6",
            "gridcolor": "white",
            "gridwidth": 2,
            "linecolor": "white",
            "showbackground": true,
            "ticks": "",
            "zerolinecolor": "white"
           }
          },
          "shapedefaults": {
           "line": {
            "color": "#2a3f5f"
           }
          },
          "ternary": {
           "aaxis": {
            "gridcolor": "white",
            "linecolor": "white",
            "ticks": ""
           },
           "baxis": {
            "gridcolor": "white",
            "linecolor": "white",
            "ticks": ""
           },
           "bgcolor": "#E5ECF6",
           "caxis": {
            "gridcolor": "white",
            "linecolor": "white",
            "ticks": ""
           }
          },
          "title": {
           "x": 0.05
          },
          "xaxis": {
           "automargin": true,
           "gridcolor": "white",
           "linecolor": "white",
           "ticks": "",
           "title": {
            "standoff": 15
           },
           "zerolinecolor": "white",
           "zerolinewidth": 2
          },
          "yaxis": {
           "automargin": true,
           "gridcolor": "white",
           "linecolor": "white",
           "ticks": "",
           "title": {
            "standoff": 15
           },
           "zerolinecolor": "white",
           "zerolinewidth": 2
          }
         }
        },
        "title": {
         "text": "Stacked Subplots"
        },
        "xaxis": {
         "anchor": "y",
         "domain": [
          0,
          1
         ],
         "matches": "x7",
         "showticklabels": false
        },
        "xaxis2": {
         "anchor": "y2",
         "domain": [
          0,
          1
         ],
         "matches": "x7",
         "showticklabels": false
        },
        "xaxis3": {
         "anchor": "y3",
         "domain": [
          0,
          1
         ],
         "matches": "x7",
         "showticklabels": false
        },
        "xaxis4": {
         "anchor": "y4",
         "domain": [
          0,
          1
         ],
         "matches": "x7",
         "showticklabels": false
        },
        "xaxis5": {
         "anchor": "y5",
         "domain": [
          0,
          1
         ],
         "matches": "x7",
         "showticklabels": false
        },
        "xaxis6": {
         "anchor": "y6",
         "domain": [
          0,
          1
         ],
         "matches": "x7",
         "showticklabels": false
        },
        "xaxis7": {
         "anchor": "y7",
         "domain": [
          0,
          1
         ]
        },
        "yaxis": {
         "anchor": "x",
         "domain": [
          0.8938775510204082,
          1
         ],
         "showgrid": false
        },
        "yaxis2": {
         "anchor": "x2",
         "domain": [
          0.7448979591836735,
          0.8510204081632654
         ],
         "showgrid": false
        },
        "yaxis3": {
         "anchor": "x3",
         "domain": [
          0.5959183673469388,
          0.7020408163265307
         ],
         "showgrid": false
        },
        "yaxis4": {
         "anchor": "x4",
         "domain": [
          0.4469387755102041,
          0.553061224489796
         ],
         "showgrid": false
        },
        "yaxis5": {
         "anchor": "x5",
         "domain": [
          0.2979591836734694,
          0.40408163265306124
         ],
         "showgrid": false
        },
        "yaxis6": {
         "anchor": "x6",
         "domain": [
          0.1489795918367347,
          0.25510204081632654
         ],
         "showgrid": false
        },
        "yaxis7": {
         "anchor": "x7",
         "domain": [
          0,
          0.10612244897959185
         ],
         "showgrid": false
        }
       }
      }
     },
     "metadata": {},
     "output_type": "display_data"
    }
   ],
   "source": [
    "from plotly.subplots import make_subplots\n",
    "import plotly.graph_objects as go\n",
    "\n",
    "fig = make_subplots(rows=7, cols=1, shared_xaxes=True, shared_yaxes=True)\n",
    "xpoints = {}\n",
    "\n",
    "for i, day in enumerate(df_rigdeplot.day.unique()):\n",
    "    periods = []\n",
    "    df = df_rigdeplot[(df_rigdeplot.day == day)]\n",
    "    fig.add_trace(go.Scatter(x=df['hour_period'].astype(dtype=str), \n",
    "                            y=df['Avg duration'], fill='tozeroy',  name=day),\n",
    "            row=i+1, col=1)\n",
    "\n",
    "    for period in df.hour_period.unique():\n",
    "\n",
    "        extreme_dur = high[(high.day == days[i]) & (high.hour_period == period)]['Avg duration'].values[0]\n",
    "        \n",
    "        duration = df[df.hour_period ==  period]['Avg duration'].values[0]\n",
    "\n",
    "        if (extreme_dur > 0) & (duration > 0):\n",
    "\n",
    "            if (duration >= extreme_dur):\n",
    "                periods.append(period)\n",
    "\n",
    "    xpoints[i] = periods\n",
    "\n",
    "\n",
    "shapes_lst = []\n",
    "\n",
    "for i, vals in xpoints.items():\n",
    "    if len(vals) > 0:\n",
    "        for val in vals:\n",
    "            if i == 0:\n",
    "                shapes_lst.append(dict(type='rect', xref='x', yref='y',\n",
    "                        x0=val, x1=val, y0=0.4, y1=5, line=dict(\n",
    "                                    color=\"Red\",\n",
    "                                    width=20,\n",
    "                                ), opacity=0.4, line_width=1, layer='below'))    \n",
    "            else:\n",
    "                shapes_lst.append(dict(type='rect', xref=f'x{i+1}', yref=f'y{i+1}',\n",
    "                            x0=val, x1=val, y0=0.4, y1=5, line=dict(\n",
    "                                    color=\"Red\",\n",
    "                                    width=10,\n",
    "                                ), opacity=0.4, line_width=20, layer='below'))\n",
    "\n",
    "fig.update_layout(\n",
    "        shapes=shapes_lst, height=1000, title_text=\"Stacked Subplots\"\n",
    ")\n",
    "\n",
    "fig.for_each_yaxis(lambda x: x.update(showgrid=False))\n",
    "fig.show()\n"
   ]
  },
  {
   "cell_type": "code",
   "execution_count": null,
   "metadata": {},
   "outputs": [],
   "source": []
  }
 ],
 "metadata": {
  "kernelspec": {
   "display_name": "Python 3",
   "language": "python",
   "name": "python3"
  },
  "language_info": {
   "codemirror_mode": {
    "name": "ipython",
    "version": 3
   },
   "file_extension": ".py",
   "mimetype": "text/x-python",
   "name": "python",
   "nbconvert_exporter": "python",
   "pygments_lexer": "ipython3",
   "version": "3.9.8"
  }
 },
 "nbformat": 4,
 "nbformat_minor": 4
}
