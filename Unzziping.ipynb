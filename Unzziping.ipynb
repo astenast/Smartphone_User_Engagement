{
 "cells": [
  {
   "cell_type": "code",
   "execution_count": 8,
   "id": "27cc04d9",
   "metadata": {},
   "outputs": [],
   "source": [
    "import pandas as pd\n",
    "import os\n",
    "import zipfile"
   ]
  },
  {
   "cell_type": "code",
   "execution_count": 6,
   "id": "4700b30e",
   "metadata": {},
   "outputs": [],
   "source": [
    "fileName = 'data_for_AsteriosIlektra.zip'\n",
    "filePath = os.path.abspath(os.path.join(os.getcwd(), fileName))"
   ]
  },
  {
   "cell_type": "code",
   "execution_count": 11,
   "id": "c39209b6",
   "metadata": {},
   "outputs": [],
   "source": [
    "with zipfile.ZipFile(filePath, 'r') as zip_ref:\n",
    "    zip_ref.extractall()"
   ]
  },
  {
   "cell_type": "code",
   "execution_count": null,
   "id": "06c17d94",
   "metadata": {},
   "outputs": [],
   "source": []
  }
 ],
 "metadata": {
  "kernelspec": {
   "display_name": "Python 3 (ipykernel)",
   "language": "python",
   "name": "python3"
  },
  "language_info": {
   "codemirror_mode": {
    "name": "ipython",
    "version": 3
   },
   "file_extension": ".py",
   "mimetype": "text/x-python",
   "name": "python",
   "nbconvert_exporter": "python",
   "pygments_lexer": "ipython3",
   "version": "3.9.7"
  }
 },
 "nbformat": 4,
 "nbformat_minor": 5
}
